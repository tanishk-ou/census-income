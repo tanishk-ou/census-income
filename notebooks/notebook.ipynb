{
 "cells": [
  {
   "cell_type": "markdown",
   "id": "4c92692b-9d7f-4788-a6dd-7400f27dfd3a",
   "metadata": {},
   "source": [
    "## Note on Execution Counts and Kernel Restart\n",
    "\n",
    "During the course of this project, I encountered an issue with my Jupyter Notebook. After numerous iterations and extensive experimentation (reaching execution counts in the range of 300), my laptop slowed down significantly. Some cells, indicated by a `[*]` symbol, were not completing their execution. This issue persisted even for basic operations like importing libraries. The last completed cell having execution count of 358, the cell being just the one before going for hypertuning of models i.e. the one before importing GridSearchCV and after that cell's execution, my laptop slowed down and the cells weren't being executed. I tried saving the file and reopening it but it was still happening so I restarted the whole thing and started again from command prompt. \n",
    "\n",
    "To resolve this, I had to restart the Jupyter kernel. Consequently, the execution counts of all cells were reset. Therefore, the current execution counts might appear lower than expected, typically starting from 1 or 2 after the restart. \n",
    "\n",
    "Please note that the extensive work done to preprocess, feature engineer, and fine-tune models has been preserved, but the cell execution counts do not reflect the initial high numbers due to the kernel restart.\n",
    "\n",
    "This project involved thorough and iterative attempts to improve the model, which is why the initial execution counts reached such high numbers before the restart was necessary.\n",
    "\n",
    "This restart changed the accuracy levels a little bit but there was no significant change.\n",
    "\n",
    "\n",
    "Re-Edit :- Turns out that if the laptop powers off (not sleep, just power off or battery 0), it will disconnect the kernel and I have to restart jupyter notebook to re-connect it which is probably what happened previously too (written above although might not be due to the reason wrote above). So as of now, hyperparameter tuning has been done for Random Forest and Gradient Boosting. I have decided to not do hypertuning for Support Vector Machines, the time consumption is a lot and the accuracy difference between Gradient Boosting and Support Vector Machines is already very much and even after hypertuning, it probalby won't be able to overcome that. I was interested to see the accuracy increase in SVM but sadly it takes too long and it's probably not even worth it. (If you are doing this on some online platform which doesn't depend on your laptop's specifications, then it might take less time and thus, be worth it)"
   ]
  },
  {
   "cell_type": "markdown",
   "id": "4da06131-0d00-4092-8af9-640fad7f8382",
   "metadata": {},
   "source": [
    "# Libraries"
   ]
  },
  {
   "cell_type": "code",
   "execution_count": 28,
   "id": "ba70a9ca-8265-47cd-8031-3b0f24a53084",
   "metadata": {},
   "outputs": [],
   "source": [
    "import pandas as pd\n",
    "import numpy as np\n",
    "import warnings\n",
    "from sklearn.impute import SimpleImputer\n",
    "import seaborn as sms\n",
    "import matplotlib.pyplot as plt\n",
    "import joblib\n",
    "from joblib import dump\n",
    "warnings.filterwarnings('ignore')"
   ]
  },
  {
   "cell_type": "code",
   "execution_count": 24,
   "id": "b618c0c3-f17c-409e-8773-3e880fc4490b",
   "metadata": {},
   "outputs": [],
   "source": [
    "from sklearn.model_selection import train_test_split, cross_val_score\n",
    "from sklearn.metrics import accuracy_score"
   ]
  },
  {
   "cell_type": "code",
   "execution_count": 25,
   "id": "bef0ee9f-4fbf-42d2-8364-59daeecf41e7",
   "metadata": {},
   "outputs": [],
   "source": [
    "from sklearn.ensemble import RandomForestClassifier"
   ]
  },
  {
   "cell_type": "code",
   "execution_count": 26,
   "id": "2a0df12e-e2bc-4b98-b913-70b91d19a67e",
   "metadata": {},
   "outputs": [],
   "source": [
    "from sklearn.preprocessing import LabelEncoder, StandardScaler"
   ]
  },
  {
   "cell_type": "markdown",
   "id": "489b969e-e2e5-4f25-a64b-f0dce7cf5ec3",
   "metadata": {},
   "source": [
    "# Dataset"
   ]
  },
  {
   "cell_type": "code",
   "execution_count": 5,
   "id": "37135b88-5fce-420c-8d2e-05efe482f8fe",
   "metadata": {},
   "outputs": [],
   "source": [
    "temp = pd.read_csv(\"adult.data\", skipinitialspace = True)"
   ]
  },
  {
   "cell_type": "code",
   "execution_count": 6,
   "id": "7446a1ef-b912-4bc7-bff0-60fe76d1ad59",
   "metadata": {},
   "outputs": [],
   "source": [
    "temp1 = pd.read_csv(\"adult.test\", skipinitialspace = True)"
   ]
  },
  {
   "cell_type": "code",
   "execution_count": 33,
   "id": "996e570d-f035-47e5-ab52-30a0f7a77bf1",
   "metadata": {},
   "outputs": [],
   "source": [
    "dataset = pd.concat([temp, temp1], axis = 0, ignore_index = True)"
   ]
  },
  {
   "cell_type": "markdown",
   "id": "6c57b2aa-79fb-4ff6-9761-9b16ba3c4e14",
   "metadata": {},
   "source": [
    "#### Dataset shown for reference"
   ]
  },
  {
   "cell_type": "code",
   "execution_count": 36,
   "id": "17c74e41-f200-42eb-9406-c6198f106356",
   "metadata": {},
   "outputs": [
    {
     "data": {
      "text/html": [
       "<div>\n",
       "<style scoped>\n",
       "    .dataframe tbody tr th:only-of-type {\n",
       "        vertical-align: middle;\n",
       "    }\n",
       "\n",
       "    .dataframe tbody tr th {\n",
       "        vertical-align: top;\n",
       "    }\n",
       "\n",
       "    .dataframe thead th {\n",
       "        text-align: right;\n",
       "    }\n",
       "</style>\n",
       "<table border=\"1\" class=\"dataframe\">\n",
       "  <thead>\n",
       "    <tr style=\"text-align: right;\">\n",
       "      <th></th>\n",
       "      <th>age</th>\n",
       "      <th>workclass</th>\n",
       "      <th>fnlwgt</th>\n",
       "      <th>education</th>\n",
       "      <th>education-num</th>\n",
       "      <th>marital-status</th>\n",
       "      <th>occupation</th>\n",
       "      <th>relationship</th>\n",
       "      <th>race</th>\n",
       "      <th>sex</th>\n",
       "      <th>capital-gain</th>\n",
       "      <th>capital-loss</th>\n",
       "      <th>hours-per-week</th>\n",
       "      <th>native-country</th>\n",
       "      <th>income</th>\n",
       "    </tr>\n",
       "  </thead>\n",
       "  <tbody>\n",
       "    <tr>\n",
       "      <th>0</th>\n",
       "      <td>39</td>\n",
       "      <td>State-gov</td>\n",
       "      <td>77516</td>\n",
       "      <td>Bachelors</td>\n",
       "      <td>13</td>\n",
       "      <td>Never-married</td>\n",
       "      <td>Adm-clerical</td>\n",
       "      <td>Not-in-family</td>\n",
       "      <td>White</td>\n",
       "      <td>Male</td>\n",
       "      <td>2174</td>\n",
       "      <td>0</td>\n",
       "      <td>40</td>\n",
       "      <td>United-States</td>\n",
       "      <td>&lt;=50K</td>\n",
       "    </tr>\n",
       "    <tr>\n",
       "      <th>1</th>\n",
       "      <td>50</td>\n",
       "      <td>Self-emp-not-inc</td>\n",
       "      <td>83311</td>\n",
       "      <td>Bachelors</td>\n",
       "      <td>13</td>\n",
       "      <td>Married-civ-spouse</td>\n",
       "      <td>Exec-managerial</td>\n",
       "      <td>Husband</td>\n",
       "      <td>White</td>\n",
       "      <td>Male</td>\n",
       "      <td>0</td>\n",
       "      <td>0</td>\n",
       "      <td>13</td>\n",
       "      <td>United-States</td>\n",
       "      <td>&lt;=50K</td>\n",
       "    </tr>\n",
       "    <tr>\n",
       "      <th>2</th>\n",
       "      <td>38</td>\n",
       "      <td>Private</td>\n",
       "      <td>215646</td>\n",
       "      <td>HS-grad</td>\n",
       "      <td>9</td>\n",
       "      <td>Divorced</td>\n",
       "      <td>Handlers-cleaners</td>\n",
       "      <td>Not-in-family</td>\n",
       "      <td>White</td>\n",
       "      <td>Male</td>\n",
       "      <td>0</td>\n",
       "      <td>0</td>\n",
       "      <td>40</td>\n",
       "      <td>United-States</td>\n",
       "      <td>&lt;=50K</td>\n",
       "    </tr>\n",
       "    <tr>\n",
       "      <th>3</th>\n",
       "      <td>53</td>\n",
       "      <td>Private</td>\n",
       "      <td>234721</td>\n",
       "      <td>11th</td>\n",
       "      <td>7</td>\n",
       "      <td>Married-civ-spouse</td>\n",
       "      <td>Handlers-cleaners</td>\n",
       "      <td>Husband</td>\n",
       "      <td>Black</td>\n",
       "      <td>Male</td>\n",
       "      <td>0</td>\n",
       "      <td>0</td>\n",
       "      <td>40</td>\n",
       "      <td>United-States</td>\n",
       "      <td>&lt;=50K</td>\n",
       "    </tr>\n",
       "    <tr>\n",
       "      <th>4</th>\n",
       "      <td>28</td>\n",
       "      <td>Private</td>\n",
       "      <td>338409</td>\n",
       "      <td>Bachelors</td>\n",
       "      <td>13</td>\n",
       "      <td>Married-civ-spouse</td>\n",
       "      <td>Prof-specialty</td>\n",
       "      <td>Wife</td>\n",
       "      <td>Black</td>\n",
       "      <td>Female</td>\n",
       "      <td>0</td>\n",
       "      <td>0</td>\n",
       "      <td>40</td>\n",
       "      <td>Cuba</td>\n",
       "      <td>&lt;=50K</td>\n",
       "    </tr>\n",
       "    <tr>\n",
       "      <th>...</th>\n",
       "      <td>...</td>\n",
       "      <td>...</td>\n",
       "      <td>...</td>\n",
       "      <td>...</td>\n",
       "      <td>...</td>\n",
       "      <td>...</td>\n",
       "      <td>...</td>\n",
       "      <td>...</td>\n",
       "      <td>...</td>\n",
       "      <td>...</td>\n",
       "      <td>...</td>\n",
       "      <td>...</td>\n",
       "      <td>...</td>\n",
       "      <td>...</td>\n",
       "      <td>...</td>\n",
       "    </tr>\n",
       "    <tr>\n",
       "      <th>48837</th>\n",
       "      <td>39</td>\n",
       "      <td>Private</td>\n",
       "      <td>215419</td>\n",
       "      <td>Bachelors</td>\n",
       "      <td>13</td>\n",
       "      <td>Divorced</td>\n",
       "      <td>Prof-specialty</td>\n",
       "      <td>Not-in-family</td>\n",
       "      <td>White</td>\n",
       "      <td>Female</td>\n",
       "      <td>0</td>\n",
       "      <td>0</td>\n",
       "      <td>36</td>\n",
       "      <td>United-States</td>\n",
       "      <td>&lt;=50K.</td>\n",
       "    </tr>\n",
       "    <tr>\n",
       "      <th>48838</th>\n",
       "      <td>64</td>\n",
       "      <td>?</td>\n",
       "      <td>321403</td>\n",
       "      <td>HS-grad</td>\n",
       "      <td>9</td>\n",
       "      <td>Widowed</td>\n",
       "      <td>?</td>\n",
       "      <td>Other-relative</td>\n",
       "      <td>Black</td>\n",
       "      <td>Male</td>\n",
       "      <td>0</td>\n",
       "      <td>0</td>\n",
       "      <td>40</td>\n",
       "      <td>United-States</td>\n",
       "      <td>&lt;=50K.</td>\n",
       "    </tr>\n",
       "    <tr>\n",
       "      <th>48839</th>\n",
       "      <td>38</td>\n",
       "      <td>Private</td>\n",
       "      <td>374983</td>\n",
       "      <td>Bachelors</td>\n",
       "      <td>13</td>\n",
       "      <td>Married-civ-spouse</td>\n",
       "      <td>Prof-specialty</td>\n",
       "      <td>Husband</td>\n",
       "      <td>White</td>\n",
       "      <td>Male</td>\n",
       "      <td>0</td>\n",
       "      <td>0</td>\n",
       "      <td>50</td>\n",
       "      <td>United-States</td>\n",
       "      <td>&lt;=50K.</td>\n",
       "    </tr>\n",
       "    <tr>\n",
       "      <th>48840</th>\n",
       "      <td>44</td>\n",
       "      <td>Private</td>\n",
       "      <td>83891</td>\n",
       "      <td>Bachelors</td>\n",
       "      <td>13</td>\n",
       "      <td>Divorced</td>\n",
       "      <td>Adm-clerical</td>\n",
       "      <td>Own-child</td>\n",
       "      <td>Asian-Pac-Islander</td>\n",
       "      <td>Male</td>\n",
       "      <td>5455</td>\n",
       "      <td>0</td>\n",
       "      <td>40</td>\n",
       "      <td>United-States</td>\n",
       "      <td>&lt;=50K.</td>\n",
       "    </tr>\n",
       "    <tr>\n",
       "      <th>48841</th>\n",
       "      <td>35</td>\n",
       "      <td>Self-emp-inc</td>\n",
       "      <td>182148</td>\n",
       "      <td>Bachelors</td>\n",
       "      <td>13</td>\n",
       "      <td>Married-civ-spouse</td>\n",
       "      <td>Exec-managerial</td>\n",
       "      <td>Husband</td>\n",
       "      <td>White</td>\n",
       "      <td>Male</td>\n",
       "      <td>0</td>\n",
       "      <td>0</td>\n",
       "      <td>60</td>\n",
       "      <td>United-States</td>\n",
       "      <td>&gt;50K.</td>\n",
       "    </tr>\n",
       "  </tbody>\n",
       "</table>\n",
       "<p>48842 rows × 15 columns</p>\n",
       "</div>"
      ],
      "text/plain": [
       "       age         workclass  fnlwgt  education  education-num  \\\n",
       "0       39         State-gov   77516  Bachelors             13   \n",
       "1       50  Self-emp-not-inc   83311  Bachelors             13   \n",
       "2       38           Private  215646    HS-grad              9   \n",
       "3       53           Private  234721       11th              7   \n",
       "4       28           Private  338409  Bachelors             13   \n",
       "...    ...               ...     ...        ...            ...   \n",
       "48837   39           Private  215419  Bachelors             13   \n",
       "48838   64                 ?  321403    HS-grad              9   \n",
       "48839   38           Private  374983  Bachelors             13   \n",
       "48840   44           Private   83891  Bachelors             13   \n",
       "48841   35      Self-emp-inc  182148  Bachelors             13   \n",
       "\n",
       "           marital-status         occupation    relationship  \\\n",
       "0           Never-married       Adm-clerical   Not-in-family   \n",
       "1      Married-civ-spouse    Exec-managerial         Husband   \n",
       "2                Divorced  Handlers-cleaners   Not-in-family   \n",
       "3      Married-civ-spouse  Handlers-cleaners         Husband   \n",
       "4      Married-civ-spouse     Prof-specialty            Wife   \n",
       "...                   ...                ...             ...   \n",
       "48837            Divorced     Prof-specialty   Not-in-family   \n",
       "48838             Widowed                  ?  Other-relative   \n",
       "48839  Married-civ-spouse     Prof-specialty         Husband   \n",
       "48840            Divorced       Adm-clerical       Own-child   \n",
       "48841  Married-civ-spouse    Exec-managerial         Husband   \n",
       "\n",
       "                     race     sex  capital-gain  capital-loss  hours-per-week  \\\n",
       "0                   White    Male          2174             0              40   \n",
       "1                   White    Male             0             0              13   \n",
       "2                   White    Male             0             0              40   \n",
       "3                   Black    Male             0             0              40   \n",
       "4                   Black  Female             0             0              40   \n",
       "...                   ...     ...           ...           ...             ...   \n",
       "48837               White  Female             0             0              36   \n",
       "48838               Black    Male             0             0              40   \n",
       "48839               White    Male             0             0              50   \n",
       "48840  Asian-Pac-Islander    Male          5455             0              40   \n",
       "48841               White    Male             0             0              60   \n",
       "\n",
       "      native-country  income  \n",
       "0      United-States   <=50K  \n",
       "1      United-States   <=50K  \n",
       "2      United-States   <=50K  \n",
       "3      United-States   <=50K  \n",
       "4               Cuba   <=50K  \n",
       "...              ...     ...  \n",
       "48837  United-States  <=50K.  \n",
       "48838  United-States  <=50K.  \n",
       "48839  United-States  <=50K.  \n",
       "48840  United-States  <=50K.  \n",
       "48841  United-States   >50K.  \n",
       "\n",
       "[48842 rows x 15 columns]"
      ]
     },
     "execution_count": 36,
     "metadata": {},
     "output_type": "execute_result"
    }
   ],
   "source": [
    "dataset"
   ]
  },
  {
   "cell_type": "markdown",
   "id": "49c30bdb-4d88-41bc-ab72-0352281cbf23",
   "metadata": {},
   "source": [
    "#### -> Occupation, native country and workclass had missing values\n",
    "#### -> native country was fixed by replacing missing value (\"?\") by United-States since that was the most frequent country in each race\n",
    "#### -> Occupation where workclass was \"Never-worked\" was set to \"Never-worked\"\n",
    "#### -> Rest of the occupation and workclass were added with the help of Random Forest Model\n",
    "#### -> Some features which might be related with occupation (despite being controversial) were given to the model to predict occupation\n",
    "#### -> Since workclass can not be tied to any of the given columns completely, full dataset was used to predict the missing values\n",
    "#### -> 'education' column has been left out since 'education-num' is just the same thing\n",
    "#### -> 'income' column was converted to a binary column with -1 and 1 values\n",
    "#### -> The label encoder and standard scaler models were saved with joblib to use them to scale data if any new data was to be added"
   ]
  },
  {
   "cell_type": "code",
   "execution_count": 9,
   "id": "1d90dc0c-7a2b-4d40-8839-58850f9b152b",
   "metadata": {},
   "outputs": [
    {
     "data": {
      "text/plain": [
       "['standard_scaler.pkl']"
      ]
     },
     "execution_count": 9,
     "metadata": {},
     "output_type": "execute_result"
    }
   ],
   "source": [
    "dataset.loc[(dataset['income'] == \"<=50K\") | (dataset['income'] == \"<=50K.\"), 'income'] = -1\n",
    "dataset.loc[(dataset['income'] == \">50K\") | (dataset['income'] == \">50K.\"), 'income'] = 1\n",
    "dataset.loc[(dataset['workclass'] == \"Never-worked\"), 'occupation'] = \"Never-worked\"\n",
    "dataset.loc[(dataset['native-country'] == '?'), 'native-country'] = \"United-States\"\n",
    "categorical = ['marital-status', 'relationship', 'race', 'sex', 'native-country']\n",
    "numerical = ['age', 'fnlwgt', 'education-num', 'capital-gain', 'capital-loss', 'hours-per-week']\n",
    "label = {}\n",
    "ss = StandardScaler()\n",
    "for col in categorical:\n",
    "    le = LabelEncoder()\n",
    "    dataset[col] = le.fit_transform(dataset[col])\n",
    "    label[col] = le\n",
    "\n",
    "dataset[numerical] = ss.fit_transform(dataset[numerical])\n",
    "\n",
    "for col, le in label.items():\n",
    "    joblib.dump(le, f'{col}_label_encoder.pkl')\n",
    "joblib.dump(ss, 'standard_scaler.pkl')"
   ]
  },
  {
   "cell_type": "code",
   "execution_count": 10,
   "id": "c80dbe65-31c3-4281-ac67-17de89bf9a7d",
   "metadata": {},
   "outputs": [],
   "source": [
    "dataset_no_missing = dataset[(dataset['occupation'] != '?') & (dataset['workclass'] != '?')]\n",
    "dataset_missing = dataset[(dataset['occupation'] == '?') | (dataset['workclass'] == '?')]"
   ]
  },
  {
   "cell_type": "code",
   "execution_count": 11,
   "id": "17c1b6f4-2200-41a1-a0fd-13fdbff398b1",
   "metadata": {},
   "outputs": [],
   "source": [
    "categorical1 = ['workclass', 'occupation']\n",
    "for col in categorical1:\n",
    "    le = LabelEncoder()\n",
    "    dataset_no_missing[col] = le.fit_transform(dataset_no_missing[col])\n",
    "    joblib.dump(le, f'{col}_label_encoder.pkl')"
   ]
  },
  {
   "cell_type": "code",
   "execution_count": 12,
   "id": "32bc31f9-2d29-4fb1-b283-5e5f201286e6",
   "metadata": {},
   "outputs": [
    {
     "data": {
      "text/html": [
       "<style>#sk-container-id-1 {\n",
       "  /* Definition of color scheme common for light and dark mode */\n",
       "  --sklearn-color-text: black;\n",
       "  --sklearn-color-line: gray;\n",
       "  /* Definition of color scheme for unfitted estimators */\n",
       "  --sklearn-color-unfitted-level-0: #fff5e6;\n",
       "  --sklearn-color-unfitted-level-1: #f6e4d2;\n",
       "  --sklearn-color-unfitted-level-2: #ffe0b3;\n",
       "  --sklearn-color-unfitted-level-3: chocolate;\n",
       "  /* Definition of color scheme for fitted estimators */\n",
       "  --sklearn-color-fitted-level-0: #f0f8ff;\n",
       "  --sklearn-color-fitted-level-1: #d4ebff;\n",
       "  --sklearn-color-fitted-level-2: #b3dbfd;\n",
       "  --sklearn-color-fitted-level-3: cornflowerblue;\n",
       "\n",
       "  /* Specific color for light theme */\n",
       "  --sklearn-color-text-on-default-background: var(--sg-text-color, var(--theme-code-foreground, var(--jp-content-font-color1, black)));\n",
       "  --sklearn-color-background: var(--sg-background-color, var(--theme-background, var(--jp-layout-color0, white)));\n",
       "  --sklearn-color-border-box: var(--sg-text-color, var(--theme-code-foreground, var(--jp-content-font-color1, black)));\n",
       "  --sklearn-color-icon: #696969;\n",
       "\n",
       "  @media (prefers-color-scheme: dark) {\n",
       "    /* Redefinition of color scheme for dark theme */\n",
       "    --sklearn-color-text-on-default-background: var(--sg-text-color, var(--theme-code-foreground, var(--jp-content-font-color1, white)));\n",
       "    --sklearn-color-background: var(--sg-background-color, var(--theme-background, var(--jp-layout-color0, #111)));\n",
       "    --sklearn-color-border-box: var(--sg-text-color, var(--theme-code-foreground, var(--jp-content-font-color1, white)));\n",
       "    --sklearn-color-icon: #878787;\n",
       "  }\n",
       "}\n",
       "\n",
       "#sk-container-id-1 {\n",
       "  color: var(--sklearn-color-text);\n",
       "}\n",
       "\n",
       "#sk-container-id-1 pre {\n",
       "  padding: 0;\n",
       "}\n",
       "\n",
       "#sk-container-id-1 input.sk-hidden--visually {\n",
       "  border: 0;\n",
       "  clip: rect(1px 1px 1px 1px);\n",
       "  clip: rect(1px, 1px, 1px, 1px);\n",
       "  height: 1px;\n",
       "  margin: -1px;\n",
       "  overflow: hidden;\n",
       "  padding: 0;\n",
       "  position: absolute;\n",
       "  width: 1px;\n",
       "}\n",
       "\n",
       "#sk-container-id-1 div.sk-dashed-wrapped {\n",
       "  border: 1px dashed var(--sklearn-color-line);\n",
       "  margin: 0 0.4em 0.5em 0.4em;\n",
       "  box-sizing: border-box;\n",
       "  padding-bottom: 0.4em;\n",
       "  background-color: var(--sklearn-color-background);\n",
       "}\n",
       "\n",
       "#sk-container-id-1 div.sk-container {\n",
       "  /* jupyter's `normalize.less` sets `[hidden] { display: none; }`\n",
       "     but bootstrap.min.css set `[hidden] { display: none !important; }`\n",
       "     so we also need the `!important` here to be able to override the\n",
       "     default hidden behavior on the sphinx rendered scikit-learn.org.\n",
       "     See: https://github.com/scikit-learn/scikit-learn/issues/21755 */\n",
       "  display: inline-block !important;\n",
       "  position: relative;\n",
       "}\n",
       "\n",
       "#sk-container-id-1 div.sk-text-repr-fallback {\n",
       "  display: none;\n",
       "}\n",
       "\n",
       "div.sk-parallel-item,\n",
       "div.sk-serial,\n",
       "div.sk-item {\n",
       "  /* draw centered vertical line to link estimators */\n",
       "  background-image: linear-gradient(var(--sklearn-color-text-on-default-background), var(--sklearn-color-text-on-default-background));\n",
       "  background-size: 2px 100%;\n",
       "  background-repeat: no-repeat;\n",
       "  background-position: center center;\n",
       "}\n",
       "\n",
       "/* Parallel-specific style estimator block */\n",
       "\n",
       "#sk-container-id-1 div.sk-parallel-item::after {\n",
       "  content: \"\";\n",
       "  width: 100%;\n",
       "  border-bottom: 2px solid var(--sklearn-color-text-on-default-background);\n",
       "  flex-grow: 1;\n",
       "}\n",
       "\n",
       "#sk-container-id-1 div.sk-parallel {\n",
       "  display: flex;\n",
       "  align-items: stretch;\n",
       "  justify-content: center;\n",
       "  background-color: var(--sklearn-color-background);\n",
       "  position: relative;\n",
       "}\n",
       "\n",
       "#sk-container-id-1 div.sk-parallel-item {\n",
       "  display: flex;\n",
       "  flex-direction: column;\n",
       "}\n",
       "\n",
       "#sk-container-id-1 div.sk-parallel-item:first-child::after {\n",
       "  align-self: flex-end;\n",
       "  width: 50%;\n",
       "}\n",
       "\n",
       "#sk-container-id-1 div.sk-parallel-item:last-child::after {\n",
       "  align-self: flex-start;\n",
       "  width: 50%;\n",
       "}\n",
       "\n",
       "#sk-container-id-1 div.sk-parallel-item:only-child::after {\n",
       "  width: 0;\n",
       "}\n",
       "\n",
       "/* Serial-specific style estimator block */\n",
       "\n",
       "#sk-container-id-1 div.sk-serial {\n",
       "  display: flex;\n",
       "  flex-direction: column;\n",
       "  align-items: center;\n",
       "  background-color: var(--sklearn-color-background);\n",
       "  padding-right: 1em;\n",
       "  padding-left: 1em;\n",
       "}\n",
       "\n",
       "\n",
       "/* Toggleable style: style used for estimator/Pipeline/ColumnTransformer box that is\n",
       "clickable and can be expanded/collapsed.\n",
       "- Pipeline and ColumnTransformer use this feature and define the default style\n",
       "- Estimators will overwrite some part of the style using the `sk-estimator` class\n",
       "*/\n",
       "\n",
       "/* Pipeline and ColumnTransformer style (default) */\n",
       "\n",
       "#sk-container-id-1 div.sk-toggleable {\n",
       "  /* Default theme specific background. It is overwritten whether we have a\n",
       "  specific estimator or a Pipeline/ColumnTransformer */\n",
       "  background-color: var(--sklearn-color-background);\n",
       "}\n",
       "\n",
       "/* Toggleable label */\n",
       "#sk-container-id-1 label.sk-toggleable__label {\n",
       "  cursor: pointer;\n",
       "  display: block;\n",
       "  width: 100%;\n",
       "  margin-bottom: 0;\n",
       "  padding: 0.5em;\n",
       "  box-sizing: border-box;\n",
       "  text-align: center;\n",
       "}\n",
       "\n",
       "#sk-container-id-1 label.sk-toggleable__label-arrow:before {\n",
       "  /* Arrow on the left of the label */\n",
       "  content: \"▸\";\n",
       "  float: left;\n",
       "  margin-right: 0.25em;\n",
       "  color: var(--sklearn-color-icon);\n",
       "}\n",
       "\n",
       "#sk-container-id-1 label.sk-toggleable__label-arrow:hover:before {\n",
       "  color: var(--sklearn-color-text);\n",
       "}\n",
       "\n",
       "/* Toggleable content - dropdown */\n",
       "\n",
       "#sk-container-id-1 div.sk-toggleable__content {\n",
       "  max-height: 0;\n",
       "  max-width: 0;\n",
       "  overflow: hidden;\n",
       "  text-align: left;\n",
       "  /* unfitted */\n",
       "  background-color: var(--sklearn-color-unfitted-level-0);\n",
       "}\n",
       "\n",
       "#sk-container-id-1 div.sk-toggleable__content.fitted {\n",
       "  /* fitted */\n",
       "  background-color: var(--sklearn-color-fitted-level-0);\n",
       "}\n",
       "\n",
       "#sk-container-id-1 div.sk-toggleable__content pre {\n",
       "  margin: 0.2em;\n",
       "  border-radius: 0.25em;\n",
       "  color: var(--sklearn-color-text);\n",
       "  /* unfitted */\n",
       "  background-color: var(--sklearn-color-unfitted-level-0);\n",
       "}\n",
       "\n",
       "#sk-container-id-1 div.sk-toggleable__content.fitted pre {\n",
       "  /* unfitted */\n",
       "  background-color: var(--sklearn-color-fitted-level-0);\n",
       "}\n",
       "\n",
       "#sk-container-id-1 input.sk-toggleable__control:checked~div.sk-toggleable__content {\n",
       "  /* Expand drop-down */\n",
       "  max-height: 200px;\n",
       "  max-width: 100%;\n",
       "  overflow: auto;\n",
       "}\n",
       "\n",
       "#sk-container-id-1 input.sk-toggleable__control:checked~label.sk-toggleable__label-arrow:before {\n",
       "  content: \"▾\";\n",
       "}\n",
       "\n",
       "/* Pipeline/ColumnTransformer-specific style */\n",
       "\n",
       "#sk-container-id-1 div.sk-label input.sk-toggleable__control:checked~label.sk-toggleable__label {\n",
       "  color: var(--sklearn-color-text);\n",
       "  background-color: var(--sklearn-color-unfitted-level-2);\n",
       "}\n",
       "\n",
       "#sk-container-id-1 div.sk-label.fitted input.sk-toggleable__control:checked~label.sk-toggleable__label {\n",
       "  background-color: var(--sklearn-color-fitted-level-2);\n",
       "}\n",
       "\n",
       "/* Estimator-specific style */\n",
       "\n",
       "/* Colorize estimator box */\n",
       "#sk-container-id-1 div.sk-estimator input.sk-toggleable__control:checked~label.sk-toggleable__label {\n",
       "  /* unfitted */\n",
       "  background-color: var(--sklearn-color-unfitted-level-2);\n",
       "}\n",
       "\n",
       "#sk-container-id-1 div.sk-estimator.fitted input.sk-toggleable__control:checked~label.sk-toggleable__label {\n",
       "  /* fitted */\n",
       "  background-color: var(--sklearn-color-fitted-level-2);\n",
       "}\n",
       "\n",
       "#sk-container-id-1 div.sk-label label.sk-toggleable__label,\n",
       "#sk-container-id-1 div.sk-label label {\n",
       "  /* The background is the default theme color */\n",
       "  color: var(--sklearn-color-text-on-default-background);\n",
       "}\n",
       "\n",
       "/* On hover, darken the color of the background */\n",
       "#sk-container-id-1 div.sk-label:hover label.sk-toggleable__label {\n",
       "  color: var(--sklearn-color-text);\n",
       "  background-color: var(--sklearn-color-unfitted-level-2);\n",
       "}\n",
       "\n",
       "/* Label box, darken color on hover, fitted */\n",
       "#sk-container-id-1 div.sk-label.fitted:hover label.sk-toggleable__label.fitted {\n",
       "  color: var(--sklearn-color-text);\n",
       "  background-color: var(--sklearn-color-fitted-level-2);\n",
       "}\n",
       "\n",
       "/* Estimator label */\n",
       "\n",
       "#sk-container-id-1 div.sk-label label {\n",
       "  font-family: monospace;\n",
       "  font-weight: bold;\n",
       "  display: inline-block;\n",
       "  line-height: 1.2em;\n",
       "}\n",
       "\n",
       "#sk-container-id-1 div.sk-label-container {\n",
       "  text-align: center;\n",
       "}\n",
       "\n",
       "/* Estimator-specific */\n",
       "#sk-container-id-1 div.sk-estimator {\n",
       "  font-family: monospace;\n",
       "  border: 1px dotted var(--sklearn-color-border-box);\n",
       "  border-radius: 0.25em;\n",
       "  box-sizing: border-box;\n",
       "  margin-bottom: 0.5em;\n",
       "  /* unfitted */\n",
       "  background-color: var(--sklearn-color-unfitted-level-0);\n",
       "}\n",
       "\n",
       "#sk-container-id-1 div.sk-estimator.fitted {\n",
       "  /* fitted */\n",
       "  background-color: var(--sklearn-color-fitted-level-0);\n",
       "}\n",
       "\n",
       "/* on hover */\n",
       "#sk-container-id-1 div.sk-estimator:hover {\n",
       "  /* unfitted */\n",
       "  background-color: var(--sklearn-color-unfitted-level-2);\n",
       "}\n",
       "\n",
       "#sk-container-id-1 div.sk-estimator.fitted:hover {\n",
       "  /* fitted */\n",
       "  background-color: var(--sklearn-color-fitted-level-2);\n",
       "}\n",
       "\n",
       "/* Specification for estimator info (e.g. \"i\" and \"?\") */\n",
       "\n",
       "/* Common style for \"i\" and \"?\" */\n",
       "\n",
       ".sk-estimator-doc-link,\n",
       "a:link.sk-estimator-doc-link,\n",
       "a:visited.sk-estimator-doc-link {\n",
       "  float: right;\n",
       "  font-size: smaller;\n",
       "  line-height: 1em;\n",
       "  font-family: monospace;\n",
       "  background-color: var(--sklearn-color-background);\n",
       "  border-radius: 1em;\n",
       "  height: 1em;\n",
       "  width: 1em;\n",
       "  text-decoration: none !important;\n",
       "  margin-left: 1ex;\n",
       "  /* unfitted */\n",
       "  border: var(--sklearn-color-unfitted-level-1) 1pt solid;\n",
       "  color: var(--sklearn-color-unfitted-level-1);\n",
       "}\n",
       "\n",
       ".sk-estimator-doc-link.fitted,\n",
       "a:link.sk-estimator-doc-link.fitted,\n",
       "a:visited.sk-estimator-doc-link.fitted {\n",
       "  /* fitted */\n",
       "  border: var(--sklearn-color-fitted-level-1) 1pt solid;\n",
       "  color: var(--sklearn-color-fitted-level-1);\n",
       "}\n",
       "\n",
       "/* On hover */\n",
       "div.sk-estimator:hover .sk-estimator-doc-link:hover,\n",
       ".sk-estimator-doc-link:hover,\n",
       "div.sk-label-container:hover .sk-estimator-doc-link:hover,\n",
       ".sk-estimator-doc-link:hover {\n",
       "  /* unfitted */\n",
       "  background-color: var(--sklearn-color-unfitted-level-3);\n",
       "  color: var(--sklearn-color-background);\n",
       "  text-decoration: none;\n",
       "}\n",
       "\n",
       "div.sk-estimator.fitted:hover .sk-estimator-doc-link.fitted:hover,\n",
       ".sk-estimator-doc-link.fitted:hover,\n",
       "div.sk-label-container:hover .sk-estimator-doc-link.fitted:hover,\n",
       ".sk-estimator-doc-link.fitted:hover {\n",
       "  /* fitted */\n",
       "  background-color: var(--sklearn-color-fitted-level-3);\n",
       "  color: var(--sklearn-color-background);\n",
       "  text-decoration: none;\n",
       "}\n",
       "\n",
       "/* Span, style for the box shown on hovering the info icon */\n",
       ".sk-estimator-doc-link span {\n",
       "  display: none;\n",
       "  z-index: 9999;\n",
       "  position: relative;\n",
       "  font-weight: normal;\n",
       "  right: .2ex;\n",
       "  padding: .5ex;\n",
       "  margin: .5ex;\n",
       "  width: min-content;\n",
       "  min-width: 20ex;\n",
       "  max-width: 50ex;\n",
       "  color: var(--sklearn-color-text);\n",
       "  box-shadow: 2pt 2pt 4pt #999;\n",
       "  /* unfitted */\n",
       "  background: var(--sklearn-color-unfitted-level-0);\n",
       "  border: .5pt solid var(--sklearn-color-unfitted-level-3);\n",
       "}\n",
       "\n",
       ".sk-estimator-doc-link.fitted span {\n",
       "  /* fitted */\n",
       "  background: var(--sklearn-color-fitted-level-0);\n",
       "  border: var(--sklearn-color-fitted-level-3);\n",
       "}\n",
       "\n",
       ".sk-estimator-doc-link:hover span {\n",
       "  display: block;\n",
       "}\n",
       "\n",
       "/* \"?\"-specific style due to the `<a>` HTML tag */\n",
       "\n",
       "#sk-container-id-1 a.estimator_doc_link {\n",
       "  float: right;\n",
       "  font-size: 1rem;\n",
       "  line-height: 1em;\n",
       "  font-family: monospace;\n",
       "  background-color: var(--sklearn-color-background);\n",
       "  border-radius: 1rem;\n",
       "  height: 1rem;\n",
       "  width: 1rem;\n",
       "  text-decoration: none;\n",
       "  /* unfitted */\n",
       "  color: var(--sklearn-color-unfitted-level-1);\n",
       "  border: var(--sklearn-color-unfitted-level-1) 1pt solid;\n",
       "}\n",
       "\n",
       "#sk-container-id-1 a.estimator_doc_link.fitted {\n",
       "  /* fitted */\n",
       "  border: var(--sklearn-color-fitted-level-1) 1pt solid;\n",
       "  color: var(--sklearn-color-fitted-level-1);\n",
       "}\n",
       "\n",
       "/* On hover */\n",
       "#sk-container-id-1 a.estimator_doc_link:hover {\n",
       "  /* unfitted */\n",
       "  background-color: var(--sklearn-color-unfitted-level-3);\n",
       "  color: var(--sklearn-color-background);\n",
       "  text-decoration: none;\n",
       "}\n",
       "\n",
       "#sk-container-id-1 a.estimator_doc_link.fitted:hover {\n",
       "  /* fitted */\n",
       "  background-color: var(--sklearn-color-fitted-level-3);\n",
       "}\n",
       "</style><div id=\"sk-container-id-1\" class=\"sk-top-container\"><div class=\"sk-text-repr-fallback\"><pre>RandomForestClassifier(random_state=42)</pre><b>In a Jupyter environment, please rerun this cell to show the HTML representation or trust the notebook. <br />On GitHub, the HTML representation is unable to render, please try loading this page with nbviewer.org.</b></div><div class=\"sk-container\" hidden><div class=\"sk-item\"><div class=\"sk-estimator fitted sk-toggleable\"><input class=\"sk-toggleable__control sk-hidden--visually\" id=\"sk-estimator-id-1\" type=\"checkbox\" checked><label for=\"sk-estimator-id-1\" class=\"sk-toggleable__label fitted sk-toggleable__label-arrow fitted\">&nbsp;&nbsp;RandomForestClassifier<a class=\"sk-estimator-doc-link fitted\" rel=\"noreferrer\" target=\"_blank\" href=\"https://scikit-learn.org/1.5/modules/generated/sklearn.ensemble.RandomForestClassifier.html\">?<span>Documentation for RandomForestClassifier</span></a><span class=\"sk-estimator-doc-link fitted\">i<span>Fitted</span></span></label><div class=\"sk-toggleable__content fitted\"><pre>RandomForestClassifier(random_state=42)</pre></div> </div></div></div></div>"
      ],
      "text/plain": [
       "RandomForestClassifier(random_state=42)"
      ]
     },
     "execution_count": 12,
     "metadata": {},
     "output_type": "execute_result"
    }
   ],
   "source": [
    "x_train1 = dataset_no_missing[['education-num', 'race', 'sex', 'fnlwgt', 'hours-per-week', 'income']]\n",
    "y_train1 = dataset_no_missing[['occupation']]\n",
    "x_train1 = x_train1.iloc[:, :].values\n",
    "y_train1 = y_train1.iloc[:, :].values\n",
    "rf0 = RandomForestClassifier(random_state = 42)\n",
    "rf0.fit(x_train1, y_train1)"
   ]
  },
  {
   "cell_type": "code",
   "execution_count": 13,
   "id": "10a02a39-cfca-4273-b2e6-e33d4933cedc",
   "metadata": {},
   "outputs": [],
   "source": [
    "x_test1 = dataset_missing[['education-num', 'race', 'sex', 'fnlwgt', 'hours-per-week', 'income']]\n",
    "x_test1 = x_test1.iloc[:, :].values\n",
    "dataset_missing['occupation'] = rf0.predict(x_test1)"
   ]
  },
  {
   "cell_type": "code",
   "execution_count": 14,
   "id": "10d799ab-fcf6-4a8b-a53f-b16fa0638433",
   "metadata": {},
   "outputs": [],
   "source": [
    "x_train2 = dataset_no_missing.drop(['workclass', 'education'], axis = 1)\n",
    "y_train2 = dataset_no_missing[['workclass']]\n",
    "x_train2 = x_train2.iloc[:, :].values\n",
    "y_train2 = y_train2.iloc[:, :].values\n",
    "rf2 = RandomForestClassifier(random_state = 42)\n",
    "rf2.fit(x_train2, y_train2)\n",
    "x_test2 = dataset_missing.drop(['workclass', 'education'], axis = 1)\n",
    "x_test2 = x_test2.iloc[:, :].values\n",
    "dataset_missing['workclass'] = rf2.predict(x_test2)"
   ]
  },
  {
   "cell_type": "code",
   "execution_count": 15,
   "id": "87e5b720-3848-43f0-bbe6-6b21ce80ff1a",
   "metadata": {},
   "outputs": [],
   "source": [
    "dataset_pp = pd.concat([dataset_missing, dataset_no_missing], axis = 0, ignore_index = True)"
   ]
  },
  {
   "cell_type": "code",
   "execution_count": 16,
   "id": "34061e01-92ef-4bad-9acb-bf042f938029",
   "metadata": {},
   "outputs": [
    {
     "data": {
      "text/plain": [
       "array([[1.1200583962298325, 3, -0.0895158241693816, ...,\n",
       "        1.5799464539233603, 34, 1],\n",
       "       [-0.48456647364404626, 3, 0.9873954372655107, ...,\n",
       "        -0.03408696347500956, 38, -1],\n",
       "       [-0.9951289322402804, 3, 0.10432346817242755, ...,\n",
       "        -0.03408696347500956, 38, -1],\n",
       "       ...,\n",
       "       [-0.04694150913298843, 3, 1.7548645689912852, ...,\n",
       "        0.7729297452241753, 38, -1],\n",
       "       [0.3906834553780694, 3, -1.0016116052325499, ...,\n",
       "        -0.03408696347500956, 38, -1],\n",
       "       [-0.26575399138851735, 4, -0.07117353255892316, ...,\n",
       "        1.5799464539233603, 38, 1]], dtype=object)"
      ]
     },
     "execution_count": 16,
     "metadata": {},
     "output_type": "execute_result"
    }
   ],
   "source": [
    "dataset_pp.values"
   ]
  },
  {
   "cell_type": "code",
   "execution_count": 17,
   "id": "e8c20d4d-d2a7-483d-9c12-9ab23ee9d598",
   "metadata": {},
   "outputs": [
    {
     "name": "stdout",
     "output_type": "stream",
     "text": [
      "No missing values found in the dataset.\n",
      "No rows contain missing values.\n"
     ]
    }
   ],
   "source": [
    "missing_values = dataset_pp.isnull()\n",
    "\n",
    "if missing_values.any().any():\n",
    "    print(\"There are missing values in the dataset.\")\n",
    "else:\n",
    "    print(\"No missing values found in the dataset.\")\n",
    "\n",
    "if missing_values.any(axis=1).any():\n",
    "    print(\"There are rows with missing values.\")\n",
    "else:\n",
    "    print(\"No rows contain missing values.\")"
   ]
  },
  {
   "cell_type": "code",
   "execution_count": 32,
   "id": "303b46aa-c68f-4560-b590-85fd135ac9f9",
   "metadata": {},
   "outputs": [
    {
     "name": "stdout",
     "output_type": "stream",
     "text": [
      "No missing values found in the dataset.\n"
     ]
    },
    {
     "data": {
      "text/plain": [
       "['dataset_pp.pkl']"
      ]
     },
     "execution_count": 32,
     "metadata": {},
     "output_type": "execute_result"
    }
   ],
   "source": [
    "missing_counts = {}\n",
    "for col in dataset_pp.columns:\n",
    "    missing_count = (dataset_pp[col] == \"?\").sum()\n",
    "    if missing_count > 0:\n",
    "        missing_counts[col] = missing_count\n",
    "\n",
    "if missing_counts:\n",
    "    print(\"Columns with missing values and their counts:\")\n",
    "    for col, count in missing_counts.items():\n",
    "        print(f\"{col}: {count}\")\n",
    "else:\n",
    "    print(\"No missing values found in the dataset.\")\n",
    "\n",
    "joblib.dump(dataset_pp, 'dataset_pp.pkl')"
   ]
  },
  {
   "cell_type": "markdown",
   "id": "9026cf6d-1b2e-4121-9e9d-8ad636dcbc3f",
   "metadata": {},
   "source": [
    "### Dataset without any missing values has been prepared"
   ]
  },
  {
   "cell_type": "markdown",
   "id": "1e687678-c20c-49c1-a587-e171aedd3912",
   "metadata": {},
   "source": [
    "## Training, Testing Split"
   ]
  },
  {
   "cell_type": "code",
   "execution_count": 63,
   "id": "643d4383-aa0f-46ef-9e15-d79a10eeb878",
   "metadata": {},
   "outputs": [],
   "source": [
    "x_train, x_test, y_train, y_test = train_test_split(dataset_pp.drop(['education', 'income'], axis = 1).values, dataset_pp[['income']].values, test_size = 0.2, random_state = 42)\n",
    "y_train = y_train.astype(int)\n",
    "y_test = y_test.astype(int)"
   ]
  },
  {
   "cell_type": "markdown",
   "id": "c4310b87-dd11-4b57-87f4-709087b99a1d",
   "metadata": {},
   "source": [
    "# Models"
   ]
  },
  {
   "cell_type": "code",
   "execution_count": 42,
   "id": "615983f8-b15b-4d2b-8f7a-ea55ac32a664",
   "metadata": {},
   "outputs": [],
   "source": [
    "from sklearn.linear_model import LogisticRegression\n",
    "from sklearn.tree import DecisionTreeClassifier\n",
    "from sklearn.ensemble import RandomForestClassifier, GradientBoostingClassifier\n",
    "from sklearn.neighbors import KNeighborsClassifier\n",
    "from sklearn.svm import SVC\n",
    "from sklearn.naive_bayes import GaussianNB"
   ]
  },
  {
   "cell_type": "markdown",
   "id": "5c9abbb6-326f-47df-a5f1-eb3653dafcdb",
   "metadata": {},
   "source": [
    "## Basic Models"
   ]
  },
  {
   "cell_type": "markdown",
   "id": "75b046f0-07b9-4cd1-821c-36bb3a246815",
   "metadata": {},
   "source": [
    "### Logistic Regression"
   ]
  },
  {
   "cell_type": "code",
   "execution_count": 21,
   "id": "c60fa08a-1a6c-49b5-9837-dc42b989c9c9",
   "metadata": {},
   "outputs": [
    {
     "data": {
      "text/plain": [
       "(0.8210666393694339, 0.8255829889873019)"
      ]
     },
     "execution_count": 21,
     "metadata": {},
     "output_type": "execute_result"
    }
   ],
   "source": [
    "lr = LogisticRegression()\n",
    "scores_lr = cross_val_score(lr, x_train, y_train, cv = 10, scoring = 'accuracy')\n",
    "lr.fit(x_train, y_train)\n",
    "y_test_pred_lr = lr.predict(x_test)\n",
    "accuracy_score(y_test, y_test_pred_lr), scores_lr.mean()"
   ]
  },
  {
   "cell_type": "markdown",
   "id": "3812dbc8-2b1f-41bc-8ffd-8b3f34e820ea",
   "metadata": {},
   "source": [
    "### Decision Tree"
   ]
  },
  {
   "cell_type": "code",
   "execution_count": 22,
   "id": "ee3158e3-04b5-47e4-9d5a-29f40b783419",
   "metadata": {},
   "outputs": [
    {
     "data": {
      "text/plain": [
       "(0.808475790766711, 0.8142958574471614)"
      ]
     },
     "execution_count": 22,
     "metadata": {},
     "output_type": "execute_result"
    }
   ],
   "source": [
    "dt = DecisionTreeClassifier(random_state = 42)\n",
    "scores_dt = cross_val_score(dt, x_train, y_train, cv = 10, scoring = 'accuracy')\n",
    "dt.fit(x_train, y_train)\n",
    "y_test_pred_dt = dt.predict(x_test)\n",
    "accuracy_score(y_test, y_test_pred_dt), scores_dt.mean()"
   ]
  },
  {
   "cell_type": "markdown",
   "id": "e1d4e4f6-7820-4348-93cd-19ce13187fce",
   "metadata": {},
   "source": [
    "## Ensemble Methods"
   ]
  },
  {
   "cell_type": "markdown",
   "id": "78d83808-fba6-4d86-a927-68c294e7fd59",
   "metadata": {},
   "source": [
    "### Random Forest"
   ]
  },
  {
   "cell_type": "code",
   "execution_count": 23,
   "id": "31eaf7a8-5f81-4e08-bc76-3b2c29d400b6",
   "metadata": {},
   "outputs": [
    {
     "data": {
      "text/plain": [
       "(0.8548469648889344, 0.8616179159312773)"
      ]
     },
     "execution_count": 23,
     "metadata": {},
     "output_type": "execute_result"
    }
   ],
   "source": [
    "rf = RandomForestClassifier(random_state = 42)\n",
    "scores_rf = cross_val_score(rf, x_train, y_train, cv = 10, scoring = 'accuracy')\n",
    "rf.fit(x_train, y_train)\n",
    "y_test_pred_rf = rf.predict(x_test)\n",
    "accuracy_score(y_test, y_test_pred_rf), scores_rf.mean()"
   ]
  },
  {
   "cell_type": "markdown",
   "id": "cd0a4ebb-6154-4c52-a604-9747fb1918ff",
   "metadata": {},
   "source": [
    "### Gradient Boosting"
   ]
  },
  {
   "cell_type": "code",
   "execution_count": 24,
   "id": "364ec897-f57c-4d27-8a2e-fdd61d227d3d",
   "metadata": {},
   "outputs": [
    {
     "data": {
      "text/plain": [
       "(0.8623195823523391, 0.8661479382857161)"
      ]
     },
     "execution_count": 24,
     "metadata": {},
     "output_type": "execute_result"
    }
   ],
   "source": [
    "gsb = GradientBoostingClassifier()\n",
    "scores_gsb = cross_val_score(gsb, x_train, y_train, cv = 10, scoring = 'accuracy')\n",
    "gsb.fit(x_train, y_train)\n",
    "y_test_pred_gsb = gsb.predict(x_test)\n",
    "accuracy_score(y_test, y_test_pred_gsb), scores_gsb.mean()"
   ]
  },
  {
   "cell_type": "markdown",
   "id": "57fd0a99-458d-4083-a715-f52cf5b93a84",
   "metadata": {},
   "source": [
    "## Advanced Models"
   ]
  },
  {
   "cell_type": "markdown",
   "id": "9012df6c-90f2-4caf-bd80-95ae034fda99",
   "metadata": {},
   "source": [
    "### Support Vector Machines"
   ]
  },
  {
   "cell_type": "code",
   "execution_count": 25,
   "id": "517c0142-766b-4b41-b677-3b959ad9b336",
   "metadata": {},
   "outputs": [
    {
     "data": {
      "text/plain": [
       "(0.8082710615211383, 0.8128630042028859)"
      ]
     },
     "execution_count": 25,
     "metadata": {},
     "output_type": "execute_result"
    }
   ],
   "source": [
    "sv = SVC(random_state = 42)\n",
    "scores_sv = cross_val_score(sv, x_train, y_train, cv = 10, scoring = 'accuracy')\n",
    "sv.fit(x_train, y_train)\n",
    "y_test_pred_sv = sv.predict(x_test)\n",
    "accuracy_score(y_test, y_test_pred_sv), scores_sv.mean()"
   ]
  },
  {
   "cell_type": "markdown",
   "id": "f92a62c9-90ee-4d85-afa7-5c53fca23c1f",
   "metadata": {},
   "source": [
    "### I'll try out Neural Networks in the next project with an image dataset or some basic neural network project"
   ]
  },
  {
   "cell_type": "markdown",
   "id": "a5232124-d9af-4905-bc41-f808473c4d95",
   "metadata": {},
   "source": [
    "## Specialized Models"
   ]
  },
  {
   "cell_type": "markdown",
   "id": "8f57c87a-0317-4fb9-afaf-04023c7649f1",
   "metadata": {},
   "source": [
    "### K-Nearest Neighbors (KNN)"
   ]
  },
  {
   "cell_type": "code",
   "execution_count": 26,
   "id": "199d84f1-ead4-4fdb-8359-10afb0345321",
   "metadata": {},
   "outputs": [
    {
     "data": {
      "text/plain": [
       "(0.8274132459821886, 0.8339518943376177)"
      ]
     },
     "execution_count": 26,
     "metadata": {},
     "output_type": "execute_result"
    }
   ],
   "source": [
    "knn = KNeighborsClassifier()\n",
    "scores_knn = cross_val_score(knn, x_train, y_train, cv = 10, scoring = 'accuracy')\n",
    "knn.fit(x_train, y_train)\n",
    "y_test_pred_knn = knn.predict(x_test)\n",
    "accuracy_score(y_test, y_test_pred_knn), scores_knn.mean()"
   ]
  },
  {
   "cell_type": "markdown",
   "id": "d9f73697-f0f2-45e7-89d1-bcc07eb61094",
   "metadata": {},
   "source": [
    "### Naive Bayes"
   ]
  },
  {
   "cell_type": "code",
   "execution_count": 27,
   "id": "54343edf-cc09-43cb-ba85-18e7fbe405bb",
   "metadata": {},
   "outputs": [
    {
     "data": {
      "text/plain": [
       "(0.7951683898044836, 0.8023185165643693)"
      ]
     },
     "execution_count": 27,
     "metadata": {},
     "output_type": "execute_result"
    }
   ],
   "source": [
    "nb = GaussianNB()\n",
    "scores_nb = cross_val_score(nb, x_train, y_train, cv = 10, scoring = 'accuracy')\n",
    "nb.fit(x_train, y_train)\n",
    "y_test_pred_nb = nb.predict(x_test)\n",
    "accuracy_score(y_test, y_test_pred_nb), scores_nb.mean()"
   ]
  },
  {
   "cell_type": "markdown",
   "id": "00a137d7-b381-4887-8039-0c2f4f518845",
   "metadata": {},
   "source": [
    "## Testing if removing 'marital-status' and 'relationship' affects accuracy score"
   ]
  },
  {
   "cell_type": "code",
   "execution_count": 28,
   "id": "fa94887a-cb86-447d-94c5-febd4b5cbaaa",
   "metadata": {},
   "outputs": [],
   "source": [
    "x_train1, x_test1, y_train1, y_test1 = train_test_split(dataset_pp.drop(['education', 'income', 'marital-status', 'relationship'], axis = 1).values, dataset_pp[['income']].values, test_size = 0.2, random_state = 42)\n",
    "y_train1 = y_train1.astype(int)\n",
    "y_test1 = y_test1.astype(int)"
   ]
  },
  {
   "cell_type": "markdown",
   "id": "5573f9b5-eff4-43e7-a1f2-7972d562d3f5",
   "metadata": {},
   "source": [
    "## Basic Models"
   ]
  },
  {
   "cell_type": "markdown",
   "id": "8e596d20-ad4b-4ae2-ba24-c86e7f7339e8",
   "metadata": {},
   "source": [
    "### Logistic Regression"
   ]
  },
  {
   "cell_type": "code",
   "execution_count": 29,
   "id": "5ac45399-7d60-4fcc-a578-f97d63c05fc1",
   "metadata": {},
   "outputs": [
    {
     "data": {
      "text/plain": [
       "(0.8200429931415703, 0.8252757759148933)"
      ]
     },
     "execution_count": 29,
     "metadata": {},
     "output_type": "execute_result"
    }
   ],
   "source": [
    "lr1 = LogisticRegression()\n",
    "scores_lr1 = cross_val_score(lr1, x_train1, y_train1, cv = 10, scoring = 'accuracy')\n",
    "lr1.fit(x_train1, y_train1)\n",
    "y_test_pred_lr1 = lr1.predict(x_test1)\n",
    "accuracy_score(y_test1, y_test_pred_lr1), scores_lr1.mean()"
   ]
  },
  {
   "cell_type": "markdown",
   "id": "cf0fb3a8-2086-475f-bc67-4ce967e91a43",
   "metadata": {},
   "source": [
    "### Decision Tree"
   ]
  },
  {
   "cell_type": "code",
   "execution_count": 30,
   "id": "e510975d-c746-4d11-a541-1502478609ba",
   "metadata": {},
   "outputs": [
    {
     "data": {
      "text/plain": [
       "(0.7794042378953834, 0.7887799016488527)"
      ]
     },
     "execution_count": 30,
     "metadata": {},
     "output_type": "execute_result"
    }
   ],
   "source": [
    "dt1 = DecisionTreeClassifier(random_state = 42)\n",
    "scores_dt1 = cross_val_score(dt1, x_train1, y_train1, cv = 10, scoring = 'accuracy')\n",
    "dt1.fit(x_train1, y_train1)\n",
    "y_test_pred_dt1 = dt1.predict(x_test1)\n",
    "accuracy_score(y_test1, y_test_pred_dt1), scores_dt1.mean()"
   ]
  },
  {
   "cell_type": "markdown",
   "id": "b9a828ce-fef5-4a3c-8f0f-206377bb7f53",
   "metadata": {},
   "source": [
    "## Ensemble Methods"
   ]
  },
  {
   "cell_type": "markdown",
   "id": "bacea59c-d05f-4d0e-ab92-1545d5e355eb",
   "metadata": {},
   "source": [
    "### Random Forest Classifier"
   ]
  },
  {
   "cell_type": "code",
   "execution_count": 31,
   "id": "9f79e747-b38d-4f18-9d03-2a13e75f84c7",
   "metadata": {},
   "outputs": [
    {
     "data": {
      "text/plain": [
       "(0.8292558091923431, 0.8427558310032722)"
      ]
     },
     "execution_count": 31,
     "metadata": {},
     "output_type": "execute_result"
    }
   ],
   "source": [
    "rf1 = RandomForestClassifier(random_state = 42)\n",
    "scores_rf1 = cross_val_score(rf1, x_train1, y_train1, cv = 10, scoring = 'accuracy')\n",
    "rf1.fit(x_train1, y_train1)\n",
    "y_test_pred_rf1 = rf1.predict(x_test1)\n",
    "accuracy_score(y_test1, y_test_pred_rf1), scores_rf1.mean()"
   ]
  },
  {
   "cell_type": "markdown",
   "id": "6bee6d75-6eb8-47b6-98a4-4454addb21df",
   "metadata": {},
   "source": [
    "### Gradient Boosting Classifier"
   ]
  },
  {
   "cell_type": "code",
   "execution_count": 32,
   "id": "51adf7c4-5e04-44ad-a83a-20d3d836d10e",
   "metadata": {},
   "outputs": [
    {
     "data": {
      "text/plain": [
       "(0.8450199611014434, 0.8532746449631518)"
      ]
     },
     "execution_count": 32,
     "metadata": {},
     "output_type": "execute_result"
    }
   ],
   "source": [
    "gsb1 = GradientBoostingClassifier()\n",
    "scores_gsb1 = cross_val_score(gsb1, x_train1, y_train1, cv = 10, scoring = 'accuracy')\n",
    "gsb1.fit(x_train1, y_train1)\n",
    "y_test_pred_gsb1 = gsb1.predict(x_test1)\n",
    "accuracy_score(y_test1, y_test_pred_gsb1), scores_gsb1.mean()"
   ]
  },
  {
   "cell_type": "markdown",
   "id": "f94b1a59-0b08-44c5-84d2-19f680ffdeee",
   "metadata": {},
   "source": [
    "## Advanced Models"
   ]
  },
  {
   "cell_type": "markdown",
   "id": "af013fef-4d0b-4ee6-af93-4c1529ed2f73",
   "metadata": {},
   "source": [
    "### Support Vector Machines"
   ]
  },
  {
   "cell_type": "code",
   "execution_count": 33,
   "id": "edcfdc71-f049-475a-bc2a-404ee6b53ec6",
   "metadata": {},
   "outputs": [
    {
     "data": {
      "text/plain": [
       "(0.8037670181185382, 0.8084354604325386)"
      ]
     },
     "execution_count": 33,
     "metadata": {},
     "output_type": "execute_result"
    }
   ],
   "source": [
    "sv1 = SVC(random_state = 42)\n",
    "scores_sv1 = cross_val_score(sv1, x_train1, y_train1, cv = 10, scoring = 'accuracy')\n",
    "sv1.fit(x_train1, y_train1)\n",
    "y_test_pred_sv1 = sv1.predict(x_test1)\n",
    "accuracy_score(y_test1, y_test_pred_sv1), scores_sv1.mean()"
   ]
  },
  {
   "cell_type": "markdown",
   "id": "8c6ab379-486c-4c8a-931c-50d8db37f618",
   "metadata": {},
   "source": [
    "## Specialized Models"
   ]
  },
  {
   "cell_type": "markdown",
   "id": "b6f5d81b-53f0-47b6-90f3-7ad9f66f50a4",
   "metadata": {},
   "source": [
    "### KNN"
   ]
  },
  {
   "cell_type": "code",
   "execution_count": 34,
   "id": "0f255f4a-ea76-4099-9e51-f74ab8a9ab46",
   "metadata": {},
   "outputs": [
    {
     "data": {
      "text/plain": [
       "(0.8015149964172382, 0.8138613107880012)"
      ]
     },
     "execution_count": 34,
     "metadata": {},
     "output_type": "execute_result"
    }
   ],
   "source": [
    "knn1 = KNeighborsClassifier()\n",
    "scores_knn1 = cross_val_score(knn1, x_train1, y_train1, cv = 10, scoring = 'accuracy')\n",
    "knn1.fit(x_train1, y_train1)\n",
    "y_test_pred_knn1= knn1.predict(x_test1)\n",
    "accuracy_score(y_test1, y_test_pred_knn1), scores_knn1.mean()"
   ]
  },
  {
   "cell_type": "markdown",
   "id": "11bd4829-39d5-4e2f-ad86-2d7a0636b2d1",
   "metadata": {},
   "source": [
    "### Naive Bayes"
   ]
  },
  {
   "cell_type": "code",
   "execution_count": 35,
   "id": "35ff6749-3eb8-408c-a4bb-47b685d22bed",
   "metadata": {},
   "outputs": [
    {
     "data": {
      "text/plain": [
       "(0.789128877060088, 0.7973278743582562)"
      ]
     },
     "execution_count": 35,
     "metadata": {},
     "output_type": "execute_result"
    }
   ],
   "source": [
    "nb1 = GaussianNB()\n",
    "scores_nb1 = cross_val_score(nb1, x_train1, y_train1, cv = 10, scoring = 'accuracy')\n",
    "nb1.fit(x_train1, y_train1)\n",
    "y_test_pred_nb1 = nb1.predict(x_test1)\n",
    "accuracy_score(y_test1, y_test_pred_nb1), scores_nb1.mean()"
   ]
  },
  {
   "cell_type": "markdown",
   "id": "d6fb7f3a-5e90-4bbe-9a64-a5a9d1fb1a58",
   "metadata": {},
   "source": [
    "### Checking combined accuracy for clarification"
   ]
  },
  {
   "cell_type": "code",
   "execution_count": 36,
   "id": "7a7f6fc0-1147-44a3-8409-64f37e5a2b29",
   "metadata": {},
   "outputs": [],
   "source": [
    "scores_all_features = scores_lr.mean() + scores_dt.mean() + scores_rf.mean() + scores_gsb.mean() + scores_knn.mean() + scores_nb.mean() + scores_sv.mean()\n",
    "scores_less_features = scores_lr1.mean() + scores_dt1.mean() + scores_rf1.mean() + scores_gsb1.mean() + scores_knn1.mean() + scores_nb1.mean() + scores_sv1.mean()"
   ]
  },
  {
   "cell_type": "code",
   "execution_count": 37,
   "id": "cf09e8cf-590c-4092-afa4-604e5ebfa652",
   "metadata": {},
   "outputs": [
    {
     "data": {
      "text/plain": [
       "(0.8309683022509043, 0.8185301141584237)"
      ]
     },
     "execution_count": 37,
     "metadata": {},
     "output_type": "execute_result"
    }
   ],
   "source": [
    "scores_all_features/7, scores_less_features/7"
   ]
  },
  {
   "cell_type": "markdown",
   "id": "e9ef7378-780f-4685-b936-4df96b993958",
   "metadata": {},
   "source": [
    "## This means that 'workclass' and 'marital-status' did have some sort of relation to the 'income'"
   ]
  },
  {
   "cell_type": "markdown",
   "id": "641e3cd1-41d8-49fd-ab25-100eea667697",
   "metadata": {},
   "source": [
    "## Trying out Hypertuning on specific models to see if it makes a difference"
   ]
  },
  {
   "cell_type": "markdown",
   "id": "585b9db4-2431-419b-8882-f07514bf67f6",
   "metadata": {},
   "source": [
    "This process takes a lot of time. I would recommend if you want to check the parameters, you can manually check the best parameters and their accuracy. However, if you want to run the process, make sure to add verbose = 2 in the GridSearch. I have done it for SVM but not for Random Forest or Gradient Boosting."
   ]
  },
  {
   "cell_type": "code",
   "execution_count": 38,
   "id": "347b8297-b65f-4ec0-830c-0f71a8e4b658",
   "metadata": {},
   "outputs": [],
   "source": [
    "from sklearn.model_selection import GridSearchCV"
   ]
  },
  {
   "cell_type": "markdown",
   "id": "263483ad-72b5-4e0a-a214-839b950441d5",
   "metadata": {},
   "source": [
    "### Random Forest Classifier"
   ]
  },
  {
   "cell_type": "code",
   "execution_count": 45,
   "id": "75f956db-6dad-4e89-9720-11534a1d26ef",
   "metadata": {},
   "outputs": [
    {
     "name": "stdout",
     "output_type": "stream",
     "text": [
      "Best parameters:  {'bootstrap': True, 'max_depth': 20, 'max_features': 'sqrt', 'min_samples_leaf': 2, 'min_samples_split': 2, 'n_estimators': 100}\n",
      "Test Accuracy:  0.8623195823523391\n",
      "Best Cross-Validation Score:  0.8688352958688746\n"
     ]
    }
   ],
   "source": [
    "parameter_grid_rf = {\n",
    "    'n_estimators': [50, 100, 200, 300],\n",
    "    'max_depth': [None, 10, 20, 30],\n",
    "    'min_samples_split': [2, 5, 10],\n",
    "    'min_samples_leaf': [1, 2, 4],\n",
    "    'max_features': ['auto', 'sqrt', 'log2'],\n",
    "    'bootstrap': [True, False]\n",
    "}\n",
    "rf2 = RandomForestClassifier(random_state = 42)\n",
    "grid_search_rf = GridSearchCV(estimator = rf2, param_grid = parameter_grid_rf, cv = 5, scoring = 'accuracy', n_jobs = -1)\n",
    "grid_search_rf.fit(x_train, y_train)\n",
    "\n",
    "print(\"Best parameters: \", grid_search_rf.best_params_)\n",
    "best_rf = grid_search_rf.best_estimator_\n",
    "y_test_pred_rf2 = best_rf.predict(x_test)\n",
    "print(\"Test Accuracy: \", accuracy_score(y_test, y_test_pred_rf2))\n",
    "print(\"Best Cross-Validation Score: \", grid_search_rf.best_score_)"
   ]
  },
  {
   "cell_type": "markdown",
   "id": "0249eb0f-99f5-4c15-8b21-95eaf67908b4",
   "metadata": {},
   "source": [
    "### Gradient Boosting Classifier"
   ]
  },
  {
   "cell_type": "code",
   "execution_count": 46,
   "id": "e3fa2567-6f81-4440-a321-b33540b1dd76",
   "metadata": {},
   "outputs": [
    {
     "name": "stdout",
     "output_type": "stream",
     "text": [
      "Best parameters:  {'learning_rate': 0.1, 'max_depth': 5, 'min_samples_leaf': 4, 'min_samples_split': 2, 'n_estimators': 200, 'subsample': 1.0}\n",
      "Test Accuracy:  0.8697921998157436\n",
      "Best Cross-Validation Score:  0.876257284487495\n"
     ]
    }
   ],
   "source": [
    "parameter_grid_gsb = {\n",
    "    'n_estimators': [50, 100, 200, 300],\n",
    "    'learning_rate': [0.01, 0.1, 0.2, 0.3], \n",
    "    'max_depth': [3, 5, 7, 9],\n",
    "    'min_samples_split': [2, 5, 10],\n",
    "    'min_samples_leaf': [1, 2, 4],\n",
    "    'subsample': [0.6, 0.8, 1.0]\n",
    "}\n",
    "gsb2 = GradientBoostingClassifier()\n",
    "grid_search_gsb = GridSearchCV(estimator = gsb2, param_grid = parameter_grid_gsb, cv = 5, scoring = 'accuracy', n_jobs = -1)\n",
    "grid_search_gsb.fit(x_train, y_train)\n",
    "\n",
    "print(\"Best parameters: \", grid_search_gsb.best_params_)\n",
    "best_gsb = grid_search_gsb.best_estimator_\n",
    "y_test_pred_gsb2 = best_gsb.predict(x_test)\n",
    "print(\"Test Accuracy: \", accuracy_score(y_test, y_test_pred_gsb2))\n",
    "print(\"Best Cross-Validation Score: \", grid_search_gsb.best_score_)"
   ]
  },
  {
   "cell_type": "markdown",
   "id": "9c7da6fa-2c29-4d16-9214-7a07cbee63e3",
   "metadata": {},
   "source": [
    "### Support Vector Machines"
   ]
  },
  {
   "cell_type": "markdown",
   "id": "23fcd84e-58d6-4da7-9013-fa4979a1b27e",
   "metadata": {},
   "source": [
    "Following is the code for trying out hypertuning for SVM. I haven't tried it for the reasons listed in the first markdown of this file."
   ]
  },
  {
   "cell_type": "code",
   "execution_count": null,
   "id": "9e3c1e2e-883e-4067-8b71-4d149e5e6c67",
   "metadata": {},
   "outputs": [],
   "source": [
    "parameter_grid_svm = {\n",
    "    'C': [0.1, 1, 10, 100],\n",
    "    'kernel': ['linear', 'poly', 'rbf', 'sigmoid'],\n",
    "    'gamma': [0.001, 0.01, 0.1, 1]\n",
    "}\n",
    "svm2 = SVC(random_state = 42)\n",
    "grid_search_svm = GridSearchCV(estimator = svm2, param_grid = parameter_grid_svm, cv = 5, scoring = 'accuracy', n_jobs = -1, verbose = 2)\n",
    "grid_search_svm.fit(x_train, y_train)\n",
    "\n",
    "print(\"Best parameters: \", grid_search_svm.best_params_)\n",
    "best_svm = grid_search_svm.best_estimator_\n",
    "y_test_pred_svm2 = best_svm.predict(x_test)\n",
    "print(\"Test Accuracy: \", accuracy_score(y_test, y_test_pred_svm2))\n",
    "print(\"Best Cross-Validation Score: \", grid_search_svm.best_score_)"
   ]
  },
  {
   "cell_type": "markdown",
   "id": "9dabe1bf-a893-41b6-b219-428d6b0ebbc4",
   "metadata": {},
   "source": [
    "## You can try out the model on your data if you want, the steps are below"
   ]
  },
  {
   "cell_type": "code",
   "execution_count": 51,
   "id": "3ff600c1-3cdb-41dd-ac01-95d7b389d322",
   "metadata": {},
   "outputs": [],
   "source": [
    "dataset_sample = pd.concat([temp, temp1], axis = 0, ignore_index = True)"
   ]
  },
  {
   "cell_type": "code",
   "execution_count": 52,
   "id": "03ff82fe-73ce-4c8d-ba56-6327e9f7311d",
   "metadata": {
    "scrolled": true
   },
   "outputs": [
    {
     "name": "stdout",
     "output_type": "stream",
     "text": [
      "age\n",
      "36    1348\n",
      "35    1337\n",
      "33    1335\n",
      "23    1329\n",
      "31    1325\n",
      "      ... \n",
      "88       6\n",
      "85       5\n",
      "87       3\n",
      "89       2\n",
      "86       1\n",
      "Name: count, Length: 74, dtype: int64\n",
      "\n",
      "workclass\n",
      "Private             33906\n",
      "Self-emp-not-inc     3862\n",
      "Local-gov            3136\n",
      "?                    2799\n",
      "State-gov            1981\n",
      "Self-emp-inc         1695\n",
      "Federal-gov          1432\n",
      "Without-pay            21\n",
      "Never-worked           10\n",
      "Name: count, dtype: int64\n",
      "\n",
      "fnlwgt\n",
      "203488    21\n",
      "120277    19\n",
      "190290    19\n",
      "125892    18\n",
      "126569    18\n",
      "          ..\n",
      "286983     1\n",
      "185942     1\n",
      "234220     1\n",
      "214706     1\n",
      "350977     1\n",
      "Name: count, Length: 28523, dtype: int64\n",
      "\n",
      "education\n",
      "HS-grad         15784\n",
      "Some-college    10878\n",
      "Bachelors        8025\n",
      "Masters          2657\n",
      "Assoc-voc        2061\n",
      "11th             1812\n",
      "Assoc-acdm       1601\n",
      "10th             1389\n",
      "7th-8th           955\n",
      "Prof-school       834\n",
      "9th               756\n",
      "12th              657\n",
      "Doctorate         594\n",
      "5th-6th           509\n",
      "1st-4th           247\n",
      "Preschool          83\n",
      "Name: count, dtype: int64\n",
      "\n",
      "education-num\n",
      "9     15784\n",
      "10    10878\n",
      "13     8025\n",
      "14     2657\n",
      "11     2061\n",
      "7      1812\n",
      "12     1601\n",
      "6      1389\n",
      "4       955\n",
      "15      834\n",
      "5       756\n",
      "8       657\n",
      "16      594\n",
      "3       509\n",
      "2       247\n",
      "1        83\n",
      "Name: count, dtype: int64\n",
      "\n",
      "marital-status\n",
      "Married-civ-spouse       22379\n",
      "Never-married            16117\n",
      "Divorced                  6633\n",
      "Separated                 1530\n",
      "Widowed                   1518\n",
      "Married-spouse-absent      628\n",
      "Married-AF-spouse           37\n",
      "Name: count, dtype: int64\n",
      "\n",
      "occupation\n",
      "Prof-specialty       6172\n",
      "Craft-repair         6112\n",
      "Exec-managerial      6086\n",
      "Adm-clerical         5611\n",
      "Sales                5504\n",
      "Other-service        4923\n",
      "Machine-op-inspct    3022\n",
      "?                    2809\n",
      "Transport-moving     2355\n",
      "Handlers-cleaners    2072\n",
      "Farming-fishing      1490\n",
      "Tech-support         1446\n",
      "Protective-serv       983\n",
      "Priv-house-serv       242\n",
      "Armed-Forces           15\n",
      "Name: count, dtype: int64\n",
      "\n",
      "relationship\n",
      "Husband           19716\n",
      "Not-in-family     12583\n",
      "Own-child          7581\n",
      "Unmarried          5125\n",
      "Wife               2331\n",
      "Other-relative     1506\n",
      "Name: count, dtype: int64\n",
      "\n",
      "race\n",
      "White                 41762\n",
      "Black                  4685\n",
      "Asian-Pac-Islander     1519\n",
      "Amer-Indian-Eskimo      470\n",
      "Other                   406\n",
      "Name: count, dtype: int64\n",
      "\n",
      "sex\n",
      "Male      32650\n",
      "Female    16192\n",
      "Name: count, dtype: int64\n",
      "\n",
      "capital-gain\n",
      "0        44807\n",
      "15024      513\n",
      "7688       410\n",
      "7298       364\n",
      "99999      244\n",
      "         ...  \n",
      "22040        1\n",
      "2387         1\n",
      "1639         1\n",
      "1111         1\n",
      "6612         1\n",
      "Name: count, Length: 123, dtype: int64\n",
      "\n",
      "capital-loss\n",
      "0       46560\n",
      "1902      304\n",
      "1977      253\n",
      "1887      233\n",
      "2415       72\n",
      "        ...  \n",
      "1539        1\n",
      "1870        1\n",
      "1911        1\n",
      "2465        1\n",
      "1421        1\n",
      "Name: count, Length: 99, dtype: int64\n",
      "\n",
      "hours-per-week\n",
      "40    22803\n",
      "50     4246\n",
      "45     2717\n",
      "60     2177\n",
      "35     1937\n",
      "      ...  \n",
      "79        1\n",
      "94        1\n",
      "82        1\n",
      "87        1\n",
      "69        1\n",
      "Name: count, Length: 96, dtype: int64\n",
      "\n",
      "native-country\n",
      "United-States                 43832\n",
      "Mexico                          951\n",
      "?                               857\n",
      "Philippines                     295\n",
      "Germany                         206\n",
      "Puerto-Rico                     184\n",
      "Canada                          182\n",
      "El-Salvador                     155\n",
      "India                           151\n",
      "Cuba                            138\n",
      "England                         127\n",
      "China                           122\n",
      "South                           115\n",
      "Jamaica                         106\n",
      "Italy                           105\n",
      "Dominican-Republic              103\n",
      "Japan                            92\n",
      "Guatemala                        88\n",
      "Poland                           87\n",
      "Vietnam                          86\n",
      "Columbia                         85\n",
      "Haiti                            75\n",
      "Portugal                         67\n",
      "Taiwan                           65\n",
      "Iran                             59\n",
      "Greece                           49\n",
      "Nicaragua                        49\n",
      "Peru                             46\n",
      "Ecuador                          45\n",
      "France                           38\n",
      "Ireland                          37\n",
      "Hong                             30\n",
      "Thailand                         30\n",
      "Cambodia                         28\n",
      "Trinadad&Tobago                  27\n",
      "Laos                             23\n",
      "Yugoslavia                       23\n",
      "Outlying-US(Guam-USVI-etc)       23\n",
      "Scotland                         21\n",
      "Honduras                         20\n",
      "Hungary                          19\n",
      "Holand-Netherlands                1\n",
      "Name: count, dtype: int64\n",
      "\n",
      "income\n",
      "<=50K     24720\n",
      "<=50K.    12435\n",
      ">50K       7841\n",
      ">50K.      3846\n",
      "Name: count, dtype: int64\n",
      "\n"
     ]
    }
   ],
   "source": [
    "for _ in dataset_sample.columns:\n",
    "    print(dataset_sample[_].value_counts())\n",
    "    print()"
   ]
  },
  {
   "cell_type": "code",
   "execution_count": 67,
   "id": "4dda5827-cc3d-4293-a45a-33d7eafbce71",
   "metadata": {},
   "outputs": [],
   "source": [
    "label_encoders = {}\n",
    "categorical = ['marital-status', 'relationship', 'race', 'sex', 'native-country']\n",
    "categorical1 = ['workclass', 'occupation']\n",
    "numerical = ['age', 'fnlwgt', 'education-num', 'capital-gain', 'capital-loss', 'hours-per-week']\n",
    "\n",
    "for col in categorical + categorical1:\n",
    "    label_encoders[col] = joblib.load(f'{col}_label_encoder.pkl')\n",
    "\n",
    "ss = joblib.load('standard_scaler.pkl')\n",
    "\n",
    "sample_data = {\n",
    "    'age': [30] * 5,\n",
    "    'workclass': ['Private'] * 5,\n",
    "    'fnlwgt': [750000] * 5,  # just taking average cause no idea what this means\n",
    "    'education-num': [14] * 5,  # Corresponding to 'Masters'\n",
    "    'marital-status': ['Never-married'] * 5,\n",
    "    'occupation': ['Prof-specialty'] * 5,\n",
    "    'relationship': ['Not-in-family'] * 5,\n",
    "    'race': ['Asian-Pac-Islander'] * 5,  # 'Asian-Pac-Islander' for Indian\n",
    "    'sex': ['Male'] * 5,\n",
    "    'capital-gain': [0] * 5,\n",
    "    'capital-loss': [0] * 5,\n",
    "    'hours-per-week': [40, 46, 38, 48, 40], \n",
    "    'native-country': ['United-States', 'Japan', 'England', 'Scotland', 'India']\n",
    "}\n",
    "\n",
    "sample_df = pd.DataFrame(sample_data)\n",
    "\n",
    "# Transform categorical features using the saved encoders\n",
    "for col in categorical + categorical1:\n",
    "    sample_df[col] = label_encoders[col].transform(sample_df[col])\n",
    "\n",
    "# Transform numerical features using the saved scaler\n",
    "sample_df[numerical] = ss.transform(sample_df[numerical])"
   ]
  },
  {
   "cell_type": "markdown",
   "id": "ae982450-9000-4f17-b335-899e165dccce",
   "metadata": {},
   "source": [
    "### This sample_df can be used to calculate income if you want. The census is very old though so it won't be tha accurate.\n",
    "### Now, finally testing the best model found and checking the accuracy"
   ]
  },
  {
   "cell_type": "code",
   "execution_count": 66,
   "id": "4e6d09d3-fd41-46b2-8226-9bcf9e94a76a",
   "metadata": {},
   "outputs": [
    {
     "data": {
      "text/plain": [
       "0.8697921998157436"
      ]
     },
     "execution_count": 66,
     "metadata": {},
     "output_type": "execute_result"
    }
   ],
   "source": [
    "# {'learning_rate': 0.1, 'max_depth': 5, 'min_samples_leaf': 4, 'min_samples_split': 2, 'n_estimators': 200, 'subsample': 1.0}\n",
    "model = GradientBoostingClassifier(\n",
    "    learning_rate=0.1,\n",
    "    max_depth=5,\n",
    "    min_samples_leaf=4,\n",
    "    min_samples_split=2,\n",
    "    n_estimators=200,\n",
    "    subsample=1.0\n",
    ")\n",
    "\n",
    "temp = cross_val_score(model, x_train, y_train, cv = 10, scoring = 'accuracy')\n",
    "model.fit(x_train, y_train)\n",
    "y_test_pred_final = model.predict(x_test)\n",
    "accuracy_score(y_test_pred_final, y_test)"
   ]
  },
  {
   "cell_type": "markdown",
   "id": "8c2f34e3-5923-4cd7-b5a8-bf33cdcb2247",
   "metadata": {},
   "source": [
    "## 86.98% accuracy achieved by Gradient Boosting Classifier with the following parameters\n",
    "#### {'learning_rate': 0.1, 'max_depth': 5, 'min_samples_leaf': 4, 'min_samples_split': 2, 'n_estimators': 200, 'subsample': 1.0}"
   ]
  }
 ],
 "metadata": {
  "kernelspec": {
   "display_name": "Python 3 (ipykernel)",
   "language": "python",
   "name": "python3"
  },
  "language_info": {
   "codemirror_mode": {
    "name": "ipython",
    "version": 3
   },
   "file_extension": ".py",
   "mimetype": "text/x-python",
   "name": "python",
   "nbconvert_exporter": "python",
   "pygments_lexer": "ipython3",
   "version": "3.12.4"
  }
 },
 "nbformat": 4,
 "nbformat_minor": 5
}
