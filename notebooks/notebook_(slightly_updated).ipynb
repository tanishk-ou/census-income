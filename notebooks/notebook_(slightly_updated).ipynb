{
  "cells": [
    {
      "cell_type": "markdown",
      "id": "4c92692b-9d7f-4788-a6dd-7400f27dfd3a",
      "metadata": {
        "id": "4c92692b-9d7f-4788-a6dd-7400f27dfd3a"
      },
      "source": [
        "## Note on Execution Counts and Kernel Restart\n",
        "\n",
        "During the course of this project, I encountered an issue with my Jupyter Notebook. After numerous iterations and extensive experimentation (reaching execution counts in the range of 300), my laptop slowed down significantly. Some cells, indicated by a `[*]` symbol, were not completing their execution. This issue persisted even for basic operations like importing libraries. The last completed cell having execution count of 358, the cell being just the one before going for hypertuning of models i.e. the one before importing GridSearchCV and after that cell's execution, my laptop slowed down and the cells weren't being executed. I tried saving the file and reopening it but it was still happening so I restarted the whole thing and started again from command prompt.\n",
        "\n",
        "To resolve this, I had to restart the Jupyter kernel. Consequently, the execution counts of all cells were reset. Therefore, the current execution counts might appear lower than expected, typically starting from 1 or 2 after the restart.\n",
        "\n",
        "Please note that the extensive work done to preprocess, feature engineer, and fine-tune models has been preserved, but the cell execution counts do not reflect the initial high numbers due to the kernel restart.\n",
        "\n",
        "This project involved thorough and iterative attempts to improve the model, which is why the initial execution counts reached such high numbers before the restart was necessary.\n",
        "\n",
        "This restart changed the accuracy levels a little bit but there was no significant change.\n",
        "\n",
        "\n",
        "Re-Edit :- Turns out that if the laptop powers off (not sleep, just power off or battery 0), it will disconnect the kernel and I have to restart jupyter notebook to re-connect it which is probably what happened previously too (written above although might not be due to the reason wrote above). So as of now, hyperparameter tuning has been done for Random Forest and Gradient Boosting. I have decided to not do hypertuning for Support Vector Machines, the time consumption is a lot and the accuracy difference between Gradient Boosting and Support Vector Machines is already very much and even after hypertuning, it probalby won't be able to overcome that. I was interested to see the accuracy increase in SVM but sadly it takes too long and it's probably not even worth it. (If you are doing this on some online platform which doesn't depend on your laptop's specifications, then it might take less time and thus, be worth it)"
      ]
    },
    {
      "cell_type": "markdown",
      "id": "4da06131-0d00-4092-8af9-640fad7f8382",
      "metadata": {
        "id": "4da06131-0d00-4092-8af9-640fad7f8382"
      },
      "source": [
        "# Libraries"
      ]
    },
    {
      "cell_type": "code",
      "execution_count": 2,
      "id": "ba70a9ca-8265-47cd-8031-3b0f24a53084",
      "metadata": {
        "id": "ba70a9ca-8265-47cd-8031-3b0f24a53084"
      },
      "outputs": [],
      "source": [
        "import pandas as pd\n",
        "import numpy as np\n",
        "import warnings\n",
        "from sklearn.impute import SimpleImputer\n",
        "import seaborn as sms\n",
        "import matplotlib.pyplot as plt\n",
        "import joblib\n",
        "from joblib import dump\n",
        "warnings.filterwarnings('ignore')"
      ]
    },
    {
      "cell_type": "code",
      "execution_count": 3,
      "id": "b618c0c3-f17c-409e-8773-3e880fc4490b",
      "metadata": {
        "id": "b618c0c3-f17c-409e-8773-3e880fc4490b"
      },
      "outputs": [],
      "source": [
        "from sklearn.model_selection import train_test_split, cross_val_score\n",
        "from sklearn.metrics import accuracy_score"
      ]
    },
    {
      "cell_type": "code",
      "execution_count": 9,
      "id": "bef0ee9f-4fbf-42d2-8364-59daeecf41e7",
      "metadata": {
        "id": "bef0ee9f-4fbf-42d2-8364-59daeecf41e7"
      },
      "outputs": [],
      "source": [
        "from sklearn.ensemble import RandomForestClassifier"
      ]
    },
    {
      "cell_type": "code",
      "execution_count": 10,
      "id": "2a0df12e-e2bc-4b98-b913-70b91d19a67e",
      "metadata": {
        "id": "2a0df12e-e2bc-4b98-b913-70b91d19a67e"
      },
      "outputs": [],
      "source": [
        "from sklearn.preprocessing import LabelEncoder, StandardScaler, MinMaxScaler"
      ]
    },
    {
      "cell_type": "markdown",
      "id": "489b969e-e2e5-4f25-a64b-f0dce7cf5ec3",
      "metadata": {
        "id": "489b969e-e2e5-4f25-a64b-f0dce7cf5ec3"
      },
      "source": [
        "# Dataset"
      ]
    },
    {
      "cell_type": "code",
      "execution_count": 11,
      "id": "37135b88-5fce-420c-8d2e-05efe482f8fe",
      "metadata": {
        "id": "37135b88-5fce-420c-8d2e-05efe482f8fe"
      },
      "outputs": [],
      "source": [
        "temp = pd.read_csv(\"adult.data\", skipinitialspace = True)"
      ]
    },
    {
      "cell_type": "code",
      "execution_count": 12,
      "id": "7446a1ef-b912-4bc7-bff0-60fe76d1ad59",
      "metadata": {
        "id": "7446a1ef-b912-4bc7-bff0-60fe76d1ad59"
      },
      "outputs": [],
      "source": [
        "temp1 = pd.read_csv(\"adult.test\", skipinitialspace = True)"
      ]
    },
    {
      "cell_type": "code",
      "execution_count": 13,
      "id": "996e570d-f035-47e5-ab52-30a0f7a77bf1",
      "metadata": {
        "id": "996e570d-f035-47e5-ab52-30a0f7a77bf1"
      },
      "outputs": [],
      "source": [
        "dataset = pd.concat([temp, temp1], axis = 0, ignore_index = True)"
      ]
    },
    {
      "cell_type": "markdown",
      "id": "6c57b2aa-79fb-4ff6-9761-9b16ba3c4e14",
      "metadata": {
        "id": "6c57b2aa-79fb-4ff6-9761-9b16ba3c4e14"
      },
      "source": [
        "#### Dataset shown for reference"
      ]
    },
    {
      "cell_type": "code",
      "execution_count": 14,
      "id": "17c74e41-f200-42eb-9406-c6198f106356",
      "metadata": {
        "id": "17c74e41-f200-42eb-9406-c6198f106356",
        "outputId": "b25bc5aa-aeb4-4921-a61b-e108a7567a97",
        "colab": {
          "base_uri": "https://localhost:8080/",
          "height": 756
        }
      },
      "outputs": [
        {
          "output_type": "execute_result",
          "data": {
            "text/plain": [
              "       age         workclass  fnlwgt  education  education-num  \\\n",
              "0       39         State-gov   77516  Bachelors             13   \n",
              "1       50  Self-emp-not-inc   83311  Bachelors             13   \n",
              "2       38           Private  215646    HS-grad              9   \n",
              "3       53           Private  234721       11th              7   \n",
              "4       28           Private  338409  Bachelors             13   \n",
              "...    ...               ...     ...        ...            ...   \n",
              "48837   39           Private  215419  Bachelors             13   \n",
              "48838   64                 ?  321403    HS-grad              9   \n",
              "48839   38           Private  374983  Bachelors             13   \n",
              "48840   44           Private   83891  Bachelors             13   \n",
              "48841   35      Self-emp-inc  182148  Bachelors             13   \n",
              "\n",
              "           marital-status         occupation    relationship  \\\n",
              "0           Never-married       Adm-clerical   Not-in-family   \n",
              "1      Married-civ-spouse    Exec-managerial         Husband   \n",
              "2                Divorced  Handlers-cleaners   Not-in-family   \n",
              "3      Married-civ-spouse  Handlers-cleaners         Husband   \n",
              "4      Married-civ-spouse     Prof-specialty            Wife   \n",
              "...                   ...                ...             ...   \n",
              "48837            Divorced     Prof-specialty   Not-in-family   \n",
              "48838             Widowed                  ?  Other-relative   \n",
              "48839  Married-civ-spouse     Prof-specialty         Husband   \n",
              "48840            Divorced       Adm-clerical       Own-child   \n",
              "48841  Married-civ-spouse    Exec-managerial         Husband   \n",
              "\n",
              "                     race     sex  capital-gain  capital-loss  hours-per-week  \\\n",
              "0                   White    Male          2174             0              40   \n",
              "1                   White    Male             0             0              13   \n",
              "2                   White    Male             0             0              40   \n",
              "3                   Black    Male             0             0              40   \n",
              "4                   Black  Female             0             0              40   \n",
              "...                   ...     ...           ...           ...             ...   \n",
              "48837               White  Female             0             0              36   \n",
              "48838               Black    Male             0             0              40   \n",
              "48839               White    Male             0             0              50   \n",
              "48840  Asian-Pac-Islander    Male          5455             0              40   \n",
              "48841               White    Male             0             0              60   \n",
              "\n",
              "      native-country  income  \n",
              "0      United-States   <=50K  \n",
              "1      United-States   <=50K  \n",
              "2      United-States   <=50K  \n",
              "3      United-States   <=50K  \n",
              "4               Cuba   <=50K  \n",
              "...              ...     ...  \n",
              "48837  United-States  <=50K.  \n",
              "48838  United-States  <=50K.  \n",
              "48839  United-States  <=50K.  \n",
              "48840  United-States  <=50K.  \n",
              "48841  United-States   >50K.  \n",
              "\n",
              "[48842 rows x 15 columns]"
            ],
            "text/html": [
              "\n",
              "  <div id=\"df-ae79f113-431a-4f4c-a71f-1acfe077b08f\" class=\"colab-df-container\">\n",
              "    <div>\n",
              "<style scoped>\n",
              "    .dataframe tbody tr th:only-of-type {\n",
              "        vertical-align: middle;\n",
              "    }\n",
              "\n",
              "    .dataframe tbody tr th {\n",
              "        vertical-align: top;\n",
              "    }\n",
              "\n",
              "    .dataframe thead th {\n",
              "        text-align: right;\n",
              "    }\n",
              "</style>\n",
              "<table border=\"1\" class=\"dataframe\">\n",
              "  <thead>\n",
              "    <tr style=\"text-align: right;\">\n",
              "      <th></th>\n",
              "      <th>age</th>\n",
              "      <th>workclass</th>\n",
              "      <th>fnlwgt</th>\n",
              "      <th>education</th>\n",
              "      <th>education-num</th>\n",
              "      <th>marital-status</th>\n",
              "      <th>occupation</th>\n",
              "      <th>relationship</th>\n",
              "      <th>race</th>\n",
              "      <th>sex</th>\n",
              "      <th>capital-gain</th>\n",
              "      <th>capital-loss</th>\n",
              "      <th>hours-per-week</th>\n",
              "      <th>native-country</th>\n",
              "      <th>income</th>\n",
              "    </tr>\n",
              "  </thead>\n",
              "  <tbody>\n",
              "    <tr>\n",
              "      <th>0</th>\n",
              "      <td>39</td>\n",
              "      <td>State-gov</td>\n",
              "      <td>77516</td>\n",
              "      <td>Bachelors</td>\n",
              "      <td>13</td>\n",
              "      <td>Never-married</td>\n",
              "      <td>Adm-clerical</td>\n",
              "      <td>Not-in-family</td>\n",
              "      <td>White</td>\n",
              "      <td>Male</td>\n",
              "      <td>2174</td>\n",
              "      <td>0</td>\n",
              "      <td>40</td>\n",
              "      <td>United-States</td>\n",
              "      <td>&lt;=50K</td>\n",
              "    </tr>\n",
              "    <tr>\n",
              "      <th>1</th>\n",
              "      <td>50</td>\n",
              "      <td>Self-emp-not-inc</td>\n",
              "      <td>83311</td>\n",
              "      <td>Bachelors</td>\n",
              "      <td>13</td>\n",
              "      <td>Married-civ-spouse</td>\n",
              "      <td>Exec-managerial</td>\n",
              "      <td>Husband</td>\n",
              "      <td>White</td>\n",
              "      <td>Male</td>\n",
              "      <td>0</td>\n",
              "      <td>0</td>\n",
              "      <td>13</td>\n",
              "      <td>United-States</td>\n",
              "      <td>&lt;=50K</td>\n",
              "    </tr>\n",
              "    <tr>\n",
              "      <th>2</th>\n",
              "      <td>38</td>\n",
              "      <td>Private</td>\n",
              "      <td>215646</td>\n",
              "      <td>HS-grad</td>\n",
              "      <td>9</td>\n",
              "      <td>Divorced</td>\n",
              "      <td>Handlers-cleaners</td>\n",
              "      <td>Not-in-family</td>\n",
              "      <td>White</td>\n",
              "      <td>Male</td>\n",
              "      <td>0</td>\n",
              "      <td>0</td>\n",
              "      <td>40</td>\n",
              "      <td>United-States</td>\n",
              "      <td>&lt;=50K</td>\n",
              "    </tr>\n",
              "    <tr>\n",
              "      <th>3</th>\n",
              "      <td>53</td>\n",
              "      <td>Private</td>\n",
              "      <td>234721</td>\n",
              "      <td>11th</td>\n",
              "      <td>7</td>\n",
              "      <td>Married-civ-spouse</td>\n",
              "      <td>Handlers-cleaners</td>\n",
              "      <td>Husband</td>\n",
              "      <td>Black</td>\n",
              "      <td>Male</td>\n",
              "      <td>0</td>\n",
              "      <td>0</td>\n",
              "      <td>40</td>\n",
              "      <td>United-States</td>\n",
              "      <td>&lt;=50K</td>\n",
              "    </tr>\n",
              "    <tr>\n",
              "      <th>4</th>\n",
              "      <td>28</td>\n",
              "      <td>Private</td>\n",
              "      <td>338409</td>\n",
              "      <td>Bachelors</td>\n",
              "      <td>13</td>\n",
              "      <td>Married-civ-spouse</td>\n",
              "      <td>Prof-specialty</td>\n",
              "      <td>Wife</td>\n",
              "      <td>Black</td>\n",
              "      <td>Female</td>\n",
              "      <td>0</td>\n",
              "      <td>0</td>\n",
              "      <td>40</td>\n",
              "      <td>Cuba</td>\n",
              "      <td>&lt;=50K</td>\n",
              "    </tr>\n",
              "    <tr>\n",
              "      <th>...</th>\n",
              "      <td>...</td>\n",
              "      <td>...</td>\n",
              "      <td>...</td>\n",
              "      <td>...</td>\n",
              "      <td>...</td>\n",
              "      <td>...</td>\n",
              "      <td>...</td>\n",
              "      <td>...</td>\n",
              "      <td>...</td>\n",
              "      <td>...</td>\n",
              "      <td>...</td>\n",
              "      <td>...</td>\n",
              "      <td>...</td>\n",
              "      <td>...</td>\n",
              "      <td>...</td>\n",
              "    </tr>\n",
              "    <tr>\n",
              "      <th>48837</th>\n",
              "      <td>39</td>\n",
              "      <td>Private</td>\n",
              "      <td>215419</td>\n",
              "      <td>Bachelors</td>\n",
              "      <td>13</td>\n",
              "      <td>Divorced</td>\n",
              "      <td>Prof-specialty</td>\n",
              "      <td>Not-in-family</td>\n",
              "      <td>White</td>\n",
              "      <td>Female</td>\n",
              "      <td>0</td>\n",
              "      <td>0</td>\n",
              "      <td>36</td>\n",
              "      <td>United-States</td>\n",
              "      <td>&lt;=50K.</td>\n",
              "    </tr>\n",
              "    <tr>\n",
              "      <th>48838</th>\n",
              "      <td>64</td>\n",
              "      <td>?</td>\n",
              "      <td>321403</td>\n",
              "      <td>HS-grad</td>\n",
              "      <td>9</td>\n",
              "      <td>Widowed</td>\n",
              "      <td>?</td>\n",
              "      <td>Other-relative</td>\n",
              "      <td>Black</td>\n",
              "      <td>Male</td>\n",
              "      <td>0</td>\n",
              "      <td>0</td>\n",
              "      <td>40</td>\n",
              "      <td>United-States</td>\n",
              "      <td>&lt;=50K.</td>\n",
              "    </tr>\n",
              "    <tr>\n",
              "      <th>48839</th>\n",
              "      <td>38</td>\n",
              "      <td>Private</td>\n",
              "      <td>374983</td>\n",
              "      <td>Bachelors</td>\n",
              "      <td>13</td>\n",
              "      <td>Married-civ-spouse</td>\n",
              "      <td>Prof-specialty</td>\n",
              "      <td>Husband</td>\n",
              "      <td>White</td>\n",
              "      <td>Male</td>\n",
              "      <td>0</td>\n",
              "      <td>0</td>\n",
              "      <td>50</td>\n",
              "      <td>United-States</td>\n",
              "      <td>&lt;=50K.</td>\n",
              "    </tr>\n",
              "    <tr>\n",
              "      <th>48840</th>\n",
              "      <td>44</td>\n",
              "      <td>Private</td>\n",
              "      <td>83891</td>\n",
              "      <td>Bachelors</td>\n",
              "      <td>13</td>\n",
              "      <td>Divorced</td>\n",
              "      <td>Adm-clerical</td>\n",
              "      <td>Own-child</td>\n",
              "      <td>Asian-Pac-Islander</td>\n",
              "      <td>Male</td>\n",
              "      <td>5455</td>\n",
              "      <td>0</td>\n",
              "      <td>40</td>\n",
              "      <td>United-States</td>\n",
              "      <td>&lt;=50K.</td>\n",
              "    </tr>\n",
              "    <tr>\n",
              "      <th>48841</th>\n",
              "      <td>35</td>\n",
              "      <td>Self-emp-inc</td>\n",
              "      <td>182148</td>\n",
              "      <td>Bachelors</td>\n",
              "      <td>13</td>\n",
              "      <td>Married-civ-spouse</td>\n",
              "      <td>Exec-managerial</td>\n",
              "      <td>Husband</td>\n",
              "      <td>White</td>\n",
              "      <td>Male</td>\n",
              "      <td>0</td>\n",
              "      <td>0</td>\n",
              "      <td>60</td>\n",
              "      <td>United-States</td>\n",
              "      <td>&gt;50K.</td>\n",
              "    </tr>\n",
              "  </tbody>\n",
              "</table>\n",
              "<p>48842 rows × 15 columns</p>\n",
              "</div>\n",
              "    <div class=\"colab-df-buttons\">\n",
              "\n",
              "  <div class=\"colab-df-container\">\n",
              "    <button class=\"colab-df-convert\" onclick=\"convertToInteractive('df-ae79f113-431a-4f4c-a71f-1acfe077b08f')\"\n",
              "            title=\"Convert this dataframe to an interactive table.\"\n",
              "            style=\"display:none;\">\n",
              "\n",
              "  <svg xmlns=\"http://www.w3.org/2000/svg\" height=\"24px\" viewBox=\"0 -960 960 960\">\n",
              "    <path d=\"M120-120v-720h720v720H120Zm60-500h600v-160H180v160Zm220 220h160v-160H400v160Zm0 220h160v-160H400v160ZM180-400h160v-160H180v160Zm440 0h160v-160H620v160ZM180-180h160v-160H180v160Zm440 0h160v-160H620v160Z\"/>\n",
              "  </svg>\n",
              "    </button>\n",
              "\n",
              "  <style>\n",
              "    .colab-df-container {\n",
              "      display:flex;\n",
              "      gap: 12px;\n",
              "    }\n",
              "\n",
              "    .colab-df-convert {\n",
              "      background-color: #E8F0FE;\n",
              "      border: none;\n",
              "      border-radius: 50%;\n",
              "      cursor: pointer;\n",
              "      display: none;\n",
              "      fill: #1967D2;\n",
              "      height: 32px;\n",
              "      padding: 0 0 0 0;\n",
              "      width: 32px;\n",
              "    }\n",
              "\n",
              "    .colab-df-convert:hover {\n",
              "      background-color: #E2EBFA;\n",
              "      box-shadow: 0px 1px 2px rgba(60, 64, 67, 0.3), 0px 1px 3px 1px rgba(60, 64, 67, 0.15);\n",
              "      fill: #174EA6;\n",
              "    }\n",
              "\n",
              "    .colab-df-buttons div {\n",
              "      margin-bottom: 4px;\n",
              "    }\n",
              "\n",
              "    [theme=dark] .colab-df-convert {\n",
              "      background-color: #3B4455;\n",
              "      fill: #D2E3FC;\n",
              "    }\n",
              "\n",
              "    [theme=dark] .colab-df-convert:hover {\n",
              "      background-color: #434B5C;\n",
              "      box-shadow: 0px 1px 3px 1px rgba(0, 0, 0, 0.15);\n",
              "      filter: drop-shadow(0px 1px 2px rgba(0, 0, 0, 0.3));\n",
              "      fill: #FFFFFF;\n",
              "    }\n",
              "  </style>\n",
              "\n",
              "    <script>\n",
              "      const buttonEl =\n",
              "        document.querySelector('#df-ae79f113-431a-4f4c-a71f-1acfe077b08f button.colab-df-convert');\n",
              "      buttonEl.style.display =\n",
              "        google.colab.kernel.accessAllowed ? 'block' : 'none';\n",
              "\n",
              "      async function convertToInteractive(key) {\n",
              "        const element = document.querySelector('#df-ae79f113-431a-4f4c-a71f-1acfe077b08f');\n",
              "        const dataTable =\n",
              "          await google.colab.kernel.invokeFunction('convertToInteractive',\n",
              "                                                    [key], {});\n",
              "        if (!dataTable) return;\n",
              "\n",
              "        const docLinkHtml = 'Like what you see? Visit the ' +\n",
              "          '<a target=\"_blank\" href=https://colab.research.google.com/notebooks/data_table.ipynb>data table notebook</a>'\n",
              "          + ' to learn more about interactive tables.';\n",
              "        element.innerHTML = '';\n",
              "        dataTable['output_type'] = 'display_data';\n",
              "        await google.colab.output.renderOutput(dataTable, element);\n",
              "        const docLink = document.createElement('div');\n",
              "        docLink.innerHTML = docLinkHtml;\n",
              "        element.appendChild(docLink);\n",
              "      }\n",
              "    </script>\n",
              "  </div>\n",
              "\n",
              "\n",
              "<div id=\"df-de7213d0-4f18-4cb3-b707-0bb2ebeac870\">\n",
              "  <button class=\"colab-df-quickchart\" onclick=\"quickchart('df-de7213d0-4f18-4cb3-b707-0bb2ebeac870')\"\n",
              "            title=\"Suggest charts\"\n",
              "            style=\"display:none;\">\n",
              "\n",
              "<svg xmlns=\"http://www.w3.org/2000/svg\" height=\"24px\"viewBox=\"0 0 24 24\"\n",
              "     width=\"24px\">\n",
              "    <g>\n",
              "        <path d=\"M19 3H5c-1.1 0-2 .9-2 2v14c0 1.1.9 2 2 2h14c1.1 0 2-.9 2-2V5c0-1.1-.9-2-2-2zM9 17H7v-7h2v7zm4 0h-2V7h2v10zm4 0h-2v-4h2v4z\"/>\n",
              "    </g>\n",
              "</svg>\n",
              "  </button>\n",
              "\n",
              "<style>\n",
              "  .colab-df-quickchart {\n",
              "      --bg-color: #E8F0FE;\n",
              "      --fill-color: #1967D2;\n",
              "      --hover-bg-color: #E2EBFA;\n",
              "      --hover-fill-color: #174EA6;\n",
              "      --disabled-fill-color: #AAA;\n",
              "      --disabled-bg-color: #DDD;\n",
              "  }\n",
              "\n",
              "  [theme=dark] .colab-df-quickchart {\n",
              "      --bg-color: #3B4455;\n",
              "      --fill-color: #D2E3FC;\n",
              "      --hover-bg-color: #434B5C;\n",
              "      --hover-fill-color: #FFFFFF;\n",
              "      --disabled-bg-color: #3B4455;\n",
              "      --disabled-fill-color: #666;\n",
              "  }\n",
              "\n",
              "  .colab-df-quickchart {\n",
              "    background-color: var(--bg-color);\n",
              "    border: none;\n",
              "    border-radius: 50%;\n",
              "    cursor: pointer;\n",
              "    display: none;\n",
              "    fill: var(--fill-color);\n",
              "    height: 32px;\n",
              "    padding: 0;\n",
              "    width: 32px;\n",
              "  }\n",
              "\n",
              "  .colab-df-quickchart:hover {\n",
              "    background-color: var(--hover-bg-color);\n",
              "    box-shadow: 0 1px 2px rgba(60, 64, 67, 0.3), 0 1px 3px 1px rgba(60, 64, 67, 0.15);\n",
              "    fill: var(--button-hover-fill-color);\n",
              "  }\n",
              "\n",
              "  .colab-df-quickchart-complete:disabled,\n",
              "  .colab-df-quickchart-complete:disabled:hover {\n",
              "    background-color: var(--disabled-bg-color);\n",
              "    fill: var(--disabled-fill-color);\n",
              "    box-shadow: none;\n",
              "  }\n",
              "\n",
              "  .colab-df-spinner {\n",
              "    border: 2px solid var(--fill-color);\n",
              "    border-color: transparent;\n",
              "    border-bottom-color: var(--fill-color);\n",
              "    animation:\n",
              "      spin 1s steps(1) infinite;\n",
              "  }\n",
              "\n",
              "  @keyframes spin {\n",
              "    0% {\n",
              "      border-color: transparent;\n",
              "      border-bottom-color: var(--fill-color);\n",
              "      border-left-color: var(--fill-color);\n",
              "    }\n",
              "    20% {\n",
              "      border-color: transparent;\n",
              "      border-left-color: var(--fill-color);\n",
              "      border-top-color: var(--fill-color);\n",
              "    }\n",
              "    30% {\n",
              "      border-color: transparent;\n",
              "      border-left-color: var(--fill-color);\n",
              "      border-top-color: var(--fill-color);\n",
              "      border-right-color: var(--fill-color);\n",
              "    }\n",
              "    40% {\n",
              "      border-color: transparent;\n",
              "      border-right-color: var(--fill-color);\n",
              "      border-top-color: var(--fill-color);\n",
              "    }\n",
              "    60% {\n",
              "      border-color: transparent;\n",
              "      border-right-color: var(--fill-color);\n",
              "    }\n",
              "    80% {\n",
              "      border-color: transparent;\n",
              "      border-right-color: var(--fill-color);\n",
              "      border-bottom-color: var(--fill-color);\n",
              "    }\n",
              "    90% {\n",
              "      border-color: transparent;\n",
              "      border-bottom-color: var(--fill-color);\n",
              "    }\n",
              "  }\n",
              "</style>\n",
              "\n",
              "  <script>\n",
              "    async function quickchart(key) {\n",
              "      const quickchartButtonEl =\n",
              "        document.querySelector('#' + key + ' button');\n",
              "      quickchartButtonEl.disabled = true;  // To prevent multiple clicks.\n",
              "      quickchartButtonEl.classList.add('colab-df-spinner');\n",
              "      try {\n",
              "        const charts = await google.colab.kernel.invokeFunction(\n",
              "            'suggestCharts', [key], {});\n",
              "      } catch (error) {\n",
              "        console.error('Error during call to suggestCharts:', error);\n",
              "      }\n",
              "      quickchartButtonEl.classList.remove('colab-df-spinner');\n",
              "      quickchartButtonEl.classList.add('colab-df-quickchart-complete');\n",
              "    }\n",
              "    (() => {\n",
              "      let quickchartButtonEl =\n",
              "        document.querySelector('#df-de7213d0-4f18-4cb3-b707-0bb2ebeac870 button');\n",
              "      quickchartButtonEl.style.display =\n",
              "        google.colab.kernel.accessAllowed ? 'block' : 'none';\n",
              "    })();\n",
              "  </script>\n",
              "</div>\n",
              "\n",
              "  <div id=\"id_d655d657-232b-4579-a459-358c9ef1a3bb\">\n",
              "    <style>\n",
              "      .colab-df-generate {\n",
              "        background-color: #E8F0FE;\n",
              "        border: none;\n",
              "        border-radius: 50%;\n",
              "        cursor: pointer;\n",
              "        display: none;\n",
              "        fill: #1967D2;\n",
              "        height: 32px;\n",
              "        padding: 0 0 0 0;\n",
              "        width: 32px;\n",
              "      }\n",
              "\n",
              "      .colab-df-generate:hover {\n",
              "        background-color: #E2EBFA;\n",
              "        box-shadow: 0px 1px 2px rgba(60, 64, 67, 0.3), 0px 1px 3px 1px rgba(60, 64, 67, 0.15);\n",
              "        fill: #174EA6;\n",
              "      }\n",
              "\n",
              "      [theme=dark] .colab-df-generate {\n",
              "        background-color: #3B4455;\n",
              "        fill: #D2E3FC;\n",
              "      }\n",
              "\n",
              "      [theme=dark] .colab-df-generate:hover {\n",
              "        background-color: #434B5C;\n",
              "        box-shadow: 0px 1px 3px 1px rgba(0, 0, 0, 0.15);\n",
              "        filter: drop-shadow(0px 1px 2px rgba(0, 0, 0, 0.3));\n",
              "        fill: #FFFFFF;\n",
              "      }\n",
              "    </style>\n",
              "    <button class=\"colab-df-generate\" onclick=\"generateWithVariable('dataset')\"\n",
              "            title=\"Generate code using this dataframe.\"\n",
              "            style=\"display:none;\">\n",
              "\n",
              "  <svg xmlns=\"http://www.w3.org/2000/svg\" height=\"24px\"viewBox=\"0 0 24 24\"\n",
              "       width=\"24px\">\n",
              "    <path d=\"M7,19H8.4L18.45,9,17,7.55,7,17.6ZM5,21V16.75L18.45,3.32a2,2,0,0,1,2.83,0l1.4,1.43a1.91,1.91,0,0,1,.58,1.4,1.91,1.91,0,0,1-.58,1.4L9.25,21ZM18.45,9,17,7.55Zm-12,3A5.31,5.31,0,0,0,4.9,8.1,5.31,5.31,0,0,0,1,6.5,5.31,5.31,0,0,0,4.9,4.9,5.31,5.31,0,0,0,6.5,1,5.31,5.31,0,0,0,8.1,4.9,5.31,5.31,0,0,0,12,6.5,5.46,5.46,0,0,0,6.5,12Z\"/>\n",
              "  </svg>\n",
              "    </button>\n",
              "    <script>\n",
              "      (() => {\n",
              "      const buttonEl =\n",
              "        document.querySelector('#id_d655d657-232b-4579-a459-358c9ef1a3bb button.colab-df-generate');\n",
              "      buttonEl.style.display =\n",
              "        google.colab.kernel.accessAllowed ? 'block' : 'none';\n",
              "\n",
              "      buttonEl.onclick = () => {\n",
              "        google.colab.notebook.generateWithVariable('dataset');\n",
              "      }\n",
              "      })();\n",
              "    </script>\n",
              "  </div>\n",
              "\n",
              "    </div>\n",
              "  </div>\n"
            ],
            "application/vnd.google.colaboratory.intrinsic+json": {
              "type": "dataframe",
              "variable_name": "dataset",
              "summary": "{\n  \"name\": \"dataset\",\n  \"rows\": 48842,\n  \"fields\": [\n    {\n      \"column\": \"age\",\n      \"properties\": {\n        \"dtype\": \"number\",\n        \"std\": 13,\n        \"min\": 17,\n        \"max\": 90,\n        \"num_unique_values\": 74,\n        \"samples\": [\n          28,\n          73,\n          35\n        ],\n        \"semantic_type\": \"\",\n        \"description\": \"\"\n      }\n    },\n    {\n      \"column\": \"workclass\",\n      \"properties\": {\n        \"dtype\": \"category\",\n        \"num_unique_values\": 9,\n        \"samples\": [\n          \"Without-pay\",\n          \"Self-emp-not-inc\",\n          \"?\"\n        ],\n        \"semantic_type\": \"\",\n        \"description\": \"\"\n      }\n    },\n    {\n      \"column\": \"fnlwgt\",\n      \"properties\": {\n        \"dtype\": \"number\",\n        \"std\": 105604,\n        \"min\": 12285,\n        \"max\": 1490400,\n        \"num_unique_values\": 28523,\n        \"samples\": [\n          159077,\n          199450,\n          181773\n        ],\n        \"semantic_type\": \"\",\n        \"description\": \"\"\n      }\n    },\n    {\n      \"column\": \"education\",\n      \"properties\": {\n        \"dtype\": \"category\",\n        \"num_unique_values\": 16,\n        \"samples\": [\n          \"Bachelors\",\n          \"HS-grad\",\n          \"Some-college\"\n        ],\n        \"semantic_type\": \"\",\n        \"description\": \"\"\n      }\n    },\n    {\n      \"column\": \"education-num\",\n      \"properties\": {\n        \"dtype\": \"number\",\n        \"std\": 2,\n        \"min\": 1,\n        \"max\": 16,\n        \"num_unique_values\": 16,\n        \"samples\": [\n          13,\n          9,\n          10\n        ],\n        \"semantic_type\": \"\",\n        \"description\": \"\"\n      }\n    },\n    {\n      \"column\": \"marital-status\",\n      \"properties\": {\n        \"dtype\": \"category\",\n        \"num_unique_values\": 7,\n        \"samples\": [\n          \"Never-married\",\n          \"Married-civ-spouse\",\n          \"Married-AF-spouse\"\n        ],\n        \"semantic_type\": \"\",\n        \"description\": \"\"\n      }\n    },\n    {\n      \"column\": \"occupation\",\n      \"properties\": {\n        \"dtype\": \"category\",\n        \"num_unique_values\": 15,\n        \"samples\": [\n          \"Machine-op-inspct\",\n          \"?\",\n          \"Adm-clerical\"\n        ],\n        \"semantic_type\": \"\",\n        \"description\": \"\"\n      }\n    },\n    {\n      \"column\": \"relationship\",\n      \"properties\": {\n        \"dtype\": \"category\",\n        \"num_unique_values\": 6,\n        \"samples\": [\n          \"Not-in-family\",\n          \"Husband\",\n          \"Other-relative\"\n        ],\n        \"semantic_type\": \"\",\n        \"description\": \"\"\n      }\n    },\n    {\n      \"column\": \"race\",\n      \"properties\": {\n        \"dtype\": \"category\",\n        \"num_unique_values\": 5,\n        \"samples\": [\n          \"Black\",\n          \"Other\",\n          \"Asian-Pac-Islander\"\n        ],\n        \"semantic_type\": \"\",\n        \"description\": \"\"\n      }\n    },\n    {\n      \"column\": \"sex\",\n      \"properties\": {\n        \"dtype\": \"category\",\n        \"num_unique_values\": 2,\n        \"samples\": [\n          \"Female\",\n          \"Male\"\n        ],\n        \"semantic_type\": \"\",\n        \"description\": \"\"\n      }\n    },\n    {\n      \"column\": \"capital-gain\",\n      \"properties\": {\n        \"dtype\": \"number\",\n        \"std\": 7452,\n        \"min\": 0,\n        \"max\": 99999,\n        \"num_unique_values\": 123,\n        \"samples\": [\n          2176,\n          10520\n        ],\n        \"semantic_type\": \"\",\n        \"description\": \"\"\n      }\n    },\n    {\n      \"column\": \"capital-loss\",\n      \"properties\": {\n        \"dtype\": \"number\",\n        \"std\": 403,\n        \"min\": 0,\n        \"max\": 4356,\n        \"num_unique_values\": 99,\n        \"samples\": [\n          1974,\n          419\n        ],\n        \"semantic_type\": \"\",\n        \"description\": \"\"\n      }\n    },\n    {\n      \"column\": \"hours-per-week\",\n      \"properties\": {\n        \"dtype\": \"number\",\n        \"std\": 12,\n        \"min\": 1,\n        \"max\": 99,\n        \"num_unique_values\": 96,\n        \"samples\": [\n          97,\n          88\n        ],\n        \"semantic_type\": \"\",\n        \"description\": \"\"\n      }\n    },\n    {\n      \"column\": \"native-country\",\n      \"properties\": {\n        \"dtype\": \"category\",\n        \"num_unique_values\": 42,\n        \"samples\": [\n          \"El-Salvador\",\n          \"Philippines\"\n        ],\n        \"semantic_type\": \"\",\n        \"description\": \"\"\n      }\n    },\n    {\n      \"column\": \"income\",\n      \"properties\": {\n        \"dtype\": \"category\",\n        \"num_unique_values\": 4,\n        \"samples\": [\n          \">50K\",\n          \">50K.\"\n        ],\n        \"semantic_type\": \"\",\n        \"description\": \"\"\n      }\n    }\n  ]\n}"
            }
          },
          "metadata": {},
          "execution_count": 14
        }
      ],
      "source": [
        "dataset"
      ]
    },
    {
      "cell_type": "markdown",
      "id": "49c30bdb-4d88-41bc-ab72-0352281cbf23",
      "metadata": {
        "id": "49c30bdb-4d88-41bc-ab72-0352281cbf23"
      },
      "source": [
        "#### -> Occupation, native country and workclass had missing values\n",
        "#### -> native country was fixed by replacing missing value (\"?\") by United-States since that was the most frequent country in each race\n",
        "#### -> Occupation where workclass was \"Never-worked\" was set to \"Never-worked\"\n",
        "#### -> Rest of the occupation and workclass were added with the help of Random Forest Model\n",
        "#### -> Some features which might be related with occupation (despite being controversial) were given to the model to predict occupation\n",
        "#### -> Since workclass can not be tied to any of the given columns completely, full dataset was used to predict the missing values\n",
        "#### -> 'education' column has been left out since 'education-num' is just the same thing\n",
        "#### -> 'income' column was converted to a binary column with -1 and 1 values\n",
        "#### -> The label encoder and standard scaler models were saved with joblib to use them to scale data if any new data was to be added"
      ]
    },
    {
      "cell_type": "code",
      "execution_count": 15,
      "id": "1d90dc0c-7a2b-4d40-8839-58850f9b152b",
      "metadata": {
        "colab": {
          "base_uri": "https://localhost:8080/"
        },
        "id": "1d90dc0c-7a2b-4d40-8839-58850f9b152b",
        "outputId": "de7ac5fd-c5f0-4b1f-e140-c9f3cdf31312"
      },
      "outputs": [
        {
          "output_type": "execute_result",
          "data": {
            "text/plain": [
              "['standard_scaler.pkl']"
            ]
          },
          "metadata": {},
          "execution_count": 15
        }
      ],
      "source": [
        "dataset.loc[(dataset['income'] == \"<=50K\") | (dataset['income'] == \"<=50K.\"), 'income'] = -1\n",
        "dataset.loc[(dataset['income'] == \">50K\") | (dataset['income'] == \">50K.\"), 'income'] = 1\n",
        "dataset.loc[(dataset['workclass'] == \"Never-worked\"), 'occupation'] = \"Never-worked\"\n",
        "dataset.loc[(dataset['native-country'] == '?'), 'native-country'] = \"United-States\"\n",
        "categorical = ['marital-status', 'relationship', 'race', 'sex', 'native-country']\n",
        "numerical = ['age', 'fnlwgt', 'education-num', 'capital-gain', 'capital-loss', 'hours-per-week']\n",
        "label = {}\n",
        "norm = MinMaxScaler()\n",
        "for col in categorical:\n",
        "    le = LabelEncoder()\n",
        "    dataset[col] = le.fit_transform(dataset[col])\n",
        "    label[col] = le\n",
        "\n",
        "dataset[numerical] = norm.fit_transform(dataset[numerical])\n",
        "\n",
        "for col, le in label.items():\n",
        "    joblib.dump(le, f'{col}_label_encoder.pkl')\n",
        "joblib.dump(norm, 'standard_scaler.pkl')"
      ]
    },
    {
      "cell_type": "code",
      "execution_count": 16,
      "id": "c80dbe65-31c3-4281-ac67-17de89bf9a7d",
      "metadata": {
        "id": "c80dbe65-31c3-4281-ac67-17de89bf9a7d"
      },
      "outputs": [],
      "source": [
        "dataset_no_missing = dataset[(dataset['occupation'] != '?') & (dataset['workclass'] != '?')]\n",
        "dataset_missing = dataset[(dataset['occupation'] == '?') | (dataset['workclass'] == '?')]"
      ]
    },
    {
      "cell_type": "code",
      "execution_count": 17,
      "id": "17c1b6f4-2200-41a1-a0fd-13fdbff398b1",
      "metadata": {
        "id": "17c1b6f4-2200-41a1-a0fd-13fdbff398b1"
      },
      "outputs": [],
      "source": [
        "categorical1 = ['workclass', 'occupation']\n",
        "for col in categorical1:\n",
        "    le = LabelEncoder()\n",
        "    dataset_no_missing[col] = le.fit_transform(dataset_no_missing[col])\n",
        "    joblib.dump(le, f'{col}_label_encoder.pkl')"
      ]
    },
    {
      "cell_type": "code",
      "execution_count": 18,
      "id": "32bc31f9-2d29-4fb1-b283-5e5f201286e6",
      "metadata": {
        "colab": {
          "base_uri": "https://localhost:8080/",
          "height": 74
        },
        "id": "32bc31f9-2d29-4fb1-b283-5e5f201286e6",
        "outputId": "8f6d1e37-1e46-463e-c575-21d2fbb11d5b"
      },
      "outputs": [
        {
          "output_type": "execute_result",
          "data": {
            "text/plain": [
              "RandomForestClassifier(random_state=42)"
            ],
            "text/html": [
              "<style>#sk-container-id-1 {color: black;}#sk-container-id-1 pre{padding: 0;}#sk-container-id-1 div.sk-toggleable {background-color: white;}#sk-container-id-1 label.sk-toggleable__label {cursor: pointer;display: block;width: 100%;margin-bottom: 0;padding: 0.3em;box-sizing: border-box;text-align: center;}#sk-container-id-1 label.sk-toggleable__label-arrow:before {content: \"▸\";float: left;margin-right: 0.25em;color: #696969;}#sk-container-id-1 label.sk-toggleable__label-arrow:hover:before {color: black;}#sk-container-id-1 div.sk-estimator:hover label.sk-toggleable__label-arrow:before {color: black;}#sk-container-id-1 div.sk-toggleable__content {max-height: 0;max-width: 0;overflow: hidden;text-align: left;background-color: #f0f8ff;}#sk-container-id-1 div.sk-toggleable__content pre {margin: 0.2em;color: black;border-radius: 0.25em;background-color: #f0f8ff;}#sk-container-id-1 input.sk-toggleable__control:checked~div.sk-toggleable__content {max-height: 200px;max-width: 100%;overflow: auto;}#sk-container-id-1 input.sk-toggleable__control:checked~label.sk-toggleable__label-arrow:before {content: \"▾\";}#sk-container-id-1 div.sk-estimator input.sk-toggleable__control:checked~label.sk-toggleable__label {background-color: #d4ebff;}#sk-container-id-1 div.sk-label input.sk-toggleable__control:checked~label.sk-toggleable__label {background-color: #d4ebff;}#sk-container-id-1 input.sk-hidden--visually {border: 0;clip: rect(1px 1px 1px 1px);clip: rect(1px, 1px, 1px, 1px);height: 1px;margin: -1px;overflow: hidden;padding: 0;position: absolute;width: 1px;}#sk-container-id-1 div.sk-estimator {font-family: monospace;background-color: #f0f8ff;border: 1px dotted black;border-radius: 0.25em;box-sizing: border-box;margin-bottom: 0.5em;}#sk-container-id-1 div.sk-estimator:hover {background-color: #d4ebff;}#sk-container-id-1 div.sk-parallel-item::after {content: \"\";width: 100%;border-bottom: 1px solid gray;flex-grow: 1;}#sk-container-id-1 div.sk-label:hover label.sk-toggleable__label {background-color: #d4ebff;}#sk-container-id-1 div.sk-serial::before {content: \"\";position: absolute;border-left: 1px solid gray;box-sizing: border-box;top: 0;bottom: 0;left: 50%;z-index: 0;}#sk-container-id-1 div.sk-serial {display: flex;flex-direction: column;align-items: center;background-color: white;padding-right: 0.2em;padding-left: 0.2em;position: relative;}#sk-container-id-1 div.sk-item {position: relative;z-index: 1;}#sk-container-id-1 div.sk-parallel {display: flex;align-items: stretch;justify-content: center;background-color: white;position: relative;}#sk-container-id-1 div.sk-item::before, #sk-container-id-1 div.sk-parallel-item::before {content: \"\";position: absolute;border-left: 1px solid gray;box-sizing: border-box;top: 0;bottom: 0;left: 50%;z-index: -1;}#sk-container-id-1 div.sk-parallel-item {display: flex;flex-direction: column;z-index: 1;position: relative;background-color: white;}#sk-container-id-1 div.sk-parallel-item:first-child::after {align-self: flex-end;width: 50%;}#sk-container-id-1 div.sk-parallel-item:last-child::after {align-self: flex-start;width: 50%;}#sk-container-id-1 div.sk-parallel-item:only-child::after {width: 0;}#sk-container-id-1 div.sk-dashed-wrapped {border: 1px dashed gray;margin: 0 0.4em 0.5em 0.4em;box-sizing: border-box;padding-bottom: 0.4em;background-color: white;}#sk-container-id-1 div.sk-label label {font-family: monospace;font-weight: bold;display: inline-block;line-height: 1.2em;}#sk-container-id-1 div.sk-label-container {text-align: center;}#sk-container-id-1 div.sk-container {/* jupyter's `normalize.less` sets `[hidden] { display: none; }` but bootstrap.min.css set `[hidden] { display: none !important; }` so we also need the `!important` here to be able to override the default hidden behavior on the sphinx rendered scikit-learn.org. See: https://github.com/scikit-learn/scikit-learn/issues/21755 */display: inline-block !important;position: relative;}#sk-container-id-1 div.sk-text-repr-fallback {display: none;}</style><div id=\"sk-container-id-1\" class=\"sk-top-container\"><div class=\"sk-text-repr-fallback\"><pre>RandomForestClassifier(random_state=42)</pre><b>In a Jupyter environment, please rerun this cell to show the HTML representation or trust the notebook. <br />On GitHub, the HTML representation is unable to render, please try loading this page with nbviewer.org.</b></div><div class=\"sk-container\" hidden><div class=\"sk-item\"><div class=\"sk-estimator sk-toggleable\"><input class=\"sk-toggleable__control sk-hidden--visually\" id=\"sk-estimator-id-1\" type=\"checkbox\" checked><label for=\"sk-estimator-id-1\" class=\"sk-toggleable__label sk-toggleable__label-arrow\">RandomForestClassifier</label><div class=\"sk-toggleable__content\"><pre>RandomForestClassifier(random_state=42)</pre></div></div></div></div></div>"
            ]
          },
          "metadata": {},
          "execution_count": 18
        }
      ],
      "source": [
        "x_train1 = dataset_no_missing[['education-num', 'race', 'sex', 'fnlwgt', 'hours-per-week', 'income']]\n",
        "y_train1 = dataset_no_missing[['occupation']]\n",
        "x_train1 = x_train1.iloc[:, :].values\n",
        "y_train1 = y_train1.iloc[:, :].values\n",
        "rf0 = RandomForestClassifier(random_state = 42)\n",
        "rf0.fit(x_train1, y_train1)"
      ]
    },
    {
      "cell_type": "code",
      "execution_count": 19,
      "id": "10a02a39-cfca-4273-b2e6-e33d4933cedc",
      "metadata": {
        "id": "10a02a39-cfca-4273-b2e6-e33d4933cedc"
      },
      "outputs": [],
      "source": [
        "x_test1 = dataset_missing[['education-num', 'race', 'sex', 'fnlwgt', 'hours-per-week', 'income']]\n",
        "x_test1 = x_test1.iloc[:, :].values\n",
        "dataset_missing['occupation'] = rf0.predict(x_test1)"
      ]
    },
    {
      "cell_type": "code",
      "execution_count": 20,
      "id": "10d799ab-fcf6-4a8b-a53f-b16fa0638433",
      "metadata": {
        "id": "10d799ab-fcf6-4a8b-a53f-b16fa0638433"
      },
      "outputs": [],
      "source": [
        "x_train2 = dataset_no_missing.drop(['workclass', 'education'], axis = 1)\n",
        "y_train2 = dataset_no_missing[['workclass']]\n",
        "x_train2 = x_train2.iloc[:, :].values\n",
        "y_train2 = y_train2.iloc[:, :].values\n",
        "rf2 = RandomForestClassifier(random_state = 42)\n",
        "rf2.fit(x_train2, y_train2)\n",
        "x_test2 = dataset_missing.drop(['workclass', 'education'], axis = 1)\n",
        "x_test2 = x_test2.iloc[:, :].values\n",
        "dataset_missing['workclass'] = rf2.predict(x_test2)"
      ]
    },
    {
      "cell_type": "code",
      "execution_count": 21,
      "id": "87e5b720-3848-43f0-bbe6-6b21ce80ff1a",
      "metadata": {
        "id": "87e5b720-3848-43f0-bbe6-6b21ce80ff1a"
      },
      "outputs": [],
      "source": [
        "dataset_pp = pd.concat([dataset_missing, dataset_no_missing], axis = 0, ignore_index = True)"
      ]
    },
    {
      "cell_type": "code",
      "execution_count": 22,
      "id": "34061e01-92ef-4bad-9acb-bf042f938029",
      "metadata": {
        "id": "34061e01-92ef-4bad-9acb-bf042f938029",
        "outputId": "57eae87c-643d-4f50-aa79-ad0e14fc752b",
        "colab": {
          "base_uri": "https://localhost:8080/"
        }
      },
      "outputs": [
        {
          "output_type": "execute_result",
          "data": {
            "text/plain": [
              "array([[0.5068493150684932, 3, 0.11360821045723776, ...,\n",
              "        0.6020408163265305, 34, 1],\n",
              "       [0.2054794520547945, 3, 0.19054742019396326, ...,\n",
              "        0.39795918367346933, 38, -1],\n",
              "       [0.1095890410958904, 3, 0.12745692994117508, ...,\n",
              "        0.39795918367346933, 38, -1],\n",
              "       ...,\n",
              "       [0.2876712328767123, 3, 0.24537874252003397, ..., 0.5, 38, -1],\n",
              "       [0.3698630136986301, 3, 0.04844413323726503, ...,\n",
              "        0.39795918367346933, 38, -1],\n",
              "       [0.2465753424657534, 4, 0.11491866329751067, ...,\n",
              "        0.6020408163265305, 38, 1]], dtype=object)"
            ]
          },
          "metadata": {},
          "execution_count": 22
        }
      ],
      "source": [
        "dataset_pp.values"
      ]
    },
    {
      "cell_type": "code",
      "execution_count": 23,
      "id": "e8c20d4d-d2a7-483d-9c12-9ab23ee9d598",
      "metadata": {
        "id": "e8c20d4d-d2a7-483d-9c12-9ab23ee9d598",
        "outputId": "82442bac-5cad-47c7-9801-9498cac11fd2",
        "colab": {
          "base_uri": "https://localhost:8080/"
        }
      },
      "outputs": [
        {
          "output_type": "stream",
          "name": "stdout",
          "text": [
            "No missing values found in the dataset.\n",
            "No rows contain missing values.\n"
          ]
        }
      ],
      "source": [
        "missing_values = dataset_pp.isnull()\n",
        "\n",
        "if missing_values.any().any():\n",
        "    print(\"There are missing values in the dataset.\")\n",
        "else:\n",
        "    print(\"No missing values found in the dataset.\")\n",
        "\n",
        "if missing_values.any(axis=1).any():\n",
        "    print(\"There are rows with missing values.\")\n",
        "else:\n",
        "    print(\"No rows contain missing values.\")"
      ]
    },
    {
      "cell_type": "code",
      "execution_count": 24,
      "id": "303b46aa-c68f-4560-b590-85fd135ac9f9",
      "metadata": {
        "id": "303b46aa-c68f-4560-b590-85fd135ac9f9",
        "outputId": "66050ebf-b4c0-4a57-b75a-2adae65c0d0b",
        "colab": {
          "base_uri": "https://localhost:8080/"
        }
      },
      "outputs": [
        {
          "output_type": "stream",
          "name": "stdout",
          "text": [
            "No missing values found in the dataset.\n"
          ]
        },
        {
          "output_type": "execute_result",
          "data": {
            "text/plain": [
              "['dataset_pp.pkl']"
            ]
          },
          "metadata": {},
          "execution_count": 24
        }
      ],
      "source": [
        "missing_counts = {}\n",
        "for col in dataset_pp.columns:\n",
        "    missing_count = (dataset_pp[col] == \"?\").sum()\n",
        "    if missing_count > 0:\n",
        "        missing_counts[col] = missing_count\n",
        "\n",
        "if missing_counts:\n",
        "    print(\"Columns with missing values and their counts:\")\n",
        "    for col, count in missing_counts.items():\n",
        "        print(f\"{col}: {count}\")\n",
        "else:\n",
        "    print(\"No missing values found in the dataset.\")\n",
        "\n",
        "joblib.dump(dataset_pp, 'dataset_pp.pkl')"
      ]
    },
    {
      "cell_type": "markdown",
      "id": "9026cf6d-1b2e-4121-9e9d-8ad636dcbc3f",
      "metadata": {
        "id": "9026cf6d-1b2e-4121-9e9d-8ad636dcbc3f"
      },
      "source": [
        "### Dataset without any missing values has been prepared"
      ]
    },
    {
      "cell_type": "markdown",
      "id": "1e687678-c20c-49c1-a587-e171aedd3912",
      "metadata": {
        "id": "1e687678-c20c-49c1-a587-e171aedd3912"
      },
      "source": [
        "## Training, Testing Split"
      ]
    },
    {
      "cell_type": "code",
      "execution_count": 11,
      "id": "643d4383-aa0f-46ef-9e15-d79a10eeb878",
      "metadata": {
        "id": "643d4383-aa0f-46ef-9e15-d79a10eeb878"
      },
      "outputs": [],
      "source": [
        "x_train, x_test, y_train, y_test = train_test_split(dataset_pp.drop(['education', 'income'], axis = 1).values, dataset_pp[['income']].values, test_size = 0.2, random_state = 42)\n",
        "y_train = y_train.astype(int)\n",
        "y_test = y_test.astype(int)"
      ]
    },
    {
      "cell_type": "markdown",
      "id": "c4310b87-dd11-4b57-87f4-709087b99a1d",
      "metadata": {
        "id": "c4310b87-dd11-4b57-87f4-709087b99a1d"
      },
      "source": [
        "# Models"
      ]
    },
    {
      "cell_type": "code",
      "execution_count": null,
      "id": "615983f8-b15b-4d2b-8f7a-ea55ac32a664",
      "metadata": {
        "id": "615983f8-b15b-4d2b-8f7a-ea55ac32a664"
      },
      "outputs": [],
      "source": [
        "from sklearn.linear_model import LogisticRegression\n",
        "from sklearn.tree import DecisionTreeClassifier\n",
        "from sklearn.ensemble import RandomForestClassifier, GradientBoostingClassifier\n",
        "from sklearn.neighbors import KNeighborsClassifier\n",
        "from sklearn.svm import SVC\n",
        "from sklearn.naive_bayes import GaussianNB"
      ]
    },
    {
      "cell_type": "markdown",
      "id": "5c9abbb6-326f-47df-a5f1-eb3653dafcdb",
      "metadata": {
        "id": "5c9abbb6-326f-47df-a5f1-eb3653dafcdb"
      },
      "source": [
        "## Basic Models"
      ]
    },
    {
      "cell_type": "markdown",
      "id": "75b046f0-07b9-4cd1-821c-36bb3a246815",
      "metadata": {
        "id": "75b046f0-07b9-4cd1-821c-36bb3a246815"
      },
      "source": [
        "### Logistic Regression"
      ]
    },
    {
      "cell_type": "code",
      "execution_count": null,
      "id": "c60fa08a-1a6c-49b5-9837-dc42b989c9c9",
      "metadata": {
        "id": "c60fa08a-1a6c-49b5-9837-dc42b989c9c9",
        "outputId": "9ae2d125-20b0-458f-c665-ad0799c12d66"
      },
      "outputs": [
        {
          "data": {
            "text/plain": [
              "(0.8210666393694339, 0.8255829889873019)"
            ]
          },
          "execution_count": 21,
          "metadata": {},
          "output_type": "execute_result"
        }
      ],
      "source": [
        "lr = LogisticRegression()\n",
        "scores_lr = cross_val_score(lr, x_train, y_train, cv = 10, scoring = 'accuracy')\n",
        "lr.fit(x_train, y_train)\n",
        "y_test_pred_lr = lr.predict(x_test)\n",
        "accuracy_score(y_test, y_test_pred_lr), scores_lr.mean()"
      ]
    },
    {
      "cell_type": "markdown",
      "id": "3812dbc8-2b1f-41bc-8ffd-8b3f34e820ea",
      "metadata": {
        "id": "3812dbc8-2b1f-41bc-8ffd-8b3f34e820ea"
      },
      "source": [
        "### Decision Tree"
      ]
    },
    {
      "cell_type": "code",
      "execution_count": null,
      "id": "ee3158e3-04b5-47e4-9d5a-29f40b783419",
      "metadata": {
        "id": "ee3158e3-04b5-47e4-9d5a-29f40b783419",
        "outputId": "0a9d835f-97df-4af5-b3f2-5f7e13e0369e"
      },
      "outputs": [
        {
          "data": {
            "text/plain": [
              "(0.808475790766711, 0.8142958574471614)"
            ]
          },
          "execution_count": 22,
          "metadata": {},
          "output_type": "execute_result"
        }
      ],
      "source": [
        "dt = DecisionTreeClassifier(random_state = 42)\n",
        "scores_dt = cross_val_score(dt, x_train, y_train, cv = 10, scoring = 'accuracy')\n",
        "dt.fit(x_train, y_train)\n",
        "y_test_pred_dt = dt.predict(x_test)\n",
        "accuracy_score(y_test, y_test_pred_dt), scores_dt.mean()"
      ]
    },
    {
      "cell_type": "markdown",
      "id": "e1d4e4f6-7820-4348-93cd-19ce13187fce",
      "metadata": {
        "id": "e1d4e4f6-7820-4348-93cd-19ce13187fce"
      },
      "source": [
        "## Ensemble Methods"
      ]
    },
    {
      "cell_type": "markdown",
      "id": "78d83808-fba6-4d86-a927-68c294e7fd59",
      "metadata": {
        "id": "78d83808-fba6-4d86-a927-68c294e7fd59"
      },
      "source": [
        "### Random Forest"
      ]
    },
    {
      "cell_type": "code",
      "execution_count": null,
      "id": "31eaf7a8-5f81-4e08-bc76-3b2c29d400b6",
      "metadata": {
        "id": "31eaf7a8-5f81-4e08-bc76-3b2c29d400b6",
        "outputId": "09f40d97-6de0-4025-9a20-1b2c57836e6b"
      },
      "outputs": [
        {
          "data": {
            "text/plain": [
              "(0.8548469648889344, 0.8616179159312773)"
            ]
          },
          "execution_count": 23,
          "metadata": {},
          "output_type": "execute_result"
        }
      ],
      "source": [
        "rf = RandomForestClassifier(random_state = 42)\n",
        "scores_rf = cross_val_score(rf, x_train, y_train, cv = 10, scoring = 'accuracy')\n",
        "rf.fit(x_train, y_train)\n",
        "y_test_pred_rf = rf.predict(x_test)\n",
        "accuracy_score(y_test, y_test_pred_rf), scores_rf.mean()"
      ]
    },
    {
      "cell_type": "markdown",
      "id": "cd0a4ebb-6154-4c52-a604-9747fb1918ff",
      "metadata": {
        "id": "cd0a4ebb-6154-4c52-a604-9747fb1918ff"
      },
      "source": [
        "### Gradient Boosting"
      ]
    },
    {
      "cell_type": "code",
      "execution_count": null,
      "id": "364ec897-f57c-4d27-8a2e-fdd61d227d3d",
      "metadata": {
        "id": "364ec897-f57c-4d27-8a2e-fdd61d227d3d",
        "outputId": "41993989-2ac1-48f6-b7f8-8e22d213b453"
      },
      "outputs": [
        {
          "data": {
            "text/plain": [
              "(0.8623195823523391, 0.8661479382857161)"
            ]
          },
          "execution_count": 24,
          "metadata": {},
          "output_type": "execute_result"
        }
      ],
      "source": [
        "gsb = GradientBoostingClassifier()\n",
        "scores_gsb = cross_val_score(gsb, x_train, y_train, cv = 10, scoring = 'accuracy')\n",
        "gsb.fit(x_train, y_train)\n",
        "y_test_pred_gsb = gsb.predict(x_test)\n",
        "accuracy_score(y_test, y_test_pred_gsb), scores_gsb.mean()"
      ]
    },
    {
      "cell_type": "markdown",
      "id": "57fd0a99-458d-4083-a715-f52cf5b93a84",
      "metadata": {
        "id": "57fd0a99-458d-4083-a715-f52cf5b93a84"
      },
      "source": [
        "## Advanced Models"
      ]
    },
    {
      "cell_type": "markdown",
      "id": "9012df6c-90f2-4caf-bd80-95ae034fda99",
      "metadata": {
        "id": "9012df6c-90f2-4caf-bd80-95ae034fda99"
      },
      "source": [
        "### Support Vector Machines"
      ]
    },
    {
      "cell_type": "code",
      "execution_count": null,
      "id": "517c0142-766b-4b41-b677-3b959ad9b336",
      "metadata": {
        "id": "517c0142-766b-4b41-b677-3b959ad9b336",
        "outputId": "f4190406-fe7f-47c1-e046-c7a1e7c0588a"
      },
      "outputs": [
        {
          "data": {
            "text/plain": [
              "(0.8082710615211383, 0.8128630042028859)"
            ]
          },
          "execution_count": 25,
          "metadata": {},
          "output_type": "execute_result"
        }
      ],
      "source": [
        "sv = SVC(random_state = 42)\n",
        "scores_sv = cross_val_score(sv, x_train, y_train, cv = 10, scoring = 'accuracy')\n",
        "sv.fit(x_train, y_train)\n",
        "y_test_pred_sv = sv.predict(x_test)\n",
        "accuracy_score(y_test, y_test_pred_sv), scores_sv.mean()"
      ]
    },
    {
      "cell_type": "markdown",
      "id": "f92a62c9-90ee-4d85-afa7-5c53fca23c1f",
      "metadata": {
        "id": "f92a62c9-90ee-4d85-afa7-5c53fca23c1f"
      },
      "source": [
        "### I'll try out Neural Networks in the next project with an image dataset or some basic neural network project"
      ]
    },
    {
      "cell_type": "markdown",
      "id": "a5232124-d9af-4905-bc41-f808473c4d95",
      "metadata": {
        "id": "a5232124-d9af-4905-bc41-f808473c4d95"
      },
      "source": [
        "## Specialized Models"
      ]
    },
    {
      "cell_type": "markdown",
      "id": "8f57c87a-0317-4fb9-afaf-04023c7649f1",
      "metadata": {
        "id": "8f57c87a-0317-4fb9-afaf-04023c7649f1"
      },
      "source": [
        "### K-Nearest Neighbors (KNN)"
      ]
    },
    {
      "cell_type": "code",
      "execution_count": null,
      "id": "199d84f1-ead4-4fdb-8359-10afb0345321",
      "metadata": {
        "id": "199d84f1-ead4-4fdb-8359-10afb0345321",
        "outputId": "5cd37ad5-c2a3-46d6-d107-211c8a2c5954"
      },
      "outputs": [
        {
          "data": {
            "text/plain": [
              "(0.8274132459821886, 0.8339518943376177)"
            ]
          },
          "execution_count": 26,
          "metadata": {},
          "output_type": "execute_result"
        }
      ],
      "source": [
        "knn = KNeighborsClassifier()\n",
        "scores_knn = cross_val_score(knn, x_train, y_train, cv = 10, scoring = 'accuracy')\n",
        "knn.fit(x_train, y_train)\n",
        "y_test_pred_knn = knn.predict(x_test)\n",
        "accuracy_score(y_test, y_test_pred_knn), scores_knn.mean()"
      ]
    },
    {
      "cell_type": "markdown",
      "id": "d9f73697-f0f2-45e7-89d1-bcc07eb61094",
      "metadata": {
        "id": "d9f73697-f0f2-45e7-89d1-bcc07eb61094"
      },
      "source": [
        "### Naive Bayes"
      ]
    },
    {
      "cell_type": "code",
      "execution_count": null,
      "id": "54343edf-cc09-43cb-ba85-18e7fbe405bb",
      "metadata": {
        "id": "54343edf-cc09-43cb-ba85-18e7fbe405bb",
        "outputId": "6525a978-511a-4cfb-a40e-71b6d4ac9e58"
      },
      "outputs": [
        {
          "data": {
            "text/plain": [
              "(0.7951683898044836, 0.8023185165643693)"
            ]
          },
          "execution_count": 27,
          "metadata": {},
          "output_type": "execute_result"
        }
      ],
      "source": [
        "nb = GaussianNB()\n",
        "scores_nb = cross_val_score(nb, x_train, y_train, cv = 10, scoring = 'accuracy')\n",
        "nb.fit(x_train, y_train)\n",
        "y_test_pred_nb = nb.predict(x_test)\n",
        "accuracy_score(y_test, y_test_pred_nb), scores_nb.mean()"
      ]
    },
    {
      "cell_type": "markdown",
      "id": "00a137d7-b381-4887-8039-0c2f4f518845",
      "metadata": {
        "id": "00a137d7-b381-4887-8039-0c2f4f518845"
      },
      "source": [
        "## Testing if removing 'marital-status' and 'relationship' affects accuracy score"
      ]
    },
    {
      "cell_type": "code",
      "execution_count": null,
      "id": "fa94887a-cb86-447d-94c5-febd4b5cbaaa",
      "metadata": {
        "id": "fa94887a-cb86-447d-94c5-febd4b5cbaaa"
      },
      "outputs": [],
      "source": [
        "x_train1, x_test1, y_train1, y_test1 = train_test_split(dataset_pp.drop(['education', 'income', 'marital-status', 'relationship'], axis = 1).values, dataset_pp[['income']].values, test_size = 0.2, random_state = 42)\n",
        "y_train1 = y_train1.astype(int)\n",
        "y_test1 = y_test1.astype(int)"
      ]
    },
    {
      "cell_type": "markdown",
      "id": "5573f9b5-eff4-43e7-a1f2-7972d562d3f5",
      "metadata": {
        "id": "5573f9b5-eff4-43e7-a1f2-7972d562d3f5"
      },
      "source": [
        "### Basic Models"
      ]
    },
    {
      "cell_type": "markdown",
      "id": "8e596d20-ad4b-4ae2-ba24-c86e7f7339e8",
      "metadata": {
        "id": "8e596d20-ad4b-4ae2-ba24-c86e7f7339e8"
      },
      "source": [
        "#### Logistic Regression"
      ]
    },
    {
      "cell_type": "code",
      "execution_count": null,
      "id": "5ac45399-7d60-4fcc-a578-f97d63c05fc1",
      "metadata": {
        "id": "5ac45399-7d60-4fcc-a578-f97d63c05fc1",
        "outputId": "139e094b-f8d1-40c5-8aab-0633f0d33dc9"
      },
      "outputs": [
        {
          "data": {
            "text/plain": [
              "(0.8200429931415703, 0.8252757759148933)"
            ]
          },
          "execution_count": 29,
          "metadata": {},
          "output_type": "execute_result"
        }
      ],
      "source": [
        "lr1 = LogisticRegression()\n",
        "scores_lr1 = cross_val_score(lr1, x_train1, y_train1, cv = 10, scoring = 'accuracy')\n",
        "lr1.fit(x_train1, y_train1)\n",
        "y_test_pred_lr1 = lr1.predict(x_test1)\n",
        "accuracy_score(y_test1, y_test_pred_lr1), scores_lr1.mean()"
      ]
    },
    {
      "cell_type": "markdown",
      "id": "cf0fb3a8-2086-475f-bc67-4ce967e91a43",
      "metadata": {
        "id": "cf0fb3a8-2086-475f-bc67-4ce967e91a43"
      },
      "source": [
        "#### Decision Tree"
      ]
    },
    {
      "cell_type": "code",
      "execution_count": null,
      "id": "e510975d-c746-4d11-a541-1502478609ba",
      "metadata": {
        "id": "e510975d-c746-4d11-a541-1502478609ba",
        "outputId": "e1bfabfc-757a-4ef2-8c52-93a3e6e1e00f"
      },
      "outputs": [
        {
          "data": {
            "text/plain": [
              "(0.7794042378953834, 0.7887799016488527)"
            ]
          },
          "execution_count": 30,
          "metadata": {},
          "output_type": "execute_result"
        }
      ],
      "source": [
        "dt1 = DecisionTreeClassifier(random_state = 42)\n",
        "scores_dt1 = cross_val_score(dt1, x_train1, y_train1, cv = 10, scoring = 'accuracy')\n",
        "dt1.fit(x_train1, y_train1)\n",
        "y_test_pred_dt1 = dt1.predict(x_test1)\n",
        "accuracy_score(y_test1, y_test_pred_dt1), scores_dt1.mean()"
      ]
    },
    {
      "cell_type": "markdown",
      "id": "b9a828ce-fef5-4a3c-8f0f-206377bb7f53",
      "metadata": {
        "id": "b9a828ce-fef5-4a3c-8f0f-206377bb7f53"
      },
      "source": [
        "### Ensemble Methods"
      ]
    },
    {
      "cell_type": "markdown",
      "id": "bacea59c-d05f-4d0e-ab92-1545d5e355eb",
      "metadata": {
        "id": "bacea59c-d05f-4d0e-ab92-1545d5e355eb"
      },
      "source": [
        "#### Random Forest Classifier"
      ]
    },
    {
      "cell_type": "code",
      "execution_count": null,
      "id": "9f79e747-b38d-4f18-9d03-2a13e75f84c7",
      "metadata": {
        "id": "9f79e747-b38d-4f18-9d03-2a13e75f84c7",
        "outputId": "cd637345-3919-4cb4-fcf0-19126af82d3a"
      },
      "outputs": [
        {
          "data": {
            "text/plain": [
              "(0.8292558091923431, 0.8427558310032722)"
            ]
          },
          "execution_count": 31,
          "metadata": {},
          "output_type": "execute_result"
        }
      ],
      "source": [
        "rf1 = RandomForestClassifier(random_state = 42)\n",
        "scores_rf1 = cross_val_score(rf1, x_train1, y_train1, cv = 10, scoring = 'accuracy')\n",
        "rf1.fit(x_train1, y_train1)\n",
        "y_test_pred_rf1 = rf1.predict(x_test1)\n",
        "accuracy_score(y_test1, y_test_pred_rf1), scores_rf1.mean()"
      ]
    },
    {
      "cell_type": "markdown",
      "id": "6bee6d75-6eb8-47b6-98a4-4454addb21df",
      "metadata": {
        "id": "6bee6d75-6eb8-47b6-98a4-4454addb21df"
      },
      "source": [
        "#### Gradient Boosting Classifier"
      ]
    },
    {
      "cell_type": "code",
      "execution_count": null,
      "id": "51adf7c4-5e04-44ad-a83a-20d3d836d10e",
      "metadata": {
        "id": "51adf7c4-5e04-44ad-a83a-20d3d836d10e",
        "outputId": "092824c6-0927-4a56-a8ad-26dd76ddc6e2"
      },
      "outputs": [
        {
          "data": {
            "text/plain": [
              "(0.8450199611014434, 0.8532746449631518)"
            ]
          },
          "execution_count": 32,
          "metadata": {},
          "output_type": "execute_result"
        }
      ],
      "source": [
        "gsb1 = GradientBoostingClassifier()\n",
        "scores_gsb1 = cross_val_score(gsb1, x_train1, y_train1, cv = 10, scoring = 'accuracy')\n",
        "gsb1.fit(x_train1, y_train1)\n",
        "y_test_pred_gsb1 = gsb1.predict(x_test1)\n",
        "accuracy_score(y_test1, y_test_pred_gsb1), scores_gsb1.mean()"
      ]
    },
    {
      "cell_type": "markdown",
      "id": "f94b1a59-0b08-44c5-84d2-19f680ffdeee",
      "metadata": {
        "id": "f94b1a59-0b08-44c5-84d2-19f680ffdeee"
      },
      "source": [
        "### Advanced Models"
      ]
    },
    {
      "cell_type": "markdown",
      "id": "af013fef-4d0b-4ee6-af93-4c1529ed2f73",
      "metadata": {
        "id": "af013fef-4d0b-4ee6-af93-4c1529ed2f73"
      },
      "source": [
        "#### Support Vector Machines"
      ]
    },
    {
      "cell_type": "code",
      "execution_count": null,
      "id": "edcfdc71-f049-475a-bc2a-404ee6b53ec6",
      "metadata": {
        "id": "edcfdc71-f049-475a-bc2a-404ee6b53ec6",
        "outputId": "4b3354e4-7422-456b-f961-e6d2773ad5d9"
      },
      "outputs": [
        {
          "data": {
            "text/plain": [
              "(0.8037670181185382, 0.8084354604325386)"
            ]
          },
          "execution_count": 33,
          "metadata": {},
          "output_type": "execute_result"
        }
      ],
      "source": [
        "sv1 = SVC(random_state = 42)\n",
        "scores_sv1 = cross_val_score(sv1, x_train1, y_train1, cv = 10, scoring = 'accuracy')\n",
        "sv1.fit(x_train1, y_train1)\n",
        "y_test_pred_sv1 = sv1.predict(x_test1)\n",
        "accuracy_score(y_test1, y_test_pred_sv1), scores_sv1.mean()"
      ]
    },
    {
      "cell_type": "markdown",
      "id": "8c6ab379-486c-4c8a-931c-50d8db37f618",
      "metadata": {
        "id": "8c6ab379-486c-4c8a-931c-50d8db37f618"
      },
      "source": [
        "### Specialized Models"
      ]
    },
    {
      "cell_type": "markdown",
      "id": "b6f5d81b-53f0-47b6-90f3-7ad9f66f50a4",
      "metadata": {
        "id": "b6f5d81b-53f0-47b6-90f3-7ad9f66f50a4"
      },
      "source": [
        "#### KNN"
      ]
    },
    {
      "cell_type": "code",
      "execution_count": null,
      "id": "0f255f4a-ea76-4099-9e51-f74ab8a9ab46",
      "metadata": {
        "id": "0f255f4a-ea76-4099-9e51-f74ab8a9ab46",
        "outputId": "a0b27c8a-e033-4c36-d78b-17fa65503109"
      },
      "outputs": [
        {
          "data": {
            "text/plain": [
              "(0.8015149964172382, 0.8138613107880012)"
            ]
          },
          "execution_count": 34,
          "metadata": {},
          "output_type": "execute_result"
        }
      ],
      "source": [
        "knn1 = KNeighborsClassifier()\n",
        "scores_knn1 = cross_val_score(knn1, x_train1, y_train1, cv = 10, scoring = 'accuracy')\n",
        "knn1.fit(x_train1, y_train1)\n",
        "y_test_pred_knn1= knn1.predict(x_test1)\n",
        "accuracy_score(y_test1, y_test_pred_knn1), scores_knn1.mean()"
      ]
    },
    {
      "cell_type": "markdown",
      "id": "11bd4829-39d5-4e2f-ad86-2d7a0636b2d1",
      "metadata": {
        "id": "11bd4829-39d5-4e2f-ad86-2d7a0636b2d1"
      },
      "source": [
        "#### Naive Bayes"
      ]
    },
    {
      "cell_type": "code",
      "execution_count": null,
      "id": "35ff6749-3eb8-408c-a4bb-47b685d22bed",
      "metadata": {
        "id": "35ff6749-3eb8-408c-a4bb-47b685d22bed",
        "outputId": "d32b6d68-510a-41e5-d8b2-bc185c182e86"
      },
      "outputs": [
        {
          "data": {
            "text/plain": [
              "(0.789128877060088, 0.7973278743582562)"
            ]
          },
          "execution_count": 35,
          "metadata": {},
          "output_type": "execute_result"
        }
      ],
      "source": [
        "nb1 = GaussianNB()\n",
        "scores_nb1 = cross_val_score(nb1, x_train1, y_train1, cv = 10, scoring = 'accuracy')\n",
        "nb1.fit(x_train1, y_train1)\n",
        "y_test_pred_nb1 = nb1.predict(x_test1)\n",
        "accuracy_score(y_test1, y_test_pred_nb1), scores_nb1.mean()"
      ]
    },
    {
      "cell_type": "markdown",
      "id": "d6fb7f3a-5e90-4bbe-9a64-a5a9d1fb1a58",
      "metadata": {
        "id": "d6fb7f3a-5e90-4bbe-9a64-a5a9d1fb1a58"
      },
      "source": [
        "### Checking combined accuracy for clarification"
      ]
    },
    {
      "cell_type": "code",
      "execution_count": null,
      "id": "7a7f6fc0-1147-44a3-8409-64f37e5a2b29",
      "metadata": {
        "id": "7a7f6fc0-1147-44a3-8409-64f37e5a2b29"
      },
      "outputs": [],
      "source": [
        "scores_all_features = scores_lr.mean() + scores_dt.mean() + scores_rf.mean() + scores_gsb.mean() + scores_knn.mean() + scores_nb.mean() + scores_sv.mean()\n",
        "scores_less_features = scores_lr1.mean() + scores_dt1.mean() + scores_rf1.mean() + scores_gsb1.mean() + scores_knn1.mean() + scores_nb1.mean() + scores_sv1.mean()"
      ]
    },
    {
      "cell_type": "code",
      "execution_count": null,
      "id": "cf09e8cf-590c-4092-afa4-604e5ebfa652",
      "metadata": {
        "id": "cf09e8cf-590c-4092-afa4-604e5ebfa652",
        "outputId": "a6055f03-0c13-4d2a-c744-a8133fef625d"
      },
      "outputs": [
        {
          "data": {
            "text/plain": [
              "(0.8309683022509043, 0.8185301141584237)"
            ]
          },
          "execution_count": 37,
          "metadata": {},
          "output_type": "execute_result"
        }
      ],
      "source": [
        "scores_all_features/7, scores_less_features/7"
      ]
    },
    {
      "cell_type": "markdown",
      "id": "e9ef7378-780f-4685-b936-4df96b993958",
      "metadata": {
        "id": "e9ef7378-780f-4685-b936-4df96b993958"
      },
      "source": [
        "## This means that 'workclass' and 'marital-status' did have some sort of relation to the 'income'"
      ]
    },
    {
      "cell_type": "markdown",
      "id": "641e3cd1-41d8-49fd-ab25-100eea667697",
      "metadata": {
        "id": "641e3cd1-41d8-49fd-ab25-100eea667697"
      },
      "source": [
        "## Trying out Hypertuning on specific models to see if it makes a difference"
      ]
    },
    {
      "cell_type": "markdown",
      "id": "585b9db4-2431-419b-8882-f07514bf67f6",
      "metadata": {
        "id": "585b9db4-2431-419b-8882-f07514bf67f6"
      },
      "source": [
        "This process takes a lot of time. I would recommend if you want to check the parameters, you can manually check the best parameters and their accuracy. However, if you want to run the process, make sure to add verbose = 2 in the GridSearch. I have done it for SVM but not for Random Forest or Gradient Boosting."
      ]
    },
    {
      "cell_type": "code",
      "execution_count": null,
      "id": "347b8297-b65f-4ec0-830c-0f71a8e4b658",
      "metadata": {
        "id": "347b8297-b65f-4ec0-830c-0f71a8e4b658"
      },
      "outputs": [],
      "source": [
        "from sklearn.model_selection import GridSearchCV"
      ]
    },
    {
      "cell_type": "markdown",
      "id": "263483ad-72b5-4e0a-a214-839b950441d5",
      "metadata": {
        "id": "263483ad-72b5-4e0a-a214-839b950441d5"
      },
      "source": [
        "### Random Forest Classifier"
      ]
    },
    {
      "cell_type": "code",
      "execution_count": null,
      "id": "75f956db-6dad-4e89-9720-11534a1d26ef",
      "metadata": {
        "id": "75f956db-6dad-4e89-9720-11534a1d26ef",
        "outputId": "1b0af9d3-501e-4d40-cb11-b70f04e44af6"
      },
      "outputs": [
        {
          "name": "stdout",
          "output_type": "stream",
          "text": [
            "Best parameters:  {'bootstrap': True, 'max_depth': 20, 'max_features': 'sqrt', 'min_samples_leaf': 2, 'min_samples_split': 2, 'n_estimators': 100}\n",
            "Test Accuracy:  0.8623195823523391\n",
            "Best Cross-Validation Score:  0.8688352958688746\n"
          ]
        }
      ],
      "source": [
        "parameter_grid_rf = {\n",
        "    'n_estimators': [50, 100, 200, 300],\n",
        "    'max_depth': [None, 10, 20, 30],\n",
        "    'min_samples_split': [2, 5, 10],\n",
        "    'min_samples_leaf': [1, 2, 4],\n",
        "    'max_features': ['auto', 'sqrt', 'log2'],\n",
        "    'bootstrap': [True, False]\n",
        "}\n",
        "rf2 = RandomForestClassifier(random_state = 42)\n",
        "grid_search_rf = GridSearchCV(estimator = rf2, param_grid = parameter_grid_rf, cv = 5, scoring = 'accuracy', n_jobs = -1)\n",
        "grid_search_rf.fit(x_train, y_train)\n",
        "\n",
        "print(\"Best parameters: \", grid_search_rf.best_params_)\n",
        "best_rf = grid_search_rf.best_estimator_\n",
        "y_test_pred_rf2 = best_rf.predict(x_test)\n",
        "print(\"Test Accuracy: \", accuracy_score(y_test, y_test_pred_rf2))\n",
        "print(\"Best Cross-Validation Score: \", grid_search_rf.best_score_)"
      ]
    },
    {
      "cell_type": "markdown",
      "id": "0249eb0f-99f5-4c15-8b21-95eaf67908b4",
      "metadata": {
        "id": "0249eb0f-99f5-4c15-8b21-95eaf67908b4"
      },
      "source": [
        "### Gradient Boosting Classifier"
      ]
    },
    {
      "cell_type": "code",
      "execution_count": null,
      "id": "e3fa2567-6f81-4440-a321-b33540b1dd76",
      "metadata": {
        "id": "e3fa2567-6f81-4440-a321-b33540b1dd76",
        "outputId": "c9231edf-d790-4261-fc2d-a195329bef15"
      },
      "outputs": [
        {
          "name": "stdout",
          "output_type": "stream",
          "text": [
            "Best parameters:  {'learning_rate': 0.1, 'max_depth': 5, 'min_samples_leaf': 4, 'min_samples_split': 2, 'n_estimators': 200, 'subsample': 1.0}\n",
            "Test Accuracy:  0.8697921998157436\n",
            "Best Cross-Validation Score:  0.876257284487495\n"
          ]
        }
      ],
      "source": [
        "parameter_grid_gsb = {\n",
        "    'n_estimators': [50, 100, 200, 300],\n",
        "    'learning_rate': [0.01, 0.1, 0.2, 0.3],\n",
        "    'max_depth': [3, 5, 7, 9],\n",
        "    'min_samples_split': [2, 5, 10],\n",
        "    'min_samples_leaf': [1, 2, 4],\n",
        "    'subsample': [0.6, 0.8, 1.0]\n",
        "}\n",
        "gsb2 = GradientBoostingClassifier()\n",
        "grid_search_gsb = GridSearchCV(estimator = gsb2, param_grid = parameter_grid_gsb, cv = 5, scoring = 'accuracy', n_jobs = -1)\n",
        "grid_search_gsb.fit(x_train, y_train)\n",
        "\n",
        "print(\"Best parameters: \", grid_search_gsb.best_params_)\n",
        "best_gsb = grid_search_gsb.best_estimator_\n",
        "y_test_pred_gsb2 = best_gsb.predict(x_test)\n",
        "print(\"Test Accuracy: \", accuracy_score(y_test, y_test_pred_gsb2))\n",
        "print(\"Best Cross-Validation Score: \", grid_search_gsb.best_score_)"
      ]
    },
    {
      "cell_type": "markdown",
      "id": "9c7da6fa-2c29-4d16-9214-7a07cbee63e3",
      "metadata": {
        "id": "9c7da6fa-2c29-4d16-9214-7a07cbee63e3"
      },
      "source": [
        "### Support Vector Machines"
      ]
    },
    {
      "cell_type": "markdown",
      "id": "23fcd84e-58d6-4da7-9013-fa4979a1b27e",
      "metadata": {
        "id": "23fcd84e-58d6-4da7-9013-fa4979a1b27e"
      },
      "source": [
        "Following is the code for trying out hypertuning for SVM. I haven't tried it for the reasons listed in the first markdown of this file."
      ]
    },
    {
      "cell_type": "code",
      "execution_count": null,
      "id": "9e3c1e2e-883e-4067-8b71-4d149e5e6c67",
      "metadata": {
        "id": "9e3c1e2e-883e-4067-8b71-4d149e5e6c67"
      },
      "outputs": [],
      "source": [
        "parameter_grid_svm = {\n",
        "    'C': [0.1, 1, 10, 100],\n",
        "    'kernel': ['linear', 'poly', 'rbf', 'sigmoid'],\n",
        "    'gamma': [0.001, 0.01, 0.1, 1]\n",
        "}\n",
        "svm2 = SVC(random_state = 42)\n",
        "grid_search_svm = GridSearchCV(estimator = svm2, param_grid = parameter_grid_svm, cv = 5, scoring = 'accuracy', n_jobs = -1, verbose = 2)\n",
        "grid_search_svm.fit(x_train, y_train)\n",
        "\n",
        "print(\"Best parameters: \", grid_search_svm.best_params_)\n",
        "best_svm = grid_search_svm.best_estimator_\n",
        "y_test_pred_svm2 = best_svm.predict(x_test)\n",
        "print(\"Test Accuracy: \", accuracy_score(y_test, y_test_pred_svm2))\n",
        "print(\"Best Cross-Validation Score: \", grid_search_svm.best_score_)"
      ]
    },
    {
      "cell_type": "markdown",
      "id": "9dabe1bf-a893-41b6-b219-428d6b0ebbc4",
      "metadata": {
        "id": "9dabe1bf-a893-41b6-b219-428d6b0ebbc4"
      },
      "source": [
        "## You can try out the model on your data if you want, the steps are below"
      ]
    },
    {
      "cell_type": "code",
      "execution_count": null,
      "id": "3ff600c1-3cdb-41dd-ac01-95d7b389d322",
      "metadata": {
        "id": "3ff600c1-3cdb-41dd-ac01-95d7b389d322"
      },
      "outputs": [],
      "source": [
        "dataset_sample = pd.concat([temp, temp1], axis = 0, ignore_index = True)"
      ]
    },
    {
      "cell_type": "code",
      "execution_count": null,
      "id": "03ff82fe-73ce-4c8d-ba56-6327e9f7311d",
      "metadata": {
        "scrolled": true,
        "id": "03ff82fe-73ce-4c8d-ba56-6327e9f7311d",
        "outputId": "a8c98756-1460-40ce-b9ac-be663e590983"
      },
      "outputs": [
        {
          "name": "stdout",
          "output_type": "stream",
          "text": [
            "age\n",
            "36    1348\n",
            "35    1337\n",
            "33    1335\n",
            "23    1329\n",
            "31    1325\n",
            "      ... \n",
            "88       6\n",
            "85       5\n",
            "87       3\n",
            "89       2\n",
            "86       1\n",
            "Name: count, Length: 74, dtype: int64\n",
            "\n",
            "workclass\n",
            "Private             33906\n",
            "Self-emp-not-inc     3862\n",
            "Local-gov            3136\n",
            "?                    2799\n",
            "State-gov            1981\n",
            "Self-emp-inc         1695\n",
            "Federal-gov          1432\n",
            "Without-pay            21\n",
            "Never-worked           10\n",
            "Name: count, dtype: int64\n",
            "\n",
            "fnlwgt\n",
            "203488    21\n",
            "120277    19\n",
            "190290    19\n",
            "125892    18\n",
            "126569    18\n",
            "          ..\n",
            "286983     1\n",
            "185942     1\n",
            "234220     1\n",
            "214706     1\n",
            "350977     1\n",
            "Name: count, Length: 28523, dtype: int64\n",
            "\n",
            "education\n",
            "HS-grad         15784\n",
            "Some-college    10878\n",
            "Bachelors        8025\n",
            "Masters          2657\n",
            "Assoc-voc        2061\n",
            "11th             1812\n",
            "Assoc-acdm       1601\n",
            "10th             1389\n",
            "7th-8th           955\n",
            "Prof-school       834\n",
            "9th               756\n",
            "12th              657\n",
            "Doctorate         594\n",
            "5th-6th           509\n",
            "1st-4th           247\n",
            "Preschool          83\n",
            "Name: count, dtype: int64\n",
            "\n",
            "education-num\n",
            "9     15784\n",
            "10    10878\n",
            "13     8025\n",
            "14     2657\n",
            "11     2061\n",
            "7      1812\n",
            "12     1601\n",
            "6      1389\n",
            "4       955\n",
            "15      834\n",
            "5       756\n",
            "8       657\n",
            "16      594\n",
            "3       509\n",
            "2       247\n",
            "1        83\n",
            "Name: count, dtype: int64\n",
            "\n",
            "marital-status\n",
            "Married-civ-spouse       22379\n",
            "Never-married            16117\n",
            "Divorced                  6633\n",
            "Separated                 1530\n",
            "Widowed                   1518\n",
            "Married-spouse-absent      628\n",
            "Married-AF-spouse           37\n",
            "Name: count, dtype: int64\n",
            "\n",
            "occupation\n",
            "Prof-specialty       6172\n",
            "Craft-repair         6112\n",
            "Exec-managerial      6086\n",
            "Adm-clerical         5611\n",
            "Sales                5504\n",
            "Other-service        4923\n",
            "Machine-op-inspct    3022\n",
            "?                    2809\n",
            "Transport-moving     2355\n",
            "Handlers-cleaners    2072\n",
            "Farming-fishing      1490\n",
            "Tech-support         1446\n",
            "Protective-serv       983\n",
            "Priv-house-serv       242\n",
            "Armed-Forces           15\n",
            "Name: count, dtype: int64\n",
            "\n",
            "relationship\n",
            "Husband           19716\n",
            "Not-in-family     12583\n",
            "Own-child          7581\n",
            "Unmarried          5125\n",
            "Wife               2331\n",
            "Other-relative     1506\n",
            "Name: count, dtype: int64\n",
            "\n",
            "race\n",
            "White                 41762\n",
            "Black                  4685\n",
            "Asian-Pac-Islander     1519\n",
            "Amer-Indian-Eskimo      470\n",
            "Other                   406\n",
            "Name: count, dtype: int64\n",
            "\n",
            "sex\n",
            "Male      32650\n",
            "Female    16192\n",
            "Name: count, dtype: int64\n",
            "\n",
            "capital-gain\n",
            "0        44807\n",
            "15024      513\n",
            "7688       410\n",
            "7298       364\n",
            "99999      244\n",
            "         ...  \n",
            "22040        1\n",
            "2387         1\n",
            "1639         1\n",
            "1111         1\n",
            "6612         1\n",
            "Name: count, Length: 123, dtype: int64\n",
            "\n",
            "capital-loss\n",
            "0       46560\n",
            "1902      304\n",
            "1977      253\n",
            "1887      233\n",
            "2415       72\n",
            "        ...  \n",
            "1539        1\n",
            "1870        1\n",
            "1911        1\n",
            "2465        1\n",
            "1421        1\n",
            "Name: count, Length: 99, dtype: int64\n",
            "\n",
            "hours-per-week\n",
            "40    22803\n",
            "50     4246\n",
            "45     2717\n",
            "60     2177\n",
            "35     1937\n",
            "      ...  \n",
            "79        1\n",
            "94        1\n",
            "82        1\n",
            "87        1\n",
            "69        1\n",
            "Name: count, Length: 96, dtype: int64\n",
            "\n",
            "native-country\n",
            "United-States                 43832\n",
            "Mexico                          951\n",
            "?                               857\n",
            "Philippines                     295\n",
            "Germany                         206\n",
            "Puerto-Rico                     184\n",
            "Canada                          182\n",
            "El-Salvador                     155\n",
            "India                           151\n",
            "Cuba                            138\n",
            "England                         127\n",
            "China                           122\n",
            "South                           115\n",
            "Jamaica                         106\n",
            "Italy                           105\n",
            "Dominican-Republic              103\n",
            "Japan                            92\n",
            "Guatemala                        88\n",
            "Poland                           87\n",
            "Vietnam                          86\n",
            "Columbia                         85\n",
            "Haiti                            75\n",
            "Portugal                         67\n",
            "Taiwan                           65\n",
            "Iran                             59\n",
            "Greece                           49\n",
            "Nicaragua                        49\n",
            "Peru                             46\n",
            "Ecuador                          45\n",
            "France                           38\n",
            "Ireland                          37\n",
            "Hong                             30\n",
            "Thailand                         30\n",
            "Cambodia                         28\n",
            "Trinadad&Tobago                  27\n",
            "Laos                             23\n",
            "Yugoslavia                       23\n",
            "Outlying-US(Guam-USVI-etc)       23\n",
            "Scotland                         21\n",
            "Honduras                         20\n",
            "Hungary                          19\n",
            "Holand-Netherlands                1\n",
            "Name: count, dtype: int64\n",
            "\n",
            "income\n",
            "<=50K     24720\n",
            "<=50K.    12435\n",
            ">50K       7841\n",
            ">50K.      3846\n",
            "Name: count, dtype: int64\n",
            "\n"
          ]
        }
      ],
      "source": [
        "for _ in dataset_sample.columns:\n",
        "    print(dataset_sample[_].value_counts())\n",
        "    print()"
      ]
    },
    {
      "cell_type": "code",
      "execution_count": null,
      "id": "4dda5827-cc3d-4293-a45a-33d7eafbce71",
      "metadata": {
        "id": "4dda5827-cc3d-4293-a45a-33d7eafbce71"
      },
      "outputs": [],
      "source": [
        "label_encoders = {}\n",
        "categorical = ['marital-status', 'relationship', 'race', 'sex', 'native-country']\n",
        "categorical1 = ['workclass', 'occupation']\n",
        "numerical = ['age', 'fnlwgt', 'education-num', 'capital-gain', 'capital-loss', 'hours-per-week']\n",
        "\n",
        "for col in categorical + categorical1:\n",
        "    label_encoders[col] = joblib.load(f'{col}_label_encoder.pkl')\n",
        "\n",
        "ss = joblib.load('standard_scaler.pkl')\n",
        "\n",
        "sample_data = {\n",
        "    'age': [30] * 5,\n",
        "    'workclass': ['Private'] * 5,\n",
        "    'fnlwgt': [750000] * 5,  # just taking average cause no idea what this means\n",
        "    'education-num': [14] * 5,  # Corresponding to 'Masters'\n",
        "    'marital-status': ['Never-married'] * 5,\n",
        "    'occupation': ['Prof-specialty'] * 5,\n",
        "    'relationship': ['Not-in-family'] * 5,\n",
        "    'race': ['Asian-Pac-Islander'] * 5,  # 'Asian-Pac-Islander' for Indian\n",
        "    'sex': ['Male'] * 5,\n",
        "    'capital-gain': [0] * 5,\n",
        "    'capital-loss': [0] * 5,\n",
        "    'hours-per-week': [40, 46, 38, 48, 40],\n",
        "    'native-country': ['United-States', 'Japan', 'England', 'Scotland', 'India']\n",
        "}\n",
        "\n",
        "sample_df = pd.DataFrame(sample_data)\n",
        "\n",
        "# Transform categorical features using the saved encoders\n",
        "for col in categorical + categorical1:\n",
        "    sample_df[col] = label_encoders[col].transform(sample_df[col])\n",
        "\n",
        "# Transform numerical features using the saved scaler\n",
        "sample_df[numerical] = ss.transform(sample_df[numerical])"
      ]
    },
    {
      "cell_type": "markdown",
      "id": "ae982450-9000-4f17-b335-899e165dccce",
      "metadata": {
        "id": "ae982450-9000-4f17-b335-899e165dccce"
      },
      "source": [
        "### This sample_df can be used to calculate income if you want. The census is very old though so it won't be that accurate.\n",
        "### Now, finally testing the best model found and checking the accuracy"
      ]
    },
    {
      "cell_type": "code",
      "execution_count": null,
      "id": "4e6d09d3-fd41-46b2-8226-9bcf9e94a76a",
      "metadata": {
        "id": "4e6d09d3-fd41-46b2-8226-9bcf9e94a76a",
        "outputId": "cca083ab-5a8a-4fd3-f4d7-96ed6ea30f1f"
      },
      "outputs": [
        {
          "data": {
            "text/plain": [
              "0.8697921998157436"
            ]
          },
          "execution_count": 66,
          "metadata": {},
          "output_type": "execute_result"
        }
      ],
      "source": [
        "# {'learning_rate': 0.1, 'max_depth': 5, 'min_samples_leaf': 4, 'min_samples_split': 2, 'n_estimators': 200, 'subsample': 1.0}\n",
        "model = GradientBoostingClassifier(\n",
        "    learning_rate=0.1,\n",
        "    max_depth=5,\n",
        "    min_samples_leaf=4,\n",
        "    min_samples_split=2,\n",
        "    n_estimators=200,\n",
        "    subsample=1.0\n",
        ")\n",
        "\n",
        "temp = cross_val_score(model, x_train, y_train, cv = 10, scoring = 'accuracy')\n",
        "model.fit(x_train, y_train)\n",
        "y_test_pred_final = model.predict(x_test)\n",
        "accuracy_score(y_test_pred_final, y_test)"
      ]
    },
    {
      "cell_type": "markdown",
      "id": "8c2f34e3-5923-4cd7-b5a8-bf33cdcb2247",
      "metadata": {
        "id": "8c2f34e3-5923-4cd7-b5a8-bf33cdcb2247"
      },
      "source": [
        "## 86.98% accuracy achieved by Gradient Boosting Classifier with the following parameters\n",
        "#### {'learning_rate': 0.1, 'max_depth': 5, 'min_samples_leaf': 4, 'min_samples_split': 2, 'n_estimators': 200, 'subsample': 1.0}"
      ]
    },
    {
      "cell_type": "markdown",
      "source": [
        "# New Update\n",
        "I'm trying out deep learning nowadays, so i'll be checking out different tensorflow models with different activations to check if some model can surpass the **86.98% accuracy achieved by Gradient Boosting Classifier**.\n",
        "\n",
        "\n",
        "76.44% using a linear model\n",
        "\n",
        "84.05% using different activation functions\n",
        "\n",
        "84.53% average after trying different architectures"
      ],
      "metadata": {
        "id": "G-Kp6SIv5ELp"
      },
      "id": "G-Kp6SIv5ELp"
    },
    {
      "cell_type": "markdown",
      "source": [
        "# Trying Deep Learning"
      ],
      "metadata": {
        "id": "61Cr1Dwkdl3F"
      },
      "id": "61Cr1Dwkdl3F"
    },
    {
      "cell_type": "code",
      "source": [
        "import tensorflow as tf"
      ],
      "metadata": {
        "id": "oufhKrejdq8B"
      },
      "id": "oufhKrejdq8B",
      "execution_count": 1,
      "outputs": []
    },
    {
      "cell_type": "code",
      "source": [
        "labels = tf.keras.activations.relu(dataset_pp[['income']].values.astype(float))"
      ],
      "metadata": {
        "id": "7uELVIhphbcb"
      },
      "id": "7uELVIhphbcb",
      "execution_count": 25,
      "outputs": []
    },
    {
      "cell_type": "code",
      "source": [
        "x_train, x_test, y_train, y_test = train_test_split(dataset_pp.drop(['education', 'income'], axis = 1).values, labels.numpy(), test_size = 0.2, random_state = 42)"
      ],
      "metadata": {
        "id": "bFZLlUtygVpN"
      },
      "id": "bFZLlUtygVpN",
      "execution_count": 26,
      "outputs": []
    },
    {
      "cell_type": "code",
      "source": [
        "model_dl = tf.keras.Sequential([\n",
        "    tf.keras.layers.Dense(20, activation = \"swish\"),\n",
        "    tf.keras.layers.Dense(10),\n",
        "    tf.keras.layers.Dense(15, activation = \"elu\"),\n",
        "    tf.keras.layers.Dense(15),\n",
        "    tf.keras.layers.PReLU(),\n",
        "    tf.keras.layers.Dense(10),\n",
        "    tf.keras.layers.Dense(20, activation = \"swish\"),\n",
        "    tf.keras.layers.Dense(15, activation = \"relu\"),\n",
        "    tf.keras.layers.BatchNormalization(),\n",
        "    tf.keras.layers.Dense(10),\n",
        "    tf.keras.layers.Dense(2, activation = \"softmax\")\n",
        "])\n",
        "\n",
        "model_dl.compile(loss = \"categorical_crossentropy\",\n",
        "                 optimizer = tf.keras.optimizers.Adam(learning_rate = 0.001),\n",
        "                 metrics = [\"accuracy\"])\n",
        "\n",
        "history = model_dl.fit(x_train, tf.squeeze(tf.one_hot(y_train, depth = 2)), epochs = 100, validation_data = (x_test, tf.squeeze(tf.one_hot(y_test, depth = 2))))"
      ],
      "metadata": {
        "colab": {
          "base_uri": "https://localhost:8080/"
        },
        "id": "ho5bEFlHdv1B",
        "outputId": "f07b8676-12c3-489a-d769-d5baf394c830"
      },
      "id": "ho5bEFlHdv1B",
      "execution_count": 65,
      "outputs": [
        {
          "output_type": "stream",
          "name": "stdout",
          "text": [
            "Epoch 1/100\n",
            "\u001b[1m1222/1222\u001b[0m \u001b[32m━━━━━━━━━━━━━━━━━━━━\u001b[0m\u001b[37m\u001b[0m \u001b[1m11s\u001b[0m 5ms/step - accuracy: 0.7565 - loss: 0.5067 - val_accuracy: 0.7813 - val_loss: 0.4353\n",
            "Epoch 2/100\n",
            "\u001b[1m1222/1222\u001b[0m \u001b[32m━━━━━━━━━━━━━━━━━━━━\u001b[0m\u001b[37m\u001b[0m \u001b[1m9s\u001b[0m 4ms/step - accuracy: 0.8169 - loss: 0.3871 - val_accuracy: 0.8048 - val_loss: 0.4196\n",
            "Epoch 3/100\n",
            "\u001b[1m1222/1222\u001b[0m \u001b[32m━━━━━━━━━━━━━━━━━━━━\u001b[0m\u001b[37m\u001b[0m \u001b[1m5s\u001b[0m 4ms/step - accuracy: 0.8234 - loss: 0.3689 - val_accuracy: 0.8240 - val_loss: 0.3669\n",
            "Epoch 4/100\n",
            "\u001b[1m1222/1222\u001b[0m \u001b[32m━━━━━━━━━━━━━━━━━━━━\u001b[0m\u001b[37m\u001b[0m \u001b[1m5s\u001b[0m 3ms/step - accuracy: 0.8293 - loss: 0.3560 - val_accuracy: 0.7800 - val_loss: 0.5695\n",
            "Epoch 5/100\n",
            "\u001b[1m1222/1222\u001b[0m \u001b[32m━━━━━━━━━━━━━━━━━━━━\u001b[0m\u001b[37m\u001b[0m \u001b[1m6s\u001b[0m 4ms/step - accuracy: 0.8303 - loss: 0.3580 - val_accuracy: 0.8340 - val_loss: 0.3466\n",
            "Epoch 6/100\n",
            "\u001b[1m1222/1222\u001b[0m \u001b[32m━━━━━━━━━━━━━━━━━━━━\u001b[0m\u001b[37m\u001b[0m \u001b[1m9s\u001b[0m 3ms/step - accuracy: 0.8363 - loss: 0.3455 - val_accuracy: 0.8362 - val_loss: 0.3531\n",
            "Epoch 7/100\n",
            "\u001b[1m1222/1222\u001b[0m \u001b[32m━━━━━━━━━━━━━━━━━━━━\u001b[0m\u001b[37m\u001b[0m \u001b[1m7s\u001b[0m 5ms/step - accuracy: 0.8353 - loss: 0.3485 - val_accuracy: 0.8194 - val_loss: 0.3670\n",
            "Epoch 8/100\n",
            "\u001b[1m1222/1222\u001b[0m \u001b[32m━━━━━━━━━━━━━━━━━━━━\u001b[0m\u001b[37m\u001b[0m \u001b[1m4s\u001b[0m 3ms/step - accuracy: 0.8385 - loss: 0.3430 - val_accuracy: 0.7894 - val_loss: 0.5916\n",
            "Epoch 9/100\n",
            "\u001b[1m1222/1222\u001b[0m \u001b[32m━━━━━━━━━━━━━━━━━━━━\u001b[0m\u001b[37m\u001b[0m \u001b[1m4s\u001b[0m 3ms/step - accuracy: 0.8342 - loss: 0.3494 - val_accuracy: 0.8328 - val_loss: 0.3565\n",
            "Epoch 10/100\n",
            "\u001b[1m1222/1222\u001b[0m \u001b[32m━━━━━━━━━━━━━━━━━━━━\u001b[0m\u001b[37m\u001b[0m \u001b[1m6s\u001b[0m 4ms/step - accuracy: 0.8368 - loss: 0.3464 - val_accuracy: 0.8272 - val_loss: 0.3580\n",
            "Epoch 11/100\n",
            "\u001b[1m1222/1222\u001b[0m \u001b[32m━━━━━━━━━━━━━━━━━━━━\u001b[0m\u001b[37m\u001b[0m \u001b[1m4s\u001b[0m 3ms/step - accuracy: 0.8389 - loss: 0.3455 - val_accuracy: 0.8141 - val_loss: 0.3830\n",
            "Epoch 12/100\n",
            "\u001b[1m1222/1222\u001b[0m \u001b[32m━━━━━━━━━━━━━━━━━━━━\u001b[0m\u001b[37m\u001b[0m \u001b[1m8s\u001b[0m 5ms/step - accuracy: 0.8382 - loss: 0.3394 - val_accuracy: 0.8254 - val_loss: 0.3629\n",
            "Epoch 13/100\n",
            "\u001b[1m1222/1222\u001b[0m \u001b[32m━━━━━━━━━━━━━━━━━━━━\u001b[0m\u001b[37m\u001b[0m \u001b[1m7s\u001b[0m 3ms/step - accuracy: 0.8326 - loss: 0.3497 - val_accuracy: 0.8376 - val_loss: 0.3381\n",
            "Epoch 14/100\n",
            "\u001b[1m1222/1222\u001b[0m \u001b[32m━━━━━━━━━━━━━━━━━━━━\u001b[0m\u001b[37m\u001b[0m \u001b[1m7s\u001b[0m 4ms/step - accuracy: 0.8386 - loss: 0.3424 - val_accuracy: 0.8083 - val_loss: 0.4310\n",
            "Epoch 15/100\n",
            "\u001b[1m1222/1222\u001b[0m \u001b[32m━━━━━━━━━━━━━━━━━━━━\u001b[0m\u001b[37m\u001b[0m \u001b[1m9s\u001b[0m 3ms/step - accuracy: 0.8392 - loss: 0.3425 - val_accuracy: 0.7071 - val_loss: 0.5948\n",
            "Epoch 16/100\n",
            "\u001b[1m1222/1222\u001b[0m \u001b[32m━━━━━━━━━━━━━━━━━━━━\u001b[0m\u001b[37m\u001b[0m \u001b[1m6s\u001b[0m 4ms/step - accuracy: 0.8373 - loss: 0.3420 - val_accuracy: 0.8202 - val_loss: 0.3772\n",
            "Epoch 17/100\n",
            "\u001b[1m1222/1222\u001b[0m \u001b[32m━━━━━━━━━━━━━━━━━━━━\u001b[0m\u001b[37m\u001b[0m \u001b[1m4s\u001b[0m 3ms/step - accuracy: 0.8423 - loss: 0.3399 - val_accuracy: 0.8212 - val_loss: 0.3782\n",
            "Epoch 18/100\n",
            "\u001b[1m1222/1222\u001b[0m \u001b[32m━━━━━━━━━━━━━━━━━━━━\u001b[0m\u001b[37m\u001b[0m \u001b[1m4s\u001b[0m 3ms/step - accuracy: 0.8377 - loss: 0.3420 - val_accuracy: 0.8357 - val_loss: 0.3412\n",
            "Epoch 19/100\n",
            "\u001b[1m1222/1222\u001b[0m \u001b[32m━━━━━━━━━━━━━━━━━━━━\u001b[0m\u001b[37m\u001b[0m \u001b[1m6s\u001b[0m 4ms/step - accuracy: 0.8442 - loss: 0.3328 - val_accuracy: 0.8068 - val_loss: 0.3905\n",
            "Epoch 20/100\n",
            "\u001b[1m1222/1222\u001b[0m \u001b[32m━━━━━━━━━━━━━━━━━━━━\u001b[0m\u001b[37m\u001b[0m \u001b[1m4s\u001b[0m 3ms/step - accuracy: 0.8375 - loss: 0.3402 - val_accuracy: 0.8258 - val_loss: 0.3681\n",
            "Epoch 21/100\n",
            "\u001b[1m1222/1222\u001b[0m \u001b[32m━━━━━━━━━━━━━━━━━━━━\u001b[0m\u001b[37m\u001b[0m \u001b[1m7s\u001b[0m 4ms/step - accuracy: 0.8380 - loss: 0.3417 - val_accuracy: 0.8168 - val_loss: 0.3887\n",
            "Epoch 22/100\n",
            "\u001b[1m1222/1222\u001b[0m \u001b[32m━━━━━━━━━━━━━━━━━━━━\u001b[0m\u001b[37m\u001b[0m \u001b[1m4s\u001b[0m 4ms/step - accuracy: 0.8433 - loss: 0.3349 - val_accuracy: 0.8310 - val_loss: 0.3574\n",
            "Epoch 23/100\n",
            "\u001b[1m1222/1222\u001b[0m \u001b[32m━━━━━━━━━━━━━━━━━━━━\u001b[0m\u001b[37m\u001b[0m \u001b[1m5s\u001b[0m 3ms/step - accuracy: 0.8390 - loss: 0.3408 - val_accuracy: 0.8403 - val_loss: 0.3336\n",
            "Epoch 24/100\n",
            "\u001b[1m1222/1222\u001b[0m \u001b[32m━━━━━━━━━━━━━━━━━━━━\u001b[0m\u001b[37m\u001b[0m \u001b[1m7s\u001b[0m 5ms/step - accuracy: 0.8421 - loss: 0.3353 - val_accuracy: 0.8339 - val_loss: 0.3526\n",
            "Epoch 25/100\n",
            "\u001b[1m1222/1222\u001b[0m \u001b[32m━━━━━━━━━━━━━━━━━━━━\u001b[0m\u001b[37m\u001b[0m \u001b[1m5s\u001b[0m 4ms/step - accuracy: 0.8397 - loss: 0.3374 - val_accuracy: 0.8416 - val_loss: 0.3325\n",
            "Epoch 26/100\n",
            "\u001b[1m1222/1222\u001b[0m \u001b[32m━━━━━━━━━━━━━━━━━━━━\u001b[0m\u001b[37m\u001b[0m \u001b[1m6s\u001b[0m 4ms/step - accuracy: 0.8412 - loss: 0.3333 - val_accuracy: 0.8028 - val_loss: 0.4823\n",
            "Epoch 27/100\n",
            "\u001b[1m1222/1222\u001b[0m \u001b[32m━━━━━━━━━━━━━━━━━━━━\u001b[0m\u001b[37m\u001b[0m \u001b[1m9s\u001b[0m 3ms/step - accuracy: 0.8428 - loss: 0.3345 - val_accuracy: 0.8438 - val_loss: 0.3309\n",
            "Epoch 28/100\n",
            "\u001b[1m1222/1222\u001b[0m \u001b[32m━━━━━━━━━━━━━━━━━━━━\u001b[0m\u001b[37m\u001b[0m \u001b[1m6s\u001b[0m 5ms/step - accuracy: 0.8416 - loss: 0.3350 - val_accuracy: 0.8396 - val_loss: 0.3375\n",
            "Epoch 29/100\n",
            "\u001b[1m1222/1222\u001b[0m \u001b[32m━━━━━━━━━━━━━━━━━━━━\u001b[0m\u001b[37m\u001b[0m \u001b[1m9s\u001b[0m 3ms/step - accuracy: 0.8427 - loss: 0.3369 - val_accuracy: 0.8346 - val_loss: 0.3403\n",
            "Epoch 30/100\n",
            "\u001b[1m1222/1222\u001b[0m \u001b[32m━━━━━━━━━━━━━━━━━━━━\u001b[0m\u001b[37m\u001b[0m \u001b[1m6s\u001b[0m 5ms/step - accuracy: 0.8423 - loss: 0.3334 - val_accuracy: 0.8180 - val_loss: 0.3827\n",
            "Epoch 31/100\n",
            "\u001b[1m1222/1222\u001b[0m \u001b[32m━━━━━━━━━━━━━━━━━━━━\u001b[0m\u001b[37m\u001b[0m \u001b[1m9s\u001b[0m 3ms/step - accuracy: 0.8426 - loss: 0.3344 - val_accuracy: 0.8367 - val_loss: 0.3465\n",
            "Epoch 32/100\n",
            "\u001b[1m1222/1222\u001b[0m \u001b[32m━━━━━━━━━━━━━━━━━━━━\u001b[0m\u001b[37m\u001b[0m \u001b[1m6s\u001b[0m 4ms/step - accuracy: 0.8387 - loss: 0.3408 - val_accuracy: 0.8387 - val_loss: 0.3370\n",
            "Epoch 33/100\n",
            "\u001b[1m1222/1222\u001b[0m \u001b[32m━━━━━━━━━━━━━━━━━━━━\u001b[0m\u001b[37m\u001b[0m \u001b[1m4s\u001b[0m 3ms/step - accuracy: 0.8441 - loss: 0.3323 - val_accuracy: 0.8359 - val_loss: 0.3623\n",
            "Epoch 34/100\n",
            "\u001b[1m1222/1222\u001b[0m \u001b[32m━━━━━━━━━━━━━━━━━━━━\u001b[0m\u001b[37m\u001b[0m \u001b[1m4s\u001b[0m 3ms/step - accuracy: 0.8430 - loss: 0.3352 - val_accuracy: 0.8265 - val_loss: 0.3775\n",
            "Epoch 35/100\n",
            "\u001b[1m1222/1222\u001b[0m \u001b[32m━━━━━━━━━━━━━━━━━━━━\u001b[0m\u001b[37m\u001b[0m \u001b[1m6s\u001b[0m 5ms/step - accuracy: 0.8418 - loss: 0.3355 - val_accuracy: 0.8402 - val_loss: 0.3498\n",
            "Epoch 36/100\n",
            "\u001b[1m1222/1222\u001b[0m \u001b[32m━━━━━━━━━━━━━━━━━━━━\u001b[0m\u001b[37m\u001b[0m \u001b[1m4s\u001b[0m 3ms/step - accuracy: 0.8427 - loss: 0.3329 - val_accuracy: 0.7945 - val_loss: 0.4058\n",
            "Epoch 37/100\n",
            "\u001b[1m1222/1222\u001b[0m \u001b[32m━━━━━━━━━━━━━━━━━━━━\u001b[0m\u001b[37m\u001b[0m \u001b[1m6s\u001b[0m 4ms/step - accuracy: 0.8465 - loss: 0.3282 - val_accuracy: 0.8003 - val_loss: 0.3895\n",
            "Epoch 38/100\n",
            "\u001b[1m1222/1222\u001b[0m \u001b[32m━━━━━━━━━━━━━━━━━━━━\u001b[0m\u001b[37m\u001b[0m \u001b[1m4s\u001b[0m 4ms/step - accuracy: 0.8458 - loss: 0.3322 - val_accuracy: 0.8367 - val_loss: 0.3389\n",
            "Epoch 39/100\n",
            "\u001b[1m1222/1222\u001b[0m \u001b[32m━━━━━━━━━━━━━━━━━━━━\u001b[0m\u001b[37m\u001b[0m \u001b[1m4s\u001b[0m 3ms/step - accuracy: 0.8446 - loss: 0.3323 - val_accuracy: 0.7837 - val_loss: 0.4137\n",
            "Epoch 40/100\n",
            "\u001b[1m1222/1222\u001b[0m \u001b[32m━━━━━━━━━━━━━━━━━━━━\u001b[0m\u001b[37m\u001b[0m \u001b[1m5s\u001b[0m 4ms/step - accuracy: 0.8427 - loss: 0.3302 - val_accuracy: 0.8170 - val_loss: 0.4314\n",
            "Epoch 41/100\n",
            "\u001b[1m1222/1222\u001b[0m \u001b[32m━━━━━━━━━━━━━━━━━━━━\u001b[0m\u001b[37m\u001b[0m \u001b[1m4s\u001b[0m 3ms/step - accuracy: 0.8448 - loss: 0.3296 - val_accuracy: 0.8243 - val_loss: 0.3825\n",
            "Epoch 42/100\n",
            "\u001b[1m1222/1222\u001b[0m \u001b[32m━━━━━━━━━━━━━━━━━━━━\u001b[0m\u001b[37m\u001b[0m \u001b[1m4s\u001b[0m 3ms/step - accuracy: 0.8437 - loss: 0.3284 - val_accuracy: 0.8439 - val_loss: 0.3348\n",
            "Epoch 43/100\n",
            "\u001b[1m1222/1222\u001b[0m \u001b[32m━━━━━━━━━━━━━━━━━━━━\u001b[0m\u001b[37m\u001b[0m \u001b[1m6s\u001b[0m 5ms/step - accuracy: 0.8447 - loss: 0.3309 - val_accuracy: 0.8347 - val_loss: 0.3393\n",
            "Epoch 44/100\n",
            "\u001b[1m1222/1222\u001b[0m \u001b[32m━━━━━━━━━━━━━━━━━━━━\u001b[0m\u001b[37m\u001b[0m \u001b[1m8s\u001b[0m 3ms/step - accuracy: 0.8453 - loss: 0.3288 - val_accuracy: 0.7471 - val_loss: 0.4672\n",
            "Epoch 45/100\n",
            "\u001b[1m1222/1222\u001b[0m \u001b[32m━━━━━━━━━━━━━━━━━━━━\u001b[0m\u001b[37m\u001b[0m \u001b[1m6s\u001b[0m 4ms/step - accuracy: 0.8469 - loss: 0.3281 - val_accuracy: 0.8392 - val_loss: 0.3327\n",
            "Epoch 46/100\n",
            "\u001b[1m1222/1222\u001b[0m \u001b[32m━━━━━━━━━━━━━━━━━━━━\u001b[0m\u001b[37m\u001b[0m \u001b[1m9s\u001b[0m 3ms/step - accuracy: 0.8453 - loss: 0.3277 - val_accuracy: 0.8440 - val_loss: 0.3361\n",
            "Epoch 47/100\n",
            "\u001b[1m1222/1222\u001b[0m \u001b[32m━━━━━━━━━━━━━━━━━━━━\u001b[0m\u001b[37m\u001b[0m \u001b[1m6s\u001b[0m 5ms/step - accuracy: 0.8437 - loss: 0.3325 - val_accuracy: 0.7897 - val_loss: 0.4066\n",
            "Epoch 48/100\n",
            "\u001b[1m1222/1222\u001b[0m \u001b[32m━━━━━━━━━━━━━━━━━━━━\u001b[0m\u001b[37m\u001b[0m \u001b[1m8s\u001b[0m 3ms/step - accuracy: 0.8411 - loss: 0.3337 - val_accuracy: 0.8427 - val_loss: 0.3293\n",
            "Epoch 49/100\n",
            "\u001b[1m1222/1222\u001b[0m \u001b[32m━━━━━━━━━━━━━━━━━━━━\u001b[0m\u001b[37m\u001b[0m \u001b[1m6s\u001b[0m 5ms/step - accuracy: 0.8442 - loss: 0.3269 - val_accuracy: 0.8170 - val_loss: 0.3999\n",
            "Epoch 50/100\n",
            "\u001b[1m1222/1222\u001b[0m \u001b[32m━━━━━━━━━━━━━━━━━━━━\u001b[0m\u001b[37m\u001b[0m \u001b[1m9s\u001b[0m 3ms/step - accuracy: 0.8465 - loss: 0.3274 - val_accuracy: 0.8152 - val_loss: 0.3979\n",
            "Epoch 51/100\n",
            "\u001b[1m1222/1222\u001b[0m \u001b[32m━━━━━━━━━━━━━━━━━━━━\u001b[0m\u001b[37m\u001b[0m \u001b[1m6s\u001b[0m 5ms/step - accuracy: 0.8437 - loss: 0.3362 - val_accuracy: 0.8368 - val_loss: 0.3446\n",
            "Epoch 52/100\n",
            "\u001b[1m1222/1222\u001b[0m \u001b[32m━━━━━━━━━━━━━━━━━━━━\u001b[0m\u001b[37m\u001b[0m \u001b[1m8s\u001b[0m 3ms/step - accuracy: 0.8448 - loss: 0.3313 - val_accuracy: 0.8427 - val_loss: 0.3299\n",
            "Epoch 53/100\n",
            "\u001b[1m1222/1222\u001b[0m \u001b[32m━━━━━━━━━━━━━━━━━━━━\u001b[0m\u001b[37m\u001b[0m \u001b[1m6s\u001b[0m 5ms/step - accuracy: 0.8442 - loss: 0.3283 - val_accuracy: 0.8426 - val_loss: 0.3289\n",
            "Epoch 54/100\n",
            "\u001b[1m1222/1222\u001b[0m \u001b[32m━━━━━━━━━━━━━━━━━━━━\u001b[0m\u001b[37m\u001b[0m \u001b[1m8s\u001b[0m 3ms/step - accuracy: 0.8404 - loss: 0.3300 - val_accuracy: 0.8080 - val_loss: 0.3980\n",
            "Epoch 55/100\n",
            "\u001b[1m1222/1222\u001b[0m \u001b[32m━━━━━━━━━━━━━━━━━━━━\u001b[0m\u001b[37m\u001b[0m \u001b[1m6s\u001b[0m 4ms/step - accuracy: 0.8484 - loss: 0.3225 - val_accuracy: 0.8384 - val_loss: 0.3510\n",
            "Epoch 56/100\n",
            "\u001b[1m1222/1222\u001b[0m \u001b[32m━━━━━━━━━━━━━━━━━━━━\u001b[0m\u001b[37m\u001b[0m \u001b[1m4s\u001b[0m 3ms/step - accuracy: 0.8458 - loss: 0.3316 - val_accuracy: 0.8449 - val_loss: 0.3302\n",
            "Epoch 57/100\n",
            "\u001b[1m1222/1222\u001b[0m \u001b[32m━━━━━━━━━━━━━━━━━━━━\u001b[0m\u001b[37m\u001b[0m \u001b[1m7s\u001b[0m 5ms/step - accuracy: 0.8478 - loss: 0.3289 - val_accuracy: 0.8435 - val_loss: 0.3388\n",
            "Epoch 58/100\n",
            "\u001b[1m1222/1222\u001b[0m \u001b[32m━━━━━━━━━━━━━━━━━━━━\u001b[0m\u001b[37m\u001b[0m \u001b[1m9s\u001b[0m 4ms/step - accuracy: 0.8475 - loss: 0.3267 - val_accuracy: 0.8426 - val_loss: 0.3312\n",
            "Epoch 59/100\n",
            "\u001b[1m1222/1222\u001b[0m \u001b[32m━━━━━━━━━━━━━━━━━━━━\u001b[0m\u001b[37m\u001b[0m \u001b[1m6s\u001b[0m 4ms/step - accuracy: 0.8437 - loss: 0.3332 - val_accuracy: 0.8019 - val_loss: 0.3835\n",
            "Epoch 60/100\n",
            "\u001b[1m1222/1222\u001b[0m \u001b[32m━━━━━━━━━━━━━━━━━━━━\u001b[0m\u001b[37m\u001b[0m \u001b[1m10s\u001b[0m 4ms/step - accuracy: 0.8439 - loss: 0.3307 - val_accuracy: 0.8149 - val_loss: 0.3855\n",
            "Epoch 61/100\n",
            "\u001b[1m1222/1222\u001b[0m \u001b[32m━━━━━━━━━━━━━━━━━━━━\u001b[0m\u001b[37m\u001b[0m \u001b[1m5s\u001b[0m 4ms/step - accuracy: 0.8435 - loss: 0.3335 - val_accuracy: 0.8439 - val_loss: 0.3295\n",
            "Epoch 62/100\n",
            "\u001b[1m1222/1222\u001b[0m \u001b[32m━━━━━━━━━━━━━━━━━━━━\u001b[0m\u001b[37m\u001b[0m \u001b[1m4s\u001b[0m 3ms/step - accuracy: 0.8458 - loss: 0.3261 - val_accuracy: 0.8407 - val_loss: 0.3355\n",
            "Epoch 63/100\n",
            "\u001b[1m1222/1222\u001b[0m \u001b[32m━━━━━━━━━━━━━━━━━━━━\u001b[0m\u001b[37m\u001b[0m \u001b[1m7s\u001b[0m 5ms/step - accuracy: 0.8430 - loss: 0.3309 - val_accuracy: 0.8407 - val_loss: 0.3342\n",
            "Epoch 64/100\n",
            "\u001b[1m1222/1222\u001b[0m \u001b[32m━━━━━━━━━━━━━━━━━━━━\u001b[0m\u001b[37m\u001b[0m \u001b[1m4s\u001b[0m 3ms/step - accuracy: 0.8458 - loss: 0.3268 - val_accuracy: 0.8405 - val_loss: 0.3325\n",
            "Epoch 65/100\n",
            "\u001b[1m1222/1222\u001b[0m \u001b[32m━━━━━━━━━━━━━━━━━━━━\u001b[0m\u001b[37m\u001b[0m \u001b[1m5s\u001b[0m 3ms/step - accuracy: 0.8493 - loss: 0.3251 - val_accuracy: 0.8379 - val_loss: 0.3375\n",
            "Epoch 66/100\n",
            "\u001b[1m1222/1222\u001b[0m \u001b[32m━━━━━━━━━━━━━━━━━━━━\u001b[0m\u001b[37m\u001b[0m \u001b[1m7s\u001b[0m 4ms/step - accuracy: 0.8474 - loss: 0.3263 - val_accuracy: 0.8424 - val_loss: 0.3319\n",
            "Epoch 67/100\n",
            "\u001b[1m1222/1222\u001b[0m \u001b[32m━━━━━━━━━━━━━━━━━━━━\u001b[0m\u001b[37m\u001b[0m \u001b[1m4s\u001b[0m 3ms/step - accuracy: 0.8440 - loss: 0.3263 - val_accuracy: 0.8441 - val_loss: 0.3340\n",
            "Epoch 68/100\n",
            "\u001b[1m1222/1222\u001b[0m \u001b[32m━━━━━━━━━━━━━━━━━━━━\u001b[0m\u001b[37m\u001b[0m \u001b[1m7s\u001b[0m 5ms/step - accuracy: 0.8434 - loss: 0.3292 - val_accuracy: 0.8453 - val_loss: 0.3260\n",
            "Epoch 69/100\n",
            "\u001b[1m1222/1222\u001b[0m \u001b[32m━━━━━━━━━━━━━━━━━━━━\u001b[0m\u001b[37m\u001b[0m \u001b[1m8s\u001b[0m 3ms/step - accuracy: 0.8464 - loss: 0.3254 - val_accuracy: 0.8353 - val_loss: 0.3515\n",
            "Epoch 70/100\n",
            "\u001b[1m1222/1222\u001b[0m \u001b[32m━━━━━━━━━━━━━━━━━━━━\u001b[0m\u001b[37m\u001b[0m \u001b[1m6s\u001b[0m 5ms/step - accuracy: 0.8513 - loss: 0.3228 - val_accuracy: 0.7915 - val_loss: 0.3967\n",
            "Epoch 71/100\n",
            "\u001b[1m1222/1222\u001b[0m \u001b[32m━━━━━━━━━━━━━━━━━━━━\u001b[0m\u001b[37m\u001b[0m \u001b[1m4s\u001b[0m 3ms/step - accuracy: 0.8441 - loss: 0.3337 - val_accuracy: 0.8443 - val_loss: 0.3317\n",
            "Epoch 72/100\n",
            "\u001b[1m1222/1222\u001b[0m \u001b[32m━━━━━━━━━━━━━━━━━━━━\u001b[0m\u001b[37m\u001b[0m \u001b[1m5s\u001b[0m 3ms/step - accuracy: 0.8473 - loss: 0.3248 - val_accuracy: 0.8376 - val_loss: 0.3424\n",
            "Epoch 73/100\n",
            "\u001b[1m1222/1222\u001b[0m \u001b[32m━━━━━━━━━━━━━━━━━━━━\u001b[0m\u001b[37m\u001b[0m \u001b[1m6s\u001b[0m 4ms/step - accuracy: 0.8478 - loss: 0.3253 - val_accuracy: 0.8211 - val_loss: 0.3823\n",
            "Epoch 74/100\n",
            "\u001b[1m1222/1222\u001b[0m \u001b[32m━━━━━━━━━━━━━━━━━━━━\u001b[0m\u001b[37m\u001b[0m \u001b[1m4s\u001b[0m 3ms/step - accuracy: 0.8437 - loss: 0.3290 - val_accuracy: 0.8447 - val_loss: 0.3270\n",
            "Epoch 75/100\n",
            "\u001b[1m1222/1222\u001b[0m \u001b[32m━━━━━━━━━━━━━━━━━━━━\u001b[0m\u001b[37m\u001b[0m \u001b[1m7s\u001b[0m 5ms/step - accuracy: 0.8485 - loss: 0.3270 - val_accuracy: 0.8379 - val_loss: 0.3420\n",
            "Epoch 76/100\n",
            "\u001b[1m1222/1222\u001b[0m \u001b[32m━━━━━━━━━━━━━━━━━━━━\u001b[0m\u001b[37m\u001b[0m \u001b[1m8s\u001b[0m 3ms/step - accuracy: 0.8478 - loss: 0.3245 - val_accuracy: 0.8390 - val_loss: 0.3386\n",
            "Epoch 77/100\n",
            "\u001b[1m1222/1222\u001b[0m \u001b[32m━━━━━━━━━━━━━━━━━━━━\u001b[0m\u001b[37m\u001b[0m \u001b[1m6s\u001b[0m 5ms/step - accuracy: 0.8492 - loss: 0.3255 - val_accuracy: 0.8415 - val_loss: 0.3352\n",
            "Epoch 78/100\n",
            "\u001b[1m1222/1222\u001b[0m \u001b[32m━━━━━━━━━━━━━━━━━━━━\u001b[0m\u001b[37m\u001b[0m \u001b[1m9s\u001b[0m 3ms/step - accuracy: 0.8469 - loss: 0.3260 - val_accuracy: 0.8368 - val_loss: 0.3499\n",
            "Epoch 79/100\n",
            "\u001b[1m1222/1222\u001b[0m \u001b[32m━━━━━━━━━━━━━━━━━━━━\u001b[0m\u001b[37m\u001b[0m \u001b[1m6s\u001b[0m 5ms/step - accuracy: 0.8496 - loss: 0.3227 - val_accuracy: 0.8453 - val_loss: 0.3234\n",
            "Epoch 80/100\n",
            "\u001b[1m1222/1222\u001b[0m \u001b[32m━━━━━━━━━━━━━━━━━━━━\u001b[0m\u001b[37m\u001b[0m \u001b[1m4s\u001b[0m 3ms/step - accuracy: 0.8466 - loss: 0.3250 - val_accuracy: 0.8450 - val_loss: 0.3274\n",
            "Epoch 81/100\n",
            "\u001b[1m1222/1222\u001b[0m \u001b[32m━━━━━━━━━━━━━━━━━━━━\u001b[0m\u001b[37m\u001b[0m \u001b[1m4s\u001b[0m 3ms/step - accuracy: 0.8486 - loss: 0.3228 - val_accuracy: 0.8429 - val_loss: 0.3305\n",
            "Epoch 82/100\n",
            "\u001b[1m1222/1222\u001b[0m \u001b[32m━━━━━━━━━━━━━━━━━━━━\u001b[0m\u001b[37m\u001b[0m \u001b[1m7s\u001b[0m 5ms/step - accuracy: 0.8453 - loss: 0.3273 - val_accuracy: 0.8431 - val_loss: 0.3320\n",
            "Epoch 83/100\n",
            "\u001b[1m1222/1222\u001b[0m \u001b[32m━━━━━━━━━━━━━━━━━━━━\u001b[0m\u001b[37m\u001b[0m \u001b[1m8s\u001b[0m 3ms/step - accuracy: 0.8485 - loss: 0.3252 - val_accuracy: 0.8459 - val_loss: 0.3277\n",
            "Epoch 84/100\n",
            "\u001b[1m1222/1222\u001b[0m \u001b[32m━━━━━━━━━━━━━━━━━━━━\u001b[0m\u001b[37m\u001b[0m \u001b[1m6s\u001b[0m 5ms/step - accuracy: 0.8475 - loss: 0.3233 - val_accuracy: 0.8410 - val_loss: 0.3365\n",
            "Epoch 85/100\n",
            "\u001b[1m1222/1222\u001b[0m \u001b[32m━━━━━━━━━━━━━━━━━━━━\u001b[0m\u001b[37m\u001b[0m \u001b[1m4s\u001b[0m 3ms/step - accuracy: 0.8458 - loss: 0.3226 - val_accuracy: 0.8452 - val_loss: 0.3261\n",
            "Epoch 86/100\n",
            "\u001b[1m1222/1222\u001b[0m \u001b[32m━━━━━━━━━━━━━━━━━━━━\u001b[0m\u001b[37m\u001b[0m \u001b[1m4s\u001b[0m 3ms/step - accuracy: 0.8451 - loss: 0.3293 - val_accuracy: 0.8403 - val_loss: 0.3299\n",
            "Epoch 87/100\n",
            "\u001b[1m1222/1222\u001b[0m \u001b[32m━━━━━━━━━━━━━━━━━━━━\u001b[0m\u001b[37m\u001b[0m \u001b[1m5s\u001b[0m 4ms/step - accuracy: 0.8485 - loss: 0.3226 - val_accuracy: 0.7974 - val_loss: 0.3982\n",
            "Epoch 88/100\n",
            "\u001b[1m1222/1222\u001b[0m \u001b[32m━━━━━━━━━━━━━━━━━━━━\u001b[0m\u001b[37m\u001b[0m \u001b[1m9s\u001b[0m 4ms/step - accuracy: 0.8451 - loss: 0.3302 - val_accuracy: 0.8399 - val_loss: 0.3339\n",
            "Epoch 89/100\n",
            "\u001b[1m1222/1222\u001b[0m \u001b[32m━━━━━━━━━━━━━━━━━━━━\u001b[0m\u001b[37m\u001b[0m \u001b[1m6s\u001b[0m 4ms/step - accuracy: 0.8495 - loss: 0.3219 - val_accuracy: 0.8469 - val_loss: 0.3264\n",
            "Epoch 90/100\n",
            "\u001b[1m1222/1222\u001b[0m \u001b[32m━━━━━━━━━━━━━━━━━━━━\u001b[0m\u001b[37m\u001b[0m \u001b[1m4s\u001b[0m 3ms/step - accuracy: 0.8458 - loss: 0.3276 - val_accuracy: 0.8366 - val_loss: 0.3531\n",
            "Epoch 91/100\n",
            "\u001b[1m1222/1222\u001b[0m \u001b[32m━━━━━━━━━━━━━━━━━━━━\u001b[0m\u001b[37m\u001b[0m \u001b[1m5s\u001b[0m 4ms/step - accuracy: 0.8477 - loss: 0.3236 - val_accuracy: 0.8469 - val_loss: 0.3257\n",
            "Epoch 92/100\n",
            "\u001b[1m1222/1222\u001b[0m \u001b[32m━━━━━━━━━━━━━━━━━━━━\u001b[0m\u001b[37m\u001b[0m \u001b[1m5s\u001b[0m 4ms/step - accuracy: 0.8466 - loss: 0.3254 - val_accuracy: 0.8421 - val_loss: 0.3308\n",
            "Epoch 93/100\n",
            "\u001b[1m1222/1222\u001b[0m \u001b[32m━━━━━━━━━━━━━━━━━━━━\u001b[0m\u001b[37m\u001b[0m \u001b[1m4s\u001b[0m 3ms/step - accuracy: 0.8484 - loss: 0.3219 - val_accuracy: 0.8412 - val_loss: 0.3385\n",
            "Epoch 94/100\n",
            "\u001b[1m1222/1222\u001b[0m \u001b[32m━━━━━━━━━━━━━━━━━━━━\u001b[0m\u001b[37m\u001b[0m \u001b[1m5s\u001b[0m 4ms/step - accuracy: 0.8444 - loss: 0.3298 - val_accuracy: 0.8447 - val_loss: 0.3268\n",
            "Epoch 95/100\n",
            "\u001b[1m1222/1222\u001b[0m \u001b[32m━━━━━━━━━━━━━━━━━━━━\u001b[0m\u001b[37m\u001b[0m \u001b[1m5s\u001b[0m 4ms/step - accuracy: 0.8474 - loss: 0.3213 - val_accuracy: 0.8369 - val_loss: 0.3378\n",
            "Epoch 96/100\n",
            "\u001b[1m1222/1222\u001b[0m \u001b[32m━━━━━━━━━━━━━━━━━━━━\u001b[0m\u001b[37m\u001b[0m \u001b[1m4s\u001b[0m 3ms/step - accuracy: 0.8453 - loss: 0.3275 - val_accuracy: 0.8289 - val_loss: 0.3592\n",
            "Epoch 97/100\n",
            "\u001b[1m1222/1222\u001b[0m \u001b[32m━━━━━━━━━━━━━━━━━━━━\u001b[0m\u001b[37m\u001b[0m \u001b[1m6s\u001b[0m 5ms/step - accuracy: 0.8494 - loss: 0.3248 - val_accuracy: 0.8430 - val_loss: 0.3240\n",
            "Epoch 98/100\n",
            "\u001b[1m1222/1222\u001b[0m \u001b[32m━━━━━━━━━━━━━━━━━━━━\u001b[0m\u001b[37m\u001b[0m \u001b[1m8s\u001b[0m 3ms/step - accuracy: 0.8491 - loss: 0.3190 - val_accuracy: 0.8473 - val_loss: 0.3220\n",
            "Epoch 99/100\n",
            "\u001b[1m1222/1222\u001b[0m \u001b[32m━━━━━━━━━━━━━━━━━━━━\u001b[0m\u001b[37m\u001b[0m \u001b[1m7s\u001b[0m 5ms/step - accuracy: 0.8496 - loss: 0.3203 - val_accuracy: 0.8454 - val_loss: 0.3235\n",
            "Epoch 100/100\n",
            "\u001b[1m1222/1222\u001b[0m \u001b[32m━━━━━━━━━━━━━━━━━━━━\u001b[0m\u001b[37m\u001b[0m \u001b[1m4s\u001b[0m 3ms/step - accuracy: 0.8487 - loss: 0.3238 - val_accuracy: 0.8472 - val_loss: 0.3229\n"
          ]
        }
      ]
    },
    {
      "cell_type": "code",
      "source": [
        "model1 = tf.keras.Sequential([\n",
        "    tf.keras.layers.Dense(128, activation='relu', input_shape=(x_train.shape[1],)),\n",
        "    tf.keras.layers.Dropout(0.3),\n",
        "    tf.keras.layers.Dense(64, activation='relu'),\n",
        "    tf.keras.layers.Dropout(0.3),\n",
        "    tf.keras.layers.Dense(32, activation='relu'),\n",
        "    tf.keras.layers.Dense(2, activation='softmax')\n",
        "])\n",
        "\n",
        "model1.compile(optimizer='adam',\n",
        "              loss='categorical_crossentropy',\n",
        "              metrics=['accuracy'])\n",
        "\n",
        "history1 = model1.fit(x_train, tf.squeeze(tf.one_hot(y_train, depth = 2)), epochs = 25, validation_data = (x_test, tf.squeeze(tf.one_hot(y_test, depth = 2))))"
      ],
      "metadata": {
        "colab": {
          "base_uri": "https://localhost:8080/"
        },
        "id": "spOjGKZUTvt1",
        "outputId": "fb63e1bb-7198-4946-9709-0877b8218c06"
      },
      "id": "spOjGKZUTvt1",
      "execution_count": 66,
      "outputs": [
        {
          "output_type": "stream",
          "name": "stdout",
          "text": [
            "Epoch 1/25\n",
            "\u001b[1m1222/1222\u001b[0m \u001b[32m━━━━━━━━━━━━━━━━━━━━\u001b[0m\u001b[37m\u001b[0m \u001b[1m11s\u001b[0m 6ms/step - accuracy: 0.7355 - loss: 0.6050 - val_accuracy: 0.7682 - val_loss: 0.4547\n",
            "Epoch 2/25\n",
            "\u001b[1m1222/1222\u001b[0m \u001b[32m━━━━━━━━━━━━━━━━━━━━\u001b[0m\u001b[37m\u001b[0m \u001b[1m9s\u001b[0m 7ms/step - accuracy: 0.7830 - loss: 0.4469 - val_accuracy: 0.7997 - val_loss: 0.3971\n",
            "Epoch 3/25\n",
            "\u001b[1m1222/1222\u001b[0m \u001b[32m━━━━━━━━━━━━━━━━━━━━\u001b[0m\u001b[37m\u001b[0m \u001b[1m6s\u001b[0m 5ms/step - accuracy: 0.8105 - loss: 0.3994 - val_accuracy: 0.8294 - val_loss: 0.3667\n",
            "Epoch 4/25\n",
            "\u001b[1m1222/1222\u001b[0m \u001b[32m━━━━━━━━━━━━━━━━━━━━\u001b[0m\u001b[37m\u001b[0m \u001b[1m9s\u001b[0m 7ms/step - accuracy: 0.8214 - loss: 0.3814 - val_accuracy: 0.8335 - val_loss: 0.3528\n",
            "Epoch 5/25\n",
            "\u001b[1m1222/1222\u001b[0m \u001b[32m━━━━━━━━━━━━━━━━━━━━\u001b[0m\u001b[37m\u001b[0m \u001b[1m6s\u001b[0m 4ms/step - accuracy: 0.8266 - loss: 0.3655 - val_accuracy: 0.8302 - val_loss: 0.3494\n",
            "Epoch 6/25\n",
            "\u001b[1m1222/1222\u001b[0m \u001b[32m━━━━━━━━━━━━━━━━━━━━\u001b[0m\u001b[37m\u001b[0m \u001b[1m10s\u001b[0m 4ms/step - accuracy: 0.8287 - loss: 0.3654 - val_accuracy: 0.8217 - val_loss: 0.3550\n",
            "Epoch 7/25\n",
            "\u001b[1m1222/1222\u001b[0m \u001b[32m━━━━━━━━━━━━━━━━━━━━\u001b[0m\u001b[37m\u001b[0m \u001b[1m10s\u001b[0m 4ms/step - accuracy: 0.8320 - loss: 0.3524 - val_accuracy: 0.8269 - val_loss: 0.3507\n",
            "Epoch 8/25\n",
            "\u001b[1m1222/1222\u001b[0m \u001b[32m━━━━━━━━━━━━━━━━━━━━\u001b[0m\u001b[37m\u001b[0m \u001b[1m5s\u001b[0m 4ms/step - accuracy: 0.8320 - loss: 0.3563 - val_accuracy: 0.8361 - val_loss: 0.3420\n",
            "Epoch 9/25\n",
            "\u001b[1m1222/1222\u001b[0m \u001b[32m━━━━━━━━━━━━━━━━━━━━\u001b[0m\u001b[37m\u001b[0m \u001b[1m13s\u001b[0m 7ms/step - accuracy: 0.8327 - loss: 0.3557 - val_accuracy: 0.8350 - val_loss: 0.3425\n",
            "Epoch 10/25\n",
            "\u001b[1m1222/1222\u001b[0m \u001b[32m━━━━━━━━━━━━━━━━━━━━\u001b[0m\u001b[37m\u001b[0m \u001b[1m11s\u001b[0m 7ms/step - accuracy: 0.8364 - loss: 0.3459 - val_accuracy: 0.8264 - val_loss: 0.3549\n",
            "Epoch 11/25\n",
            "\u001b[1m1222/1222\u001b[0m \u001b[32m━━━━━━━━━━━━━━━━━━━━\u001b[0m\u001b[37m\u001b[0m \u001b[1m10s\u001b[0m 7ms/step - accuracy: 0.8295 - loss: 0.3537 - val_accuracy: 0.8408 - val_loss: 0.3364\n",
            "Epoch 12/25\n",
            "\u001b[1m1222/1222\u001b[0m \u001b[32m━━━━━━━━━━━━━━━━━━━━\u001b[0m\u001b[37m\u001b[0m \u001b[1m10s\u001b[0m 8ms/step - accuracy: 0.8368 - loss: 0.3465 - val_accuracy: 0.8396 - val_loss: 0.3441\n",
            "Epoch 13/25\n",
            "\u001b[1m1222/1222\u001b[0m \u001b[32m━━━━━━━━━━━━━━━━━━━━\u001b[0m\u001b[37m\u001b[0m \u001b[1m19s\u001b[0m 7ms/step - accuracy: 0.8369 - loss: 0.3472 - val_accuracy: 0.8413 - val_loss: 0.3379\n",
            "Epoch 14/25\n",
            "\u001b[1m1222/1222\u001b[0m \u001b[32m━━━━━━━━━━━━━━━━━━━━\u001b[0m\u001b[37m\u001b[0m \u001b[1m9s\u001b[0m 6ms/step - accuracy: 0.8390 - loss: 0.3438 - val_accuracy: 0.8334 - val_loss: 0.3480\n",
            "Epoch 15/25\n",
            "\u001b[1m1222/1222\u001b[0m \u001b[32m━━━━━━━━━━━━━━━━━━━━\u001b[0m\u001b[37m\u001b[0m \u001b[1m8s\u001b[0m 6ms/step - accuracy: 0.8365 - loss: 0.3450 - val_accuracy: 0.8337 - val_loss: 0.3503\n",
            "Epoch 16/25\n",
            "\u001b[1m1222/1222\u001b[0m \u001b[32m━━━━━━━━━━━━━━━━━━━━\u001b[0m\u001b[37m\u001b[0m \u001b[1m5s\u001b[0m 4ms/step - accuracy: 0.8406 - loss: 0.3425 - val_accuracy: 0.8385 - val_loss: 0.3391\n",
            "Epoch 17/25\n",
            "\u001b[1m1222/1222\u001b[0m \u001b[32m━━━━━━━━━━━━━━━━━━━━\u001b[0m\u001b[37m\u001b[0m \u001b[1m12s\u001b[0m 6ms/step - accuracy: 0.8385 - loss: 0.3428 - val_accuracy: 0.8374 - val_loss: 0.3597\n",
            "Epoch 18/25\n",
            "\u001b[1m1222/1222\u001b[0m \u001b[32m━━━━━━━━━━━━━━━━━━━━\u001b[0m\u001b[37m\u001b[0m \u001b[1m4s\u001b[0m 3ms/step - accuracy: 0.8376 - loss: 0.3430 - val_accuracy: 0.8394 - val_loss: 0.3383\n",
            "Epoch 19/25\n",
            "\u001b[1m1222/1222\u001b[0m \u001b[32m━━━━━━━━━━━━━━━━━━━━\u001b[0m\u001b[37m\u001b[0m \u001b[1m10s\u001b[0m 7ms/step - accuracy: 0.8388 - loss: 0.3431 - val_accuracy: 0.8365 - val_loss: 0.3448\n",
            "Epoch 20/25\n",
            "\u001b[1m1222/1222\u001b[0m \u001b[32m━━━━━━━━━━━━━━━━━━━━\u001b[0m\u001b[37m\u001b[0m \u001b[1m7s\u001b[0m 6ms/step - accuracy: 0.8409 - loss: 0.3401 - val_accuracy: 0.8347 - val_loss: 0.3449\n",
            "Epoch 21/25\n",
            "\u001b[1m1222/1222\u001b[0m \u001b[32m━━━━━━━━━━━━━━━━━━━━\u001b[0m\u001b[37m\u001b[0m \u001b[1m6s\u001b[0m 5ms/step - accuracy: 0.8412 - loss: 0.3374 - val_accuracy: 0.8379 - val_loss: 0.3538\n",
            "Epoch 22/25\n",
            "\u001b[1m1222/1222\u001b[0m \u001b[32m━━━━━━━━━━━━━━━━━━━━\u001b[0m\u001b[37m\u001b[0m \u001b[1m10s\u001b[0m 5ms/step - accuracy: 0.8383 - loss: 0.3415 - val_accuracy: 0.8430 - val_loss: 0.3416\n",
            "Epoch 23/25\n",
            "\u001b[1m1222/1222\u001b[0m \u001b[32m━━━━━━━━━━━━━━━━━━━━\u001b[0m\u001b[37m\u001b[0m \u001b[1m9s\u001b[0m 4ms/step - accuracy: 0.8429 - loss: 0.3377 - val_accuracy: 0.8405 - val_loss: 0.3434\n",
            "Epoch 24/25\n",
            "\u001b[1m1222/1222\u001b[0m \u001b[32m━━━━━━━━━━━━━━━━━━━━\u001b[0m\u001b[37m\u001b[0m \u001b[1m9s\u001b[0m 4ms/step - accuracy: 0.8408 - loss: 0.3395 - val_accuracy: 0.8409 - val_loss: 0.3377\n",
            "Epoch 25/25\n",
            "\u001b[1m1222/1222\u001b[0m \u001b[32m━━━━━━━━━━━━━━━━━━━━\u001b[0m\u001b[37m\u001b[0m \u001b[1m3s\u001b[0m 3ms/step - accuracy: 0.8434 - loss: 0.3365 - val_accuracy: 0.8338 - val_loss: 0.3489\n"
          ]
        }
      ]
    },
    {
      "cell_type": "code",
      "source": [
        "model2 = tf.keras.Sequential([\n",
        "    tf.keras.layers.Dense(128, activation='relu', input_shape=(x_train.shape[1],)),\n",
        "    tf.keras.layers.BatchNormalization(),\n",
        "    tf.keras.layers.Dense(64, activation='relu'),\n",
        "    tf.keras.layers.BatchNormalization(),\n",
        "    tf.keras.layers.Dense(32, activation='relu'),\n",
        "    tf.keras.layers.BatchNormalization(),\n",
        "    tf.keras.layers.Dense(2, activation='softmax')\n",
        "])\n",
        "\n",
        "model2.compile(optimizer='adam',\n",
        "              loss='categorical_crossentropy',\n",
        "              metrics=['accuracy'])\n",
        "\n",
        "history2 = model2.fit(x_train, tf.squeeze(tf.one_hot(y_train, depth = 2)), epochs = 25, validation_data = (x_test, tf.squeeze(tf.one_hot(y_test, depth = 2))))"
      ],
      "metadata": {
        "colab": {
          "base_uri": "https://localhost:8080/"
        },
        "id": "_vbgsQwcZ4HS",
        "outputId": "122379b2-6305-4323-cc70-af6d231d97bc"
      },
      "id": "_vbgsQwcZ4HS",
      "execution_count": 67,
      "outputs": [
        {
          "output_type": "stream",
          "name": "stdout",
          "text": [
            "Epoch 1/25\n",
            "\u001b[1m1222/1222\u001b[0m \u001b[32m━━━━━━━━━━━━━━━━━━━━\u001b[0m\u001b[37m\u001b[0m \u001b[1m56s\u001b[0m 5ms/step - accuracy: 0.7778 - loss: 0.4638 - val_accuracy: 0.8070 - val_loss: 0.4126\n",
            "Epoch 2/25\n",
            "\u001b[1m1222/1222\u001b[0m \u001b[32m━━━━━━━━━━━━━━━━━━━━\u001b[0m\u001b[37m\u001b[0m \u001b[1m4s\u001b[0m 3ms/step - accuracy: 0.8220 - loss: 0.3727 - val_accuracy: 0.8002 - val_loss: 0.4536\n",
            "Epoch 3/25\n",
            "\u001b[1m1222/1222\u001b[0m \u001b[32m━━━━━━━━━━━━━━━━━━━━\u001b[0m\u001b[37m\u001b[0m \u001b[1m5s\u001b[0m 3ms/step - accuracy: 0.8315 - loss: 0.3552 - val_accuracy: 0.8036 - val_loss: 0.3990\n",
            "Epoch 4/25\n",
            "\u001b[1m1222/1222\u001b[0m \u001b[32m━━━━━━━━━━━━━━━━━━━━\u001b[0m\u001b[37m\u001b[0m \u001b[1m6s\u001b[0m 4ms/step - accuracy: 0.8330 - loss: 0.3518 - val_accuracy: 0.8280 - val_loss: 0.3663\n",
            "Epoch 5/25\n",
            "\u001b[1m1222/1222\u001b[0m \u001b[32m━━━━━━━━━━━━━━━━━━━━\u001b[0m\u001b[37m\u001b[0m \u001b[1m5s\u001b[0m 3ms/step - accuracy: 0.8371 - loss: 0.3495 - val_accuracy: 0.8426 - val_loss: 0.3320\n",
            "Epoch 6/25\n",
            "\u001b[1m1222/1222\u001b[0m \u001b[32m━━━━━━━━━━━━━━━━━━━━\u001b[0m\u001b[37m\u001b[0m \u001b[1m6s\u001b[0m 4ms/step - accuracy: 0.8367 - loss: 0.3487 - val_accuracy: 0.8085 - val_loss: 0.3886\n",
            "Epoch 7/25\n",
            "\u001b[1m1222/1222\u001b[0m \u001b[32m━━━━━━━━━━━━━━━━━━━━\u001b[0m\u001b[37m\u001b[0m \u001b[1m9s\u001b[0m 3ms/step - accuracy: 0.8396 - loss: 0.3402 - val_accuracy: 0.8355 - val_loss: 0.3422\n",
            "Epoch 8/25\n",
            "\u001b[1m1222/1222\u001b[0m \u001b[32m━━━━━━━━━━━━━━━━━━━━\u001b[0m\u001b[37m\u001b[0m \u001b[1m7s\u001b[0m 5ms/step - accuracy: 0.8380 - loss: 0.3412 - val_accuracy: 0.8448 - val_loss: 0.3330\n",
            "Epoch 9/25\n",
            "\u001b[1m1222/1222\u001b[0m \u001b[32m━━━━━━━━━━━━━━━━━━━━\u001b[0m\u001b[37m\u001b[0m \u001b[1m4s\u001b[0m 3ms/step - accuracy: 0.8410 - loss: 0.3395 - val_accuracy: 0.8243 - val_loss: 0.3815\n",
            "Epoch 10/25\n",
            "\u001b[1m1222/1222\u001b[0m \u001b[32m━━━━━━━━━━━━━━━━━━━━\u001b[0m\u001b[37m\u001b[0m \u001b[1m7s\u001b[0m 4ms/step - accuracy: 0.8417 - loss: 0.3377 - val_accuracy: 0.7997 - val_loss: 0.4506\n",
            "Epoch 11/25\n",
            "\u001b[1m1222/1222\u001b[0m \u001b[32m━━━━━━━━━━━━━━━━━━━━\u001b[0m\u001b[37m\u001b[0m \u001b[1m4s\u001b[0m 3ms/step - accuracy: 0.8436 - loss: 0.3342 - val_accuracy: 0.8391 - val_loss: 0.3421\n",
            "Epoch 12/25\n",
            "\u001b[1m1222/1222\u001b[0m \u001b[32m━━━━━━━━━━━━━━━━━━━━\u001b[0m\u001b[37m\u001b[0m \u001b[1m4s\u001b[0m 3ms/step - accuracy: 0.8448 - loss: 0.3328 - val_accuracy: 0.8186 - val_loss: 0.4108\n",
            "Epoch 13/25\n",
            "\u001b[1m1222/1222\u001b[0m \u001b[32m━━━━━━━━━━━━━━━━━━━━\u001b[0m\u001b[37m\u001b[0m \u001b[1m7s\u001b[0m 5ms/step - accuracy: 0.8464 - loss: 0.3286 - val_accuracy: 0.8422 - val_loss: 0.3375\n",
            "Epoch 14/25\n",
            "\u001b[1m1222/1222\u001b[0m \u001b[32m━━━━━━━━━━━━━━━━━━━━\u001b[0m\u001b[37m\u001b[0m \u001b[1m4s\u001b[0m 3ms/step - accuracy: 0.8450 - loss: 0.3317 - val_accuracy: 0.8217 - val_loss: 0.4013\n",
            "Epoch 15/25\n",
            "\u001b[1m1222/1222\u001b[0m \u001b[32m━━━━━━━━━━━━━━━━━━━━\u001b[0m\u001b[37m\u001b[0m \u001b[1m5s\u001b[0m 3ms/step - accuracy: 0.8444 - loss: 0.3315 - val_accuracy: 0.8373 - val_loss: 0.3521\n",
            "Epoch 16/25\n",
            "\u001b[1m1222/1222\u001b[0m \u001b[32m━━━━━━━━━━━━━━━━━━━━\u001b[0m\u001b[37m\u001b[0m \u001b[1m5s\u001b[0m 4ms/step - accuracy: 0.8454 - loss: 0.3266 - val_accuracy: 0.8164 - val_loss: 0.3719\n",
            "Epoch 17/25\n",
            "\u001b[1m1222/1222\u001b[0m \u001b[32m━━━━━━━━━━━━━━━━━━━━\u001b[0m\u001b[37m\u001b[0m \u001b[1m4s\u001b[0m 3ms/step - accuracy: 0.8465 - loss: 0.3301 - val_accuracy: 0.8288 - val_loss: 0.3656\n",
            "Epoch 18/25\n",
            "\u001b[1m1222/1222\u001b[0m \u001b[32m━━━━━━━━━━━━━━━━━━━━\u001b[0m\u001b[37m\u001b[0m \u001b[1m7s\u001b[0m 4ms/step - accuracy: 0.8486 - loss: 0.3223 - val_accuracy: 0.8433 - val_loss: 0.3379\n",
            "Epoch 19/25\n",
            "\u001b[1m1222/1222\u001b[0m \u001b[32m━━━━━━━━━━━━━━━━━━━━\u001b[0m\u001b[37m\u001b[0m \u001b[1m9s\u001b[0m 3ms/step - accuracy: 0.8459 - loss: 0.3294 - val_accuracy: 0.8254 - val_loss: 0.3610\n",
            "Epoch 20/25\n",
            "\u001b[1m1222/1222\u001b[0m \u001b[32m━━━━━━━━━━━━━━━━━━━━\u001b[0m\u001b[37m\u001b[0m \u001b[1m6s\u001b[0m 4ms/step - accuracy: 0.8450 - loss: 0.3271 - val_accuracy: 0.8351 - val_loss: 0.3601\n",
            "Epoch 21/25\n",
            "\u001b[1m1222/1222\u001b[0m \u001b[32m━━━━━━━━━━━━━━━━━━━━\u001b[0m\u001b[37m\u001b[0m \u001b[1m9s\u001b[0m 3ms/step - accuracy: 0.8483 - loss: 0.3218 - val_accuracy: 0.8467 - val_loss: 0.3318\n",
            "Epoch 22/25\n",
            "\u001b[1m1222/1222\u001b[0m \u001b[32m━━━━━━━━━━━━━━━━━━━━\u001b[0m\u001b[37m\u001b[0m \u001b[1m6s\u001b[0m 5ms/step - accuracy: 0.8469 - loss: 0.3233 - val_accuracy: 0.8391 - val_loss: 0.3396\n",
            "Epoch 23/25\n",
            "\u001b[1m1222/1222\u001b[0m \u001b[32m━━━━━━━━━━━━━━━━━━━━\u001b[0m\u001b[37m\u001b[0m \u001b[1m9s\u001b[0m 4ms/step - accuracy: 0.8489 - loss: 0.3243 - val_accuracy: 0.8324 - val_loss: 0.3619\n",
            "Epoch 24/25\n",
            "\u001b[1m1222/1222\u001b[0m \u001b[32m━━━━━━━━━━━━━━━━━━━━\u001b[0m\u001b[37m\u001b[0m \u001b[1m5s\u001b[0m 4ms/step - accuracy: 0.8485 - loss: 0.3245 - val_accuracy: 0.8439 - val_loss: 0.3330\n",
            "Epoch 25/25\n",
            "\u001b[1m1222/1222\u001b[0m \u001b[32m━━━━━━━━━━━━━━━━━━━━\u001b[0m\u001b[37m\u001b[0m \u001b[1m4s\u001b[0m 3ms/step - accuracy: 0.8485 - loss: 0.3225 - val_accuracy: 0.8322 - val_loss: 0.3505\n"
          ]
        }
      ]
    },
    {
      "cell_type": "code",
      "source": [
        "model3 = tf.keras.Sequential([\n",
        "    tf.keras.layers.Dense(256, activation='relu', kernel_regularizer=tf.keras.regularizers.l2(0.001), input_shape=(x_train.shape[1],)),\n",
        "    tf.keras.layers.Dense(128, activation='relu', kernel_regularizer=tf.keras.regularizers.l2(0.001)),\n",
        "    tf.keras.layers.Dense(64, activation='relu', kernel_regularizer=tf.keras.regularizers.l2(0.001)),\n",
        "    tf.keras.layers.Dense(2, activation='softmax')\n",
        "])\n",
        "\n",
        "model3.compile(optimizer='adam',\n",
        "              loss='categorical_crossentropy',\n",
        "              metrics=['accuracy'])\n",
        "\n",
        "history3 = model3.fit(x_train, tf.squeeze(tf.one_hot(y_train, depth = 2)), epochs = 25, validation_data = (x_test, tf.squeeze(tf.one_hot(y_test, depth = 2))))"
      ],
      "metadata": {
        "colab": {
          "base_uri": "https://localhost:8080/"
        },
        "id": "HP_QYyT4aHH9",
        "outputId": "35df6a83-5537-44e9-e1b3-e4db39f17dd5"
      },
      "id": "HP_QYyT4aHH9",
      "execution_count": 68,
      "outputs": [
        {
          "output_type": "stream",
          "name": "stdout",
          "text": [
            "Epoch 1/25\n",
            "\u001b[1m1222/1222\u001b[0m \u001b[32m━━━━━━━━━━━━━━━━━━━━\u001b[0m\u001b[37m\u001b[0m \u001b[1m7s\u001b[0m 5ms/step - accuracy: 0.7693 - loss: 0.6070 - val_accuracy: 0.8262 - val_loss: 0.4389\n",
            "Epoch 2/25\n",
            "\u001b[1m1222/1222\u001b[0m \u001b[32m━━━━━━━━━━━━━━━━━━━━\u001b[0m\u001b[37m\u001b[0m \u001b[1m8s\u001b[0m 3ms/step - accuracy: 0.8094 - loss: 0.4474 - val_accuracy: 0.8231 - val_loss: 0.4150\n",
            "Epoch 3/25\n",
            "\u001b[1m1222/1222\u001b[0m \u001b[32m━━━━━━━━━━━━━━━━━━━━\u001b[0m\u001b[37m\u001b[0m \u001b[1m5s\u001b[0m 4ms/step - accuracy: 0.8191 - loss: 0.4222 - val_accuracy: 0.8176 - val_loss: 0.4126\n",
            "Epoch 4/25\n",
            "\u001b[1m1222/1222\u001b[0m \u001b[32m━━━━━━━━━━━━━━━━━━━━\u001b[0m\u001b[37m\u001b[0m \u001b[1m3s\u001b[0m 3ms/step - accuracy: 0.8205 - loss: 0.4109 - val_accuracy: 0.8289 - val_loss: 0.3891\n",
            "Epoch 5/25\n",
            "\u001b[1m1222/1222\u001b[0m \u001b[32m━━━━━━━━━━━━━━━━━━━━\u001b[0m\u001b[37m\u001b[0m \u001b[1m3s\u001b[0m 3ms/step - accuracy: 0.8240 - loss: 0.4000 - val_accuracy: 0.8262 - val_loss: 0.3929\n",
            "Epoch 6/25\n",
            "\u001b[1m1222/1222\u001b[0m \u001b[32m━━━━━━━━━━━━━━━━━━━━\u001b[0m\u001b[37m\u001b[0m \u001b[1m3s\u001b[0m 3ms/step - accuracy: 0.8223 - loss: 0.3981 - val_accuracy: 0.8171 - val_loss: 0.3951\n",
            "Epoch 7/25\n",
            "\u001b[1m1222/1222\u001b[0m \u001b[32m━━━━━━━━━━━━━━━━━━━━\u001b[0m\u001b[37m\u001b[0m \u001b[1m5s\u001b[0m 4ms/step - accuracy: 0.8277 - loss: 0.3856 - val_accuracy: 0.7839 - val_loss: 0.4603\n",
            "Epoch 8/25\n",
            "\u001b[1m1222/1222\u001b[0m \u001b[32m━━━━━━━━━━━━━━━━━━━━\u001b[0m\u001b[37m\u001b[0m \u001b[1m4s\u001b[0m 3ms/step - accuracy: 0.8191 - loss: 0.3930 - val_accuracy: 0.8327 - val_loss: 0.3726\n",
            "Epoch 9/25\n",
            "\u001b[1m1222/1222\u001b[0m \u001b[32m━━━━━━━━━━━━━━━━━━━━\u001b[0m\u001b[37m\u001b[0m \u001b[1m4s\u001b[0m 3ms/step - accuracy: 0.8270 - loss: 0.3798 - val_accuracy: 0.8226 - val_loss: 0.3787\n",
            "Epoch 10/25\n",
            "\u001b[1m1222/1222\u001b[0m \u001b[32m━━━━━━━━━━━━━━━━━━━━\u001b[0m\u001b[37m\u001b[0m \u001b[1m6s\u001b[0m 4ms/step - accuracy: 0.8311 - loss: 0.3753 - val_accuracy: 0.8326 - val_loss: 0.3680\n",
            "Epoch 11/25\n",
            "\u001b[1m1222/1222\u001b[0m \u001b[32m━━━━━━━━━━━━━━━━━━━━\u001b[0m\u001b[37m\u001b[0m \u001b[1m3s\u001b[0m 3ms/step - accuracy: 0.8302 - loss: 0.3726 - val_accuracy: 0.8347 - val_loss: 0.3636\n",
            "Epoch 12/25\n",
            "\u001b[1m1222/1222\u001b[0m \u001b[32m━━━━━━━━━━━━━━━━━━━━\u001b[0m\u001b[37m\u001b[0m \u001b[1m3s\u001b[0m 3ms/step - accuracy: 0.8305 - loss: 0.3712 - val_accuracy: 0.8328 - val_loss: 0.3645\n",
            "Epoch 13/25\n",
            "\u001b[1m1222/1222\u001b[0m \u001b[32m━━━━━━━━━━━━━━━━━━━━\u001b[0m\u001b[37m\u001b[0m \u001b[1m7s\u001b[0m 4ms/step - accuracy: 0.8331 - loss: 0.3709 - val_accuracy: 0.8360 - val_loss: 0.3601\n",
            "Epoch 14/25\n",
            "\u001b[1m1222/1222\u001b[0m \u001b[32m━━━━━━━━━━━━━━━━━━━━\u001b[0m\u001b[37m\u001b[0m \u001b[1m8s\u001b[0m 3ms/step - accuracy: 0.8366 - loss: 0.3634 - val_accuracy: 0.8302 - val_loss: 0.3682\n",
            "Epoch 15/25\n",
            "\u001b[1m1222/1222\u001b[0m \u001b[32m━━━━━━━━━━━━━━━━━━━━\u001b[0m\u001b[37m\u001b[0m \u001b[1m6s\u001b[0m 4ms/step - accuracy: 0.8358 - loss: 0.3660 - val_accuracy: 0.8306 - val_loss: 0.3674\n",
            "Epoch 16/25\n",
            "\u001b[1m1222/1222\u001b[0m \u001b[32m━━━━━━━━━━━━━━━━━━━━\u001b[0m\u001b[37m\u001b[0m \u001b[1m3s\u001b[0m 3ms/step - accuracy: 0.8304 - loss: 0.3721 - val_accuracy: 0.8277 - val_loss: 0.3725\n",
            "Epoch 17/25\n",
            "\u001b[1m1222/1222\u001b[0m \u001b[32m━━━━━━━━━━━━━━━━━━━━\u001b[0m\u001b[37m\u001b[0m \u001b[1m4s\u001b[0m 3ms/step - accuracy: 0.8335 - loss: 0.3636 - val_accuracy: 0.8312 - val_loss: 0.3659\n",
            "Epoch 18/25\n",
            "\u001b[1m1222/1222\u001b[0m \u001b[32m━━━━━━━━━━━━━━━━━━━━\u001b[0m\u001b[37m\u001b[0m \u001b[1m6s\u001b[0m 3ms/step - accuracy: 0.8344 - loss: 0.3639 - val_accuracy: 0.8341 - val_loss: 0.3638\n",
            "Epoch 19/25\n",
            "\u001b[1m1222/1222\u001b[0m \u001b[32m━━━━━━━━━━━━━━━━━━━━\u001b[0m\u001b[37m\u001b[0m \u001b[1m4s\u001b[0m 3ms/step - accuracy: 0.8354 - loss: 0.3613 - val_accuracy: 0.8150 - val_loss: 0.4016\n",
            "Epoch 20/25\n",
            "\u001b[1m1222/1222\u001b[0m \u001b[32m━━━━━━━━━━━━━━━━━━━━\u001b[0m\u001b[37m\u001b[0m \u001b[1m3s\u001b[0m 3ms/step - accuracy: 0.8383 - loss: 0.3580 - val_accuracy: 0.8081 - val_loss: 0.4115\n",
            "Epoch 21/25\n",
            "\u001b[1m1222/1222\u001b[0m \u001b[32m━━━━━━━━━━━━━━━━━━━━\u001b[0m\u001b[37m\u001b[0m \u001b[1m6s\u001b[0m 4ms/step - accuracy: 0.8394 - loss: 0.3575 - val_accuracy: 0.8302 - val_loss: 0.3685\n",
            "Epoch 22/25\n",
            "\u001b[1m1222/1222\u001b[0m \u001b[32m━━━━━━━━━━━━━━━━━━━━\u001b[0m\u001b[37m\u001b[0m \u001b[1m4s\u001b[0m 3ms/step - accuracy: 0.8371 - loss: 0.3556 - val_accuracy: 0.8329 - val_loss: 0.3733\n",
            "Epoch 23/25\n",
            "\u001b[1m1222/1222\u001b[0m \u001b[32m━━━━━━━━━━━━━━━━━━━━\u001b[0m\u001b[37m\u001b[0m \u001b[1m4s\u001b[0m 3ms/step - accuracy: 0.8325 - loss: 0.3642 - val_accuracy: 0.8252 - val_loss: 0.3786\n",
            "Epoch 24/25\n",
            "\u001b[1m1222/1222\u001b[0m \u001b[32m━━━━━━━━━━━━━━━━━━━━\u001b[0m\u001b[37m\u001b[0m \u001b[1m5s\u001b[0m 3ms/step - accuracy: 0.8283 - loss: 0.3738 - val_accuracy: 0.8236 - val_loss: 0.3915\n",
            "Epoch 25/25\n",
            "\u001b[1m1222/1222\u001b[0m \u001b[32m━━━━━━━━━━━━━━━━━━━━\u001b[0m\u001b[37m\u001b[0m \u001b[1m4s\u001b[0m 3ms/step - accuracy: 0.8343 - loss: 0.3590 - val_accuracy: 0.8101 - val_loss: 0.4011\n"
          ]
        }
      ]
    },
    {
      "cell_type": "code",
      "source": [
        "inputs = tf.keras.Input(shape=(x_train.shape[1],))\n",
        "x = tf.keras.layers.Dense(128, activation='relu')(inputs)\n",
        "x = tf.keras.layers.Dense(128, activation='relu')(x)\n",
        "residual = tf.keras.layers.Dense(128, activation='relu')(inputs)\n",
        "x = tf.keras.layers.add([x, residual])\n",
        "x = tf.keras.layers.Dense(64, activation='relu')(x)\n",
        "outputs = tf.keras.layers.Dense(2, activation='softmax')(x)\n",
        "\n",
        "model4 = tf.keras.Model(inputs, outputs)\n",
        "\n",
        "model4.compile(optimizer='adam',\n",
        "              loss='categorical_crossentropy',\n",
        "              metrics=['accuracy'])\n",
        "\n",
        "history4 = model4.fit(x_train, tf.squeeze(tf.one_hot(y_train, depth = 2)), epochs = 25, validation_data = (x_test, tf.squeeze(tf.one_hot(y_test, depth = 2))))"
      ],
      "metadata": {
        "colab": {
          "base_uri": "https://localhost:8080/"
        },
        "id": "vwftKMmoaSyU",
        "outputId": "94edc130-3aad-43d6-f72c-4a29164075d9"
      },
      "id": "vwftKMmoaSyU",
      "execution_count": 70,
      "outputs": [
        {
          "output_type": "stream",
          "name": "stdout",
          "text": [
            "Epoch 1/25\n",
            "\u001b[1m1222/1222\u001b[0m \u001b[32m━━━━━━━━━━━━━━━━━━━━\u001b[0m\u001b[37m\u001b[0m \u001b[1m6s\u001b[0m 3ms/step - accuracy: 0.7604 - loss: 0.5491 - val_accuracy: 0.7783 - val_loss: 0.4697\n",
            "Epoch 2/25\n",
            "\u001b[1m1222/1222\u001b[0m \u001b[32m━━━━━━━━━━━━━━━━━━━━\u001b[0m\u001b[37m\u001b[0m \u001b[1m6s\u001b[0m 3ms/step - accuracy: 0.8170 - loss: 0.3843 - val_accuracy: 0.8084 - val_loss: 0.3876\n",
            "Epoch 3/25\n",
            "\u001b[1m1222/1222\u001b[0m \u001b[32m━━━━━━━━━━━━━━━━━━━━\u001b[0m\u001b[37m\u001b[0m \u001b[1m3s\u001b[0m 3ms/step - accuracy: 0.8290 - loss: 0.3606 - val_accuracy: 0.8317 - val_loss: 0.3553\n",
            "Epoch 4/25\n",
            "\u001b[1m1222/1222\u001b[0m \u001b[32m━━━━━━━━━━━━━━━━━━━━\u001b[0m\u001b[37m\u001b[0m \u001b[1m5s\u001b[0m 3ms/step - accuracy: 0.8341 - loss: 0.3510 - val_accuracy: 0.8391 - val_loss: 0.3426\n",
            "Epoch 5/25\n",
            "\u001b[1m1222/1222\u001b[0m \u001b[32m━━━━━━━━━━━━━━━━━━━━\u001b[0m\u001b[37m\u001b[0m \u001b[1m4s\u001b[0m 4ms/step - accuracy: 0.8324 - loss: 0.3529 - val_accuracy: 0.8265 - val_loss: 0.3604\n",
            "Epoch 6/25\n",
            "\u001b[1m1222/1222\u001b[0m \u001b[32m━━━━━━━━━━━━━━━━━━━━\u001b[0m\u001b[37m\u001b[0m \u001b[1m4s\u001b[0m 2ms/step - accuracy: 0.8334 - loss: 0.3498 - val_accuracy: 0.8362 - val_loss: 0.3436\n",
            "Epoch 7/25\n",
            "\u001b[1m1222/1222\u001b[0m \u001b[32m━━━━━━━━━━━━━━━━━━━━\u001b[0m\u001b[37m\u001b[0m \u001b[1m3s\u001b[0m 2ms/step - accuracy: 0.8367 - loss: 0.3408 - val_accuracy: 0.8356 - val_loss: 0.3493\n",
            "Epoch 8/25\n",
            "\u001b[1m1222/1222\u001b[0m \u001b[32m━━━━━━━━━━━━━━━━━━━━\u001b[0m\u001b[37m\u001b[0m \u001b[1m6s\u001b[0m 4ms/step - accuracy: 0.8395 - loss: 0.3412 - val_accuracy: 0.8385 - val_loss: 0.3382\n",
            "Epoch 9/25\n",
            "\u001b[1m1222/1222\u001b[0m \u001b[32m━━━━━━━━━━━━━━━━━━━━\u001b[0m\u001b[37m\u001b[0m \u001b[1m3s\u001b[0m 3ms/step - accuracy: 0.8446 - loss: 0.3364 - val_accuracy: 0.8455 - val_loss: 0.3373\n",
            "Epoch 10/25\n",
            "\u001b[1m1222/1222\u001b[0m \u001b[32m━━━━━━━━━━━━━━━━━━━━\u001b[0m\u001b[37m\u001b[0m \u001b[1m3s\u001b[0m 3ms/step - accuracy: 0.8448 - loss: 0.3314 - val_accuracy: 0.8325 - val_loss: 0.3409\n",
            "Epoch 11/25\n",
            "\u001b[1m1222/1222\u001b[0m \u001b[32m━━━━━━━━━━━━━━━━━━━━\u001b[0m\u001b[37m\u001b[0m \u001b[1m6s\u001b[0m 4ms/step - accuracy: 0.8393 - loss: 0.3370 - val_accuracy: 0.8421 - val_loss: 0.3342\n",
            "Epoch 12/25\n",
            "\u001b[1m1222/1222\u001b[0m \u001b[32m━━━━━━━━━━━━━━━━━━━━\u001b[0m\u001b[37m\u001b[0m \u001b[1m3s\u001b[0m 3ms/step - accuracy: 0.8439 - loss: 0.3300 - val_accuracy: 0.8344 - val_loss: 0.3474\n",
            "Epoch 13/25\n",
            "\u001b[1m1222/1222\u001b[0m \u001b[32m━━━━━━━━━━━━━━━━━━━━\u001b[0m\u001b[37m\u001b[0m \u001b[1m3s\u001b[0m 3ms/step - accuracy: 0.8435 - loss: 0.3308 - val_accuracy: 0.8397 - val_loss: 0.3374\n",
            "Epoch 14/25\n",
            "\u001b[1m1222/1222\u001b[0m \u001b[32m━━━━━━━━━━━━━━━━━━━━\u001b[0m\u001b[37m\u001b[0m \u001b[1m6s\u001b[0m 4ms/step - accuracy: 0.8397 - loss: 0.3341 - val_accuracy: 0.8330 - val_loss: 0.3574\n",
            "Epoch 15/25\n",
            "\u001b[1m1222/1222\u001b[0m \u001b[32m━━━━━━━━━━━━━━━━━━━━\u001b[0m\u001b[37m\u001b[0m \u001b[1m3s\u001b[0m 2ms/step - accuracy: 0.8424 - loss: 0.3342 - val_accuracy: 0.8426 - val_loss: 0.3372\n",
            "Epoch 16/25\n",
            "\u001b[1m1222/1222\u001b[0m \u001b[32m━━━━━━━━━━━━━━━━━━━━\u001b[0m\u001b[37m\u001b[0m \u001b[1m5s\u001b[0m 3ms/step - accuracy: 0.8431 - loss: 0.3298 - val_accuracy: 0.8426 - val_loss: 0.3338\n",
            "Epoch 17/25\n",
            "\u001b[1m1222/1222\u001b[0m \u001b[32m━━━━━━━━━━━━━━━━━━━━\u001b[0m\u001b[37m\u001b[0m \u001b[1m6s\u001b[0m 3ms/step - accuracy: 0.8461 - loss: 0.3305 - val_accuracy: 0.8454 - val_loss: 0.3274\n",
            "Epoch 18/25\n",
            "\u001b[1m1222/1222\u001b[0m \u001b[32m━━━━━━━━━━━━━━━━━━━━\u001b[0m\u001b[37m\u001b[0m \u001b[1m4s\u001b[0m 3ms/step - accuracy: 0.8474 - loss: 0.3244 - val_accuracy: 0.8408 - val_loss: 0.3347\n",
            "Epoch 19/25\n",
            "\u001b[1m1222/1222\u001b[0m \u001b[32m━━━━━━━━━━━━━━━━━━━━\u001b[0m\u001b[37m\u001b[0m \u001b[1m5s\u001b[0m 3ms/step - accuracy: 0.8478 - loss: 0.3263 - val_accuracy: 0.8462 - val_loss: 0.3279\n",
            "Epoch 20/25\n",
            "\u001b[1m1222/1222\u001b[0m \u001b[32m━━━━━━━━━━━━━━━━━━━━\u001b[0m\u001b[37m\u001b[0m \u001b[1m5s\u001b[0m 2ms/step - accuracy: 0.8486 - loss: 0.3228 - val_accuracy: 0.8459 - val_loss: 0.3275\n",
            "Epoch 21/25\n",
            "\u001b[1m1222/1222\u001b[0m \u001b[32m━━━━━━━━━━━━━━━━━━━━\u001b[0m\u001b[37m\u001b[0m \u001b[1m5s\u001b[0m 3ms/step - accuracy: 0.8513 - loss: 0.3190 - val_accuracy: 0.8471 - val_loss: 0.3258\n",
            "Epoch 22/25\n",
            "\u001b[1m1222/1222\u001b[0m \u001b[32m━━━━━━━━━━━━━━━━━━━━\u001b[0m\u001b[37m\u001b[0m \u001b[1m4s\u001b[0m 3ms/step - accuracy: 0.8446 - loss: 0.3276 - val_accuracy: 0.8475 - val_loss: 0.3225\n",
            "Epoch 23/25\n",
            "\u001b[1m1222/1222\u001b[0m \u001b[32m━━━━━━━━━━━━━━━━━━━━\u001b[0m\u001b[37m\u001b[0m \u001b[1m4s\u001b[0m 3ms/step - accuracy: 0.8460 - loss: 0.3254 - val_accuracy: 0.8443 - val_loss: 0.3315\n",
            "Epoch 24/25\n",
            "\u001b[1m1222/1222\u001b[0m \u001b[32m━━━━━━━━━━━━━━━━━━━━\u001b[0m\u001b[37m\u001b[0m \u001b[1m3s\u001b[0m 3ms/step - accuracy: 0.8502 - loss: 0.3178 - val_accuracy: 0.8419 - val_loss: 0.3332\n",
            "Epoch 25/25\n",
            "\u001b[1m1222/1222\u001b[0m \u001b[32m━━━━━━━━━━━━━━━━━━━━\u001b[0m\u001b[37m\u001b[0m \u001b[1m5s\u001b[0m 3ms/step - accuracy: 0.8504 - loss: 0.3179 - val_accuracy: 0.8437 - val_loss: 0.3318\n"
          ]
        }
      ]
    },
    {
      "cell_type": "code",
      "source": [
        "inputs = tf.keras.Input(shape=(x_train.shape[1],))\n",
        "deep = tf.keras.layers.Dense(256, activation='relu')(inputs)\n",
        "deep = tf.keras.layers.Dense(128, activation='relu')(deep)\n",
        "deep = tf.keras.layers.Dense(64, activation='relu')(deep)\n",
        "\n",
        "wide = tf.keras.layers.Dense(64, activation='relu')(inputs)\n",
        "\n",
        "concat = tf.keras.layers.concatenate([deep, wide])\n",
        "outputs = tf.keras.layers.Dense(2, activation='softmax')(concat)\n",
        "\n",
        "model5 = tf.keras.Model(inputs, outputs)\n",
        "\n",
        "model5.compile(optimizer='adam',\n",
        "              loss='categorical_crossentropy',\n",
        "              metrics=['accuracy'])\n",
        "\n",
        "history5 = model5.fit(x_train, tf.squeeze(tf.one_hot(y_train, depth = 2)), epochs = 25, validation_data = (x_test, tf.squeeze(tf.one_hot(y_test, depth = 2))))"
      ],
      "metadata": {
        "colab": {
          "base_uri": "https://localhost:8080/"
        },
        "id": "_j40CcFlafXD",
        "outputId": "07f3fd31-395f-47a6-f78f-1362fba7dc5b"
      },
      "id": "_j40CcFlafXD",
      "execution_count": 71,
      "outputs": [
        {
          "output_type": "stream",
          "name": "stdout",
          "text": [
            "Epoch 1/25\n",
            "\u001b[1m1222/1222\u001b[0m \u001b[32m━━━━━━━━━━━━━━━━━━━━\u001b[0m\u001b[37m\u001b[0m \u001b[1m5s\u001b[0m 3ms/step - accuracy: 0.7642 - loss: 0.5004 - val_accuracy: 0.7994 - val_loss: 0.4041\n",
            "Epoch 2/25\n",
            "\u001b[1m1222/1222\u001b[0m \u001b[32m━━━━━━━━━━━━━━━━━━━━\u001b[0m\u001b[37m\u001b[0m \u001b[1m3s\u001b[0m 3ms/step - accuracy: 0.8216 - loss: 0.3730 - val_accuracy: 0.8254 - val_loss: 0.3662\n",
            "Epoch 3/25\n",
            "\u001b[1m1222/1222\u001b[0m \u001b[32m━━━━━━━━━━━━━━━━━━━━\u001b[0m\u001b[37m\u001b[0m \u001b[1m5s\u001b[0m 4ms/step - accuracy: 0.8307 - loss: 0.3544 - val_accuracy: 0.8249 - val_loss: 0.3643\n",
            "Epoch 4/25\n",
            "\u001b[1m1222/1222\u001b[0m \u001b[32m━━━━━━━━━━━━━━━━━━━━\u001b[0m\u001b[37m\u001b[0m \u001b[1m3s\u001b[0m 3ms/step - accuracy: 0.8336 - loss: 0.3511 - val_accuracy: 0.8308 - val_loss: 0.3546\n",
            "Epoch 5/25\n",
            "\u001b[1m1222/1222\u001b[0m \u001b[32m━━━━━━━━━━━━━━━━━━━━\u001b[0m\u001b[37m\u001b[0m \u001b[1m3s\u001b[0m 3ms/step - accuracy: 0.8387 - loss: 0.3467 - val_accuracy: 0.8053 - val_loss: 0.4094\n",
            "Epoch 6/25\n",
            "\u001b[1m1222/1222\u001b[0m \u001b[32m━━━━━━━━━━━━━━━━━━━━\u001b[0m\u001b[37m\u001b[0m \u001b[1m7s\u001b[0m 4ms/step - accuracy: 0.8354 - loss: 0.3464 - val_accuracy: 0.8356 - val_loss: 0.3451\n",
            "Epoch 7/25\n",
            "\u001b[1m1222/1222\u001b[0m \u001b[32m━━━━━━━━━━━━━━━━━━━━\u001b[0m\u001b[37m\u001b[0m \u001b[1m8s\u001b[0m 3ms/step - accuracy: 0.8411 - loss: 0.3391 - val_accuracy: 0.8403 - val_loss: 0.3425\n",
            "Epoch 8/25\n",
            "\u001b[1m1222/1222\u001b[0m \u001b[32m━━━━━━━━━━━━━━━━━━━━\u001b[0m\u001b[37m\u001b[0m \u001b[1m5s\u001b[0m 4ms/step - accuracy: 0.8368 - loss: 0.3451 - val_accuracy: 0.8415 - val_loss: 0.3356\n",
            "Epoch 9/25\n",
            "\u001b[1m1222/1222\u001b[0m \u001b[32m━━━━━━━━━━━━━━━━━━━━\u001b[0m\u001b[37m\u001b[0m \u001b[1m4s\u001b[0m 3ms/step - accuracy: 0.8434 - loss: 0.3308 - val_accuracy: 0.8297 - val_loss: 0.3621\n",
            "Epoch 10/25\n",
            "\u001b[1m1222/1222\u001b[0m \u001b[32m━━━━━━━━━━━━━━━━━━━━\u001b[0m\u001b[37m\u001b[0m \u001b[1m3s\u001b[0m 3ms/step - accuracy: 0.8428 - loss: 0.3361 - val_accuracy: 0.8327 - val_loss: 0.3603\n",
            "Epoch 11/25\n",
            "\u001b[1m1222/1222\u001b[0m \u001b[32m━━━━━━━━━━━━━━━━━━━━\u001b[0m\u001b[37m\u001b[0m \u001b[1m4s\u001b[0m 3ms/step - accuracy: 0.8430 - loss: 0.3370 - val_accuracy: 0.8367 - val_loss: 0.3426\n",
            "Epoch 12/25\n",
            "\u001b[1m1222/1222\u001b[0m \u001b[32m━━━━━━━━━━━━━━━━━━━━\u001b[0m\u001b[37m\u001b[0m \u001b[1m5s\u001b[0m 3ms/step - accuracy: 0.8451 - loss: 0.3291 - val_accuracy: 0.8422 - val_loss: 0.3401\n",
            "Epoch 13/25\n",
            "\u001b[1m1222/1222\u001b[0m \u001b[32m━━━━━━━━━━━━━━━━━━━━\u001b[0m\u001b[37m\u001b[0m \u001b[1m3s\u001b[0m 3ms/step - accuracy: 0.8451 - loss: 0.3315 - val_accuracy: 0.8392 - val_loss: 0.3353\n",
            "Epoch 14/25\n",
            "\u001b[1m1222/1222\u001b[0m \u001b[32m━━━━━━━━━━━━━━━━━━━━\u001b[0m\u001b[37m\u001b[0m \u001b[1m6s\u001b[0m 4ms/step - accuracy: 0.8458 - loss: 0.3283 - val_accuracy: 0.8395 - val_loss: 0.3375\n",
            "Epoch 15/25\n",
            "\u001b[1m1222/1222\u001b[0m \u001b[32m━━━━━━━━━━━━━━━━━━━━\u001b[0m\u001b[37m\u001b[0m \u001b[1m4s\u001b[0m 3ms/step - accuracy: 0.8472 - loss: 0.3262 - val_accuracy: 0.8450 - val_loss: 0.3332\n",
            "Epoch 16/25\n",
            "\u001b[1m1222/1222\u001b[0m \u001b[32m━━━━━━━━━━━━━━━━━━━━\u001b[0m\u001b[37m\u001b[0m \u001b[1m5s\u001b[0m 3ms/step - accuracy: 0.8480 - loss: 0.3247 - val_accuracy: 0.8386 - val_loss: 0.3381\n",
            "Epoch 17/25\n",
            "\u001b[1m1222/1222\u001b[0m \u001b[32m━━━━━━━━━━━━━━━━━━━━\u001b[0m\u001b[37m\u001b[0m \u001b[1m7s\u001b[0m 4ms/step - accuracy: 0.8471 - loss: 0.3260 - val_accuracy: 0.8234 - val_loss: 0.3640\n",
            "Epoch 18/25\n",
            "\u001b[1m1222/1222\u001b[0m \u001b[32m━━━━━━━━━━━━━━━━━━━━\u001b[0m\u001b[37m\u001b[0m \u001b[1m3s\u001b[0m 3ms/step - accuracy: 0.8420 - loss: 0.3343 - val_accuracy: 0.8476 - val_loss: 0.3282\n",
            "Epoch 19/25\n",
            "\u001b[1m1222/1222\u001b[0m \u001b[32m━━━━━━━━━━━━━━━━━━━━\u001b[0m\u001b[37m\u001b[0m \u001b[1m3s\u001b[0m 3ms/step - accuracy: 0.8484 - loss: 0.3238 - val_accuracy: 0.8406 - val_loss: 0.3380\n",
            "Epoch 20/25\n",
            "\u001b[1m1222/1222\u001b[0m \u001b[32m━━━━━━━━━━━━━━━━━━━━\u001b[0m\u001b[37m\u001b[0m \u001b[1m4s\u001b[0m 3ms/step - accuracy: 0.8522 - loss: 0.3216 - val_accuracy: 0.8451 - val_loss: 0.3312\n",
            "Epoch 21/25\n",
            "\u001b[1m1222/1222\u001b[0m \u001b[32m━━━━━━━━━━━━━━━━━━━━\u001b[0m\u001b[37m\u001b[0m \u001b[1m5s\u001b[0m 4ms/step - accuracy: 0.8497 - loss: 0.3249 - val_accuracy: 0.8514 - val_loss: 0.3231\n",
            "Epoch 22/25\n",
            "\u001b[1m1222/1222\u001b[0m \u001b[32m━━━━━━━━━━━━━━━━━━━━\u001b[0m\u001b[37m\u001b[0m \u001b[1m3s\u001b[0m 3ms/step - accuracy: 0.8486 - loss: 0.3247 - val_accuracy: 0.8460 - val_loss: 0.3276\n",
            "Epoch 23/25\n",
            "\u001b[1m1222/1222\u001b[0m \u001b[32m━━━━━━━━━━━━━━━━━━━━\u001b[0m\u001b[37m\u001b[0m \u001b[1m6s\u001b[0m 3ms/step - accuracy: 0.8495 - loss: 0.3195 - val_accuracy: 0.8445 - val_loss: 0.3327\n",
            "Epoch 24/25\n",
            "\u001b[1m1222/1222\u001b[0m \u001b[32m━━━━━━━━━━━━━━━━━━━━\u001b[0m\u001b[37m\u001b[0m \u001b[1m5s\u001b[0m 4ms/step - accuracy: 0.8471 - loss: 0.3243 - val_accuracy: 0.8507 - val_loss: 0.3228\n",
            "Epoch 25/25\n",
            "\u001b[1m1222/1222\u001b[0m \u001b[32m━━━━━━━━━━━━━━━━━━━━\u001b[0m\u001b[37m\u001b[0m \u001b[1m3s\u001b[0m 3ms/step - accuracy: 0.8479 - loss: 0.3193 - val_accuracy: 0.8385 - val_loss: 0.3440\n"
          ]
        }
      ]
    },
    {
      "cell_type": "code",
      "source": [
        "(np.array(history.history['val_accuracy']).max() + np.array(history1.history['val_accuracy']).max() + np.array(history2.history['val_accuracy']).max() + np.array(history3.history['val_accuracy']).max() + np.array(history4.history['val_accuracy']).max() + np.array(history5.history['val_accuracy']).max()) / 6.0"
      ],
      "metadata": {
        "colab": {
          "base_uri": "https://localhost:8080/"
        },
        "id": "aQdBWgk8aq7d",
        "outputId": "636d1bb5-8055-4ff0-f9b6-d6152c76e03b"
      },
      "id": "aQdBWgk8aq7d",
      "execution_count": 76,
      "outputs": [
        {
          "output_type": "execute_result",
          "data": {
            "text/plain": [
              "0.8452929457028707"
            ]
          },
          "metadata": {},
          "execution_count": 76
        }
      ]
    },
    {
      "cell_type": "code",
      "source": [],
      "metadata": {
        "id": "BVavntKTdKQ4"
      },
      "id": "BVavntKTdKQ4",
      "execution_count": null,
      "outputs": []
    }
  ],
  "metadata": {
    "kernelspec": {
      "display_name": "Python 3",
      "name": "python3"
    },
    "language_info": {
      "codemirror_mode": {
        "name": "ipython",
        "version": 3
      },
      "file_extension": ".py",
      "mimetype": "text/x-python",
      "name": "python",
      "nbconvert_exporter": "python",
      "pygments_lexer": "ipython3",
      "version": "3.12.4"
    },
    "colab": {
      "provenance": []
    }
  },
  "nbformat": 4,
  "nbformat_minor": 5
}
